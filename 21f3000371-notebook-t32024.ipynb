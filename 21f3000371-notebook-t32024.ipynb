{
 "cells": [
  {
   "cell_type": "markdown",
   "id": "00f678d6",
   "metadata": {
    "papermill": {
     "duration": 0.019984,
     "end_time": "2024-12-11T07:27:36.046299",
     "exception": false,
     "start_time": "2024-12-11T07:27:36.026315",
     "status": "completed"
    },
    "tags": []
   },
   "source": [
    "# Importing Necessary Libraries"
   ]
  },
  {
   "cell_type": "code",
   "execution_count": 1,
   "id": "99a30c85",
   "metadata": {
    "execution": {
     "iopub.execute_input": "2024-12-11T07:27:36.086341Z",
     "iopub.status.busy": "2024-12-11T07:27:36.085922Z",
     "iopub.status.idle": "2024-12-11T07:27:40.362975Z",
     "shell.execute_reply": "2024-12-11T07:27:40.361914Z"
    },
    "papermill": {
     "duration": 4.300102,
     "end_time": "2024-12-11T07:27:40.365403",
     "exception": false,
     "start_time": "2024-12-11T07:27:36.065301",
     "status": "completed"
    },
    "tags": []
   },
   "outputs": [],
   "source": [
    "import pandas as pd\n",
    "import numpy as np\n",
    "import seaborn as sns\n",
    "import matplotlib.pyplot as plt\n",
    "\n",
    "from datetime import datetime\n",
    "from scipy.stats import skew\n",
    "\n",
    "from sklearn.pipeline import Pipeline, FeatureUnion\n",
    "from sklearn.model_selection import train_test_split\n",
    "from sklearn.experimental import enable_iterative_imputer\n",
    "from sklearn.impute import SimpleImputer, IterativeImputer\n",
    "from sklearn.preprocessing import FunctionTransformer, StandardScaler, OneHotEncoder, label_binarize, MinMaxScaler\n",
    "from sklearn.preprocessing import OrdinalEncoder, LabelEncoder\n",
    "from sklearn.compose import ColumnTransformer\n",
    "from sklearn.feature_extraction.text import TfidfVectorizer, CountVectorizer\n",
    "from sklearn.model_selection import StratifiedShuffleSplit\n",
    "from sklearn.model_selection import cross_validate, GridSearchCV\n",
    "from sklearn.feature_selection import chi2\n",
    "from sklearn.feature_selection import SelectKBest, chi2, mutual_info_classif, f_classif\n",
    "from sklearn.feature_selection import VarianceThreshold, SelectFromModel, SelectPercentile\n",
    "from sklearn.multiclass import OneVsRestClassifier\n",
    "\n",
    "from xgboost import XGBClassifier\n",
    "from sklearn.svm import LinearSVC\n",
    "from sklearn.linear_model import LogisticRegression\n",
    "from lightgbm import LGBMClassifier\n",
    "from sklearn.ensemble import VotingClassifier\n",
    "from sklearn.tree import DecisionTreeClassifier\n",
    "\n",
    "from sklearn.metrics import confusion_matrix, classification_report, accuracy_score, roc_curve, auc\n",
    "from sklearn.utils.multiclass import type_of_target\n",
    "import re\n",
    "from sklearn.decomposition import TruncatedSVD\n",
    "from sklearn.decomposition import PCA\n",
    "\n",
    "import warnings\n",
    "warnings.filterwarnings(\"ignore\", category=FutureWarning)"
   ]
  },
  {
   "cell_type": "markdown",
   "id": "0f88fd44",
   "metadata": {
    "papermill": {
     "duration": 0.018358,
     "end_time": "2024-12-11T07:27:40.402780",
     "exception": false,
     "start_time": "2024-12-11T07:27:40.384422",
     "status": "completed"
    },
    "tags": []
   },
   "source": [
    "# Loading Competition Data"
   ]
  },
  {
   "cell_type": "code",
   "execution_count": 2,
   "id": "a71deeb4",
   "metadata": {
    "execution": {
     "iopub.execute_input": "2024-12-11T07:27:40.442452Z",
     "iopub.status.busy": "2024-12-11T07:27:40.441159Z",
     "iopub.status.idle": "2024-12-11T07:27:40.596959Z",
     "shell.execute_reply": "2024-12-11T07:27:40.595803Z"
    },
    "papermill": {
     "duration": 0.178027,
     "end_time": "2024-12-11T07:27:40.599397",
     "exception": false,
     "start_time": "2024-12-11T07:27:40.421370",
     "status": "completed"
    },
    "tags": []
   },
   "outputs": [],
   "source": [
    "train = pd.read_csv(\"/kaggle/input/predict-the-success-of-bank-telemarketing/train.csv\")\n",
    "test = pd.read_csv(\"/kaggle/input/predict-the-success-of-bank-telemarketing/test.csv\")"
   ]
  },
  {
   "cell_type": "code",
   "execution_count": 3,
   "id": "3df9d340",
   "metadata": {
    "execution": {
     "iopub.execute_input": "2024-12-11T07:27:40.637892Z",
     "iopub.status.busy": "2024-12-11T07:27:40.637499Z",
     "iopub.status.idle": "2024-12-11T07:27:40.662299Z",
     "shell.execute_reply": "2024-12-11T07:27:40.661199Z"
    },
    "papermill": {
     "duration": 0.046385,
     "end_time": "2024-12-11T07:27:40.664230",
     "exception": false,
     "start_time": "2024-12-11T07:27:40.617845",
     "status": "completed"
    },
    "tags": []
   },
   "outputs": [
    {
     "data": {
      "text/html": [
       "<div>\n",
       "<style scoped>\n",
       "    .dataframe tbody tr th:only-of-type {\n",
       "        vertical-align: middle;\n",
       "    }\n",
       "\n",
       "    .dataframe tbody tr th {\n",
       "        vertical-align: top;\n",
       "    }\n",
       "\n",
       "    .dataframe thead th {\n",
       "        text-align: right;\n",
       "    }\n",
       "</style>\n",
       "<table border=\"1\" class=\"dataframe\">\n",
       "  <thead>\n",
       "    <tr style=\"text-align: right;\">\n",
       "      <th></th>\n",
       "      <th>last contact date</th>\n",
       "      <th>age</th>\n",
       "      <th>job</th>\n",
       "      <th>marital</th>\n",
       "      <th>education</th>\n",
       "      <th>default</th>\n",
       "      <th>balance</th>\n",
       "      <th>housing</th>\n",
       "      <th>loan</th>\n",
       "      <th>contact</th>\n",
       "      <th>duration</th>\n",
       "      <th>campaign</th>\n",
       "      <th>pdays</th>\n",
       "      <th>previous</th>\n",
       "      <th>poutcome</th>\n",
       "      <th>target</th>\n",
       "    </tr>\n",
       "  </thead>\n",
       "  <tbody>\n",
       "    <tr>\n",
       "      <th>0</th>\n",
       "      <td>2009-04-17</td>\n",
       "      <td>26</td>\n",
       "      <td>blue-collar</td>\n",
       "      <td>married</td>\n",
       "      <td>secondary</td>\n",
       "      <td>no</td>\n",
       "      <td>647</td>\n",
       "      <td>yes</td>\n",
       "      <td>no</td>\n",
       "      <td>cellular</td>\n",
       "      <td>357</td>\n",
       "      <td>2</td>\n",
       "      <td>331</td>\n",
       "      <td>1</td>\n",
       "      <td>other</td>\n",
       "      <td>no</td>\n",
       "    </tr>\n",
       "    <tr>\n",
       "      <th>1</th>\n",
       "      <td>2009-10-11</td>\n",
       "      <td>52</td>\n",
       "      <td>technician</td>\n",
       "      <td>married</td>\n",
       "      <td>secondary</td>\n",
       "      <td>no</td>\n",
       "      <td>553</td>\n",
       "      <td>yes</td>\n",
       "      <td>no</td>\n",
       "      <td>telephone</td>\n",
       "      <td>160</td>\n",
       "      <td>1</td>\n",
       "      <td>-1</td>\n",
       "      <td>0</td>\n",
       "      <td>NaN</td>\n",
       "      <td>no</td>\n",
       "    </tr>\n",
       "    <tr>\n",
       "      <th>2</th>\n",
       "      <td>2010-11-20</td>\n",
       "      <td>44</td>\n",
       "      <td>blue-collar</td>\n",
       "      <td>married</td>\n",
       "      <td>secondary</td>\n",
       "      <td>no</td>\n",
       "      <td>1397</td>\n",
       "      <td>no</td>\n",
       "      <td>no</td>\n",
       "      <td>cellular</td>\n",
       "      <td>326</td>\n",
       "      <td>1</td>\n",
       "      <td>-1</td>\n",
       "      <td>0</td>\n",
       "      <td>NaN</td>\n",
       "      <td>no</td>\n",
       "    </tr>\n",
       "    <tr>\n",
       "      <th>3</th>\n",
       "      <td>2009-09-01</td>\n",
       "      <td>33</td>\n",
       "      <td>admin.</td>\n",
       "      <td>married</td>\n",
       "      <td>secondary</td>\n",
       "      <td>no</td>\n",
       "      <td>394</td>\n",
       "      <td>yes</td>\n",
       "      <td>no</td>\n",
       "      <td>telephone</td>\n",
       "      <td>104</td>\n",
       "      <td>3</td>\n",
       "      <td>-1</td>\n",
       "      <td>0</td>\n",
       "      <td>NaN</td>\n",
       "      <td>no</td>\n",
       "    </tr>\n",
       "    <tr>\n",
       "      <th>4</th>\n",
       "      <td>2008-01-29</td>\n",
       "      <td>31</td>\n",
       "      <td>entrepreneur</td>\n",
       "      <td>single</td>\n",
       "      <td>tertiary</td>\n",
       "      <td>no</td>\n",
       "      <td>137</td>\n",
       "      <td>no</td>\n",
       "      <td>no</td>\n",
       "      <td>cellular</td>\n",
       "      <td>445</td>\n",
       "      <td>2</td>\n",
       "      <td>-1</td>\n",
       "      <td>0</td>\n",
       "      <td>NaN</td>\n",
       "      <td>no</td>\n",
       "    </tr>\n",
       "  </tbody>\n",
       "</table>\n",
       "</div>"
      ],
      "text/plain": [
       "  last contact date  age           job  marital  education default  balance  \\\n",
       "0        2009-04-17   26   blue-collar  married  secondary      no      647   \n",
       "1        2009-10-11   52    technician  married  secondary      no      553   \n",
       "2        2010-11-20   44   blue-collar  married  secondary      no     1397   \n",
       "3        2009-09-01   33        admin.  married  secondary      no      394   \n",
       "4        2008-01-29   31  entrepreneur   single   tertiary      no      137   \n",
       "\n",
       "  housing loan    contact  duration  campaign  pdays  previous poutcome target  \n",
       "0     yes   no   cellular       357         2    331         1    other     no  \n",
       "1     yes   no  telephone       160         1     -1         0      NaN     no  \n",
       "2      no   no   cellular       326         1     -1         0      NaN     no  \n",
       "3     yes   no  telephone       104         3     -1         0      NaN     no  \n",
       "4      no   no   cellular       445         2     -1         0      NaN     no  "
      ]
     },
     "execution_count": 3,
     "metadata": {},
     "output_type": "execute_result"
    }
   ],
   "source": [
    "train.head()\n",
    "\n"
   ]
  },
  {
   "cell_type": "code",
   "execution_count": 4,
   "id": "44324acc",
   "metadata": {
    "execution": {
     "iopub.execute_input": "2024-12-11T07:27:40.703450Z",
     "iopub.status.busy": "2024-12-11T07:27:40.702676Z",
     "iopub.status.idle": "2024-12-11T07:27:40.717874Z",
     "shell.execute_reply": "2024-12-11T07:27:40.716887Z"
    },
    "papermill": {
     "duration": 0.036702,
     "end_time": "2024-12-11T07:27:40.719722",
     "exception": false,
     "start_time": "2024-12-11T07:27:40.683020",
     "status": "completed"
    },
    "tags": []
   },
   "outputs": [
    {
     "data": {
      "text/html": [
       "<div>\n",
       "<style scoped>\n",
       "    .dataframe tbody tr th:only-of-type {\n",
       "        vertical-align: middle;\n",
       "    }\n",
       "\n",
       "    .dataframe tbody tr th {\n",
       "        vertical-align: top;\n",
       "    }\n",
       "\n",
       "    .dataframe thead th {\n",
       "        text-align: right;\n",
       "    }\n",
       "</style>\n",
       "<table border=\"1\" class=\"dataframe\">\n",
       "  <thead>\n",
       "    <tr style=\"text-align: right;\">\n",
       "      <th></th>\n",
       "      <th>last contact date</th>\n",
       "      <th>age</th>\n",
       "      <th>job</th>\n",
       "      <th>marital</th>\n",
       "      <th>education</th>\n",
       "      <th>default</th>\n",
       "      <th>balance</th>\n",
       "      <th>housing</th>\n",
       "      <th>loan</th>\n",
       "      <th>contact</th>\n",
       "      <th>duration</th>\n",
       "      <th>campaign</th>\n",
       "      <th>pdays</th>\n",
       "      <th>previous</th>\n",
       "      <th>poutcome</th>\n",
       "      <th>target</th>\n",
       "    </tr>\n",
       "  </thead>\n",
       "  <tbody>\n",
       "    <tr>\n",
       "      <th>39206</th>\n",
       "      <td>2008-07-31</td>\n",
       "      <td>31</td>\n",
       "      <td>technician</td>\n",
       "      <td>single</td>\n",
       "      <td>secondary</td>\n",
       "      <td>no</td>\n",
       "      <td>0</td>\n",
       "      <td>yes</td>\n",
       "      <td>no</td>\n",
       "      <td>cellular</td>\n",
       "      <td>16</td>\n",
       "      <td>34</td>\n",
       "      <td>-1</td>\n",
       "      <td>0</td>\n",
       "      <td>NaN</td>\n",
       "      <td>no</td>\n",
       "    </tr>\n",
       "    <tr>\n",
       "      <th>39207</th>\n",
       "      <td>2009-07-31</td>\n",
       "      <td>59</td>\n",
       "      <td>admin.</td>\n",
       "      <td>married</td>\n",
       "      <td>primary</td>\n",
       "      <td>no</td>\n",
       "      <td>6187</td>\n",
       "      <td>no</td>\n",
       "      <td>no</td>\n",
       "      <td>cellular</td>\n",
       "      <td>114</td>\n",
       "      <td>4</td>\n",
       "      <td>-1</td>\n",
       "      <td>0</td>\n",
       "      <td>NaN</td>\n",
       "      <td>no</td>\n",
       "    </tr>\n",
       "    <tr>\n",
       "      <th>39208</th>\n",
       "      <td>2008-06-02</td>\n",
       "      <td>36</td>\n",
       "      <td>blue-collar</td>\n",
       "      <td>married</td>\n",
       "      <td>secondary</td>\n",
       "      <td>no</td>\n",
       "      <td>63</td>\n",
       "      <td>yes</td>\n",
       "      <td>no</td>\n",
       "      <td>NaN</td>\n",
       "      <td>56</td>\n",
       "      <td>8</td>\n",
       "      <td>-1</td>\n",
       "      <td>0</td>\n",
       "      <td>NaN</td>\n",
       "      <td>no</td>\n",
       "    </tr>\n",
       "    <tr>\n",
       "      <th>39209</th>\n",
       "      <td>2010-03-20</td>\n",
       "      <td>28</td>\n",
       "      <td>student</td>\n",
       "      <td>single</td>\n",
       "      <td>secondary</td>\n",
       "      <td>no</td>\n",
       "      <td>5916</td>\n",
       "      <td>no</td>\n",
       "      <td>no</td>\n",
       "      <td>cellular</td>\n",
       "      <td>93</td>\n",
       "      <td>5</td>\n",
       "      <td>-1</td>\n",
       "      <td>0</td>\n",
       "      <td>NaN</td>\n",
       "      <td>no</td>\n",
       "    </tr>\n",
       "    <tr>\n",
       "      <th>39210</th>\n",
       "      <td>2010-03-16</td>\n",
       "      <td>51</td>\n",
       "      <td>student</td>\n",
       "      <td>divorced</td>\n",
       "      <td>tertiary</td>\n",
       "      <td>yes</td>\n",
       "      <td>38594</td>\n",
       "      <td>yes</td>\n",
       "      <td>no</td>\n",
       "      <td>cellular</td>\n",
       "      <td>1877</td>\n",
       "      <td>19</td>\n",
       "      <td>780</td>\n",
       "      <td>148</td>\n",
       "      <td>success</td>\n",
       "      <td>yes</td>\n",
       "    </tr>\n",
       "  </tbody>\n",
       "</table>\n",
       "</div>"
      ],
      "text/plain": [
       "      last contact date  age          job   marital  education default  \\\n",
       "39206        2008-07-31   31   technician    single  secondary      no   \n",
       "39207        2009-07-31   59       admin.   married    primary      no   \n",
       "39208        2008-06-02   36  blue-collar   married  secondary      no   \n",
       "39209        2010-03-20   28      student    single  secondary      no   \n",
       "39210        2010-03-16   51      student  divorced   tertiary     yes   \n",
       "\n",
       "       balance housing loan   contact  duration  campaign  pdays  previous  \\\n",
       "39206        0     yes   no  cellular        16        34     -1         0   \n",
       "39207     6187      no   no  cellular       114         4     -1         0   \n",
       "39208       63     yes   no       NaN        56         8     -1         0   \n",
       "39209     5916      no   no  cellular        93         5     -1         0   \n",
       "39210    38594     yes   no  cellular      1877        19    780       148   \n",
       "\n",
       "      poutcome target  \n",
       "39206      NaN     no  \n",
       "39207      NaN     no  \n",
       "39208      NaN     no  \n",
       "39209      NaN     no  \n",
       "39210  success    yes  "
      ]
     },
     "execution_count": 4,
     "metadata": {},
     "output_type": "execute_result"
    }
   ],
   "source": [
    "train.tail()"
   ]
  },
  {
   "cell_type": "code",
   "execution_count": 5,
   "id": "9224989a",
   "metadata": {
    "execution": {
     "iopub.execute_input": "2024-12-11T07:27:40.759097Z",
     "iopub.status.busy": "2024-12-11T07:27:40.758703Z",
     "iopub.status.idle": "2024-12-11T07:27:40.765085Z",
     "shell.execute_reply": "2024-12-11T07:27:40.763901Z"
    },
    "papermill": {
     "duration": 0.029278,
     "end_time": "2024-12-11T07:27:40.767737",
     "exception": false,
     "start_time": "2024-12-11T07:27:40.738459",
     "status": "completed"
    },
    "tags": []
   },
   "outputs": [
    {
     "name": "stdout",
     "output_type": "stream",
     "text": [
      "TRAIN DATA: (39211, 16)\n",
      "TEST DATA: (10000, 15)\n"
     ]
    }
   ],
   "source": [
    "print('TRAIN DATA:', train.shape)\n",
    "print('TEST DATA:', test.shape)"
   ]
  },
  {
   "cell_type": "markdown",
   "id": "9fee5ab7",
   "metadata": {
    "papermill": {
     "duration": 0.018968,
     "end_time": "2024-12-11T07:27:40.805989",
     "exception": false,
     "start_time": "2024-12-11T07:27:40.787021",
     "status": "completed"
    },
    "tags": []
   },
   "source": [
    "# **Exploratary Data Analysis**"
   ]
  },
  {
   "cell_type": "code",
   "execution_count": 6,
   "id": "9b30be6b",
   "metadata": {
    "execution": {
     "iopub.execute_input": "2024-12-11T07:27:40.855595Z",
     "iopub.status.busy": "2024-12-11T07:27:40.855118Z",
     "iopub.status.idle": "2024-12-11T07:27:40.902793Z",
     "shell.execute_reply": "2024-12-11T07:27:40.901766Z"
    },
    "papermill": {
     "duration": 0.075166,
     "end_time": "2024-12-11T07:27:40.905056",
     "exception": false,
     "start_time": "2024-12-11T07:27:40.829890",
     "status": "completed"
    },
    "tags": []
   },
   "outputs": [
    {
     "name": "stdout",
     "output_type": "stream",
     "text": [
      "<class 'pandas.core.frame.DataFrame'>\n",
      "RangeIndex: 39211 entries, 0 to 39210\n",
      "Data columns (total 16 columns):\n",
      " #   Column             Non-Null Count  Dtype \n",
      "---  ------             --------------  ----- \n",
      " 0   last contact date  39211 non-null  object\n",
      " 1   age                39211 non-null  int64 \n",
      " 2   job                38982 non-null  object\n",
      " 3   marital            39211 non-null  object\n",
      " 4   education          37744 non-null  object\n",
      " 5   default            39211 non-null  object\n",
      " 6   balance            39211 non-null  int64 \n",
      " 7   housing            39211 non-null  object\n",
      " 8   loan               39211 non-null  object\n",
      " 9   contact            28875 non-null  object\n",
      " 10  duration           39211 non-null  int64 \n",
      " 11  campaign           39211 non-null  int64 \n",
      " 12  pdays              39211 non-null  int64 \n",
      " 13  previous           39211 non-null  int64 \n",
      " 14  poutcome           9760 non-null   object\n",
      " 15  target             39211 non-null  object\n",
      "dtypes: int64(6), object(10)\n",
      "memory usage: 4.8+ MB\n"
     ]
    }
   ],
   "source": [
    "train.info()"
   ]
  },
  {
   "cell_type": "markdown",
   "id": "114383a0",
   "metadata": {
    "papermill": {
     "duration": 0.018782,
     "end_time": "2024-12-11T07:27:40.942922",
     "exception": false,
     "start_time": "2024-12-11T07:27:40.924140",
     "status": "completed"
    },
    "tags": []
   },
   "source": [
    "- The dataset is a mixture of string and numerical datatypes need to transform accordingly"
   ]
  },
  {
   "cell_type": "code",
   "execution_count": 7,
   "id": "a3fe4b7e",
   "metadata": {
    "execution": {
     "iopub.execute_input": "2024-12-11T07:27:40.982779Z",
     "iopub.status.busy": "2024-12-11T07:27:40.982080Z",
     "iopub.status.idle": "2024-12-11T07:27:41.001619Z",
     "shell.execute_reply": "2024-12-11T07:27:41.000343Z"
    },
    "papermill": {
     "duration": 0.04267,
     "end_time": "2024-12-11T07:27:41.004485",
     "exception": false,
     "start_time": "2024-12-11T07:27:40.961815",
     "status": "completed"
    },
    "tags": []
   },
   "outputs": [
    {
     "name": "stdout",
     "output_type": "stream",
     "text": [
      "<class 'pandas.core.frame.DataFrame'>\n",
      "RangeIndex: 10000 entries, 0 to 9999\n",
      "Data columns (total 15 columns):\n",
      " #   Column             Non-Null Count  Dtype \n",
      "---  ------             --------------  ----- \n",
      " 0   last contact date  10000 non-null  object\n",
      " 1   age                10000 non-null  int64 \n",
      " 2   job                9941 non-null   object\n",
      " 3   marital            10000 non-null  object\n",
      " 4   education          9610 non-null   object\n",
      " 5   default            10000 non-null  object\n",
      " 6   balance            10000 non-null  int64 \n",
      " 7   housing            10000 non-null  object\n",
      " 8   loan               10000 non-null  object\n",
      " 9   contact            7316 non-null   object\n",
      " 10  duration           10000 non-null  int64 \n",
      " 11  campaign           10000 non-null  int64 \n",
      " 12  pdays              10000 non-null  int64 \n",
      " 13  previous           10000 non-null  int64 \n",
      " 14  poutcome           2492 non-null   object\n",
      "dtypes: int64(6), object(9)\n",
      "memory usage: 1.1+ MB\n"
     ]
    }
   ],
   "source": [
    "test.info()"
   ]
  },
  {
   "cell_type": "code",
   "execution_count": 8,
   "id": "f3149cb7",
   "metadata": {
    "execution": {
     "iopub.execute_input": "2024-12-11T07:27:41.059244Z",
     "iopub.status.busy": "2024-12-11T07:27:41.058113Z",
     "iopub.status.idle": "2024-12-11T07:27:41.102502Z",
     "shell.execute_reply": "2024-12-11T07:27:41.101434Z"
    },
    "papermill": {
     "duration": 0.069903,
     "end_time": "2024-12-11T07:27:41.104566",
     "exception": false,
     "start_time": "2024-12-11T07:27:41.034663",
     "status": "completed"
    },
    "tags": []
   },
   "outputs": [
    {
     "data": {
      "text/html": [
       "<div>\n",
       "<style scoped>\n",
       "    .dataframe tbody tr th:only-of-type {\n",
       "        vertical-align: middle;\n",
       "    }\n",
       "\n",
       "    .dataframe tbody tr th {\n",
       "        vertical-align: top;\n",
       "    }\n",
       "\n",
       "    .dataframe thead th {\n",
       "        text-align: right;\n",
       "    }\n",
       "</style>\n",
       "<table border=\"1\" class=\"dataframe\">\n",
       "  <thead>\n",
       "    <tr style=\"text-align: right;\">\n",
       "      <th></th>\n",
       "      <th>age</th>\n",
       "      <th>balance</th>\n",
       "      <th>duration</th>\n",
       "      <th>campaign</th>\n",
       "      <th>pdays</th>\n",
       "      <th>previous</th>\n",
       "    </tr>\n",
       "  </thead>\n",
       "  <tbody>\n",
       "    <tr>\n",
       "      <th>count</th>\n",
       "      <td>39211.000000</td>\n",
       "      <td>39211.000000</td>\n",
       "      <td>39211.000000</td>\n",
       "      <td>39211.000000</td>\n",
       "      <td>39211.000000</td>\n",
       "      <td>39211.000000</td>\n",
       "    </tr>\n",
       "    <tr>\n",
       "      <th>mean</th>\n",
       "      <td>42.120247</td>\n",
       "      <td>5441.781719</td>\n",
       "      <td>439.062789</td>\n",
       "      <td>5.108770</td>\n",
       "      <td>72.256051</td>\n",
       "      <td>11.826171</td>\n",
       "    </tr>\n",
       "    <tr>\n",
       "      <th>std</th>\n",
       "      <td>12.709352</td>\n",
       "      <td>16365.292065</td>\n",
       "      <td>769.096291</td>\n",
       "      <td>9.890153</td>\n",
       "      <td>160.942593</td>\n",
       "      <td>44.140259</td>\n",
       "    </tr>\n",
       "    <tr>\n",
       "      <th>min</th>\n",
       "      <td>18.000000</td>\n",
       "      <td>-8019.000000</td>\n",
       "      <td>0.000000</td>\n",
       "      <td>1.000000</td>\n",
       "      <td>-1.000000</td>\n",
       "      <td>0.000000</td>\n",
       "    </tr>\n",
       "    <tr>\n",
       "      <th>25%</th>\n",
       "      <td>33.000000</td>\n",
       "      <td>98.000000</td>\n",
       "      <td>109.000000</td>\n",
       "      <td>1.000000</td>\n",
       "      <td>-1.000000</td>\n",
       "      <td>0.000000</td>\n",
       "    </tr>\n",
       "    <tr>\n",
       "      <th>50%</th>\n",
       "      <td>40.000000</td>\n",
       "      <td>549.000000</td>\n",
       "      <td>197.000000</td>\n",
       "      <td>2.000000</td>\n",
       "      <td>-1.000000</td>\n",
       "      <td>0.000000</td>\n",
       "    </tr>\n",
       "    <tr>\n",
       "      <th>75%</th>\n",
       "      <td>50.000000</td>\n",
       "      <td>2030.000000</td>\n",
       "      <td>380.000000</td>\n",
       "      <td>4.000000</td>\n",
       "      <td>-1.000000</td>\n",
       "      <td>0.000000</td>\n",
       "    </tr>\n",
       "    <tr>\n",
       "      <th>max</th>\n",
       "      <td>95.000000</td>\n",
       "      <td>102127.000000</td>\n",
       "      <td>4918.000000</td>\n",
       "      <td>63.000000</td>\n",
       "      <td>871.000000</td>\n",
       "      <td>275.000000</td>\n",
       "    </tr>\n",
       "  </tbody>\n",
       "</table>\n",
       "</div>"
      ],
      "text/plain": [
       "                age        balance      duration      campaign         pdays  \\\n",
       "count  39211.000000   39211.000000  39211.000000  39211.000000  39211.000000   \n",
       "mean      42.120247    5441.781719    439.062789      5.108770     72.256051   \n",
       "std       12.709352   16365.292065    769.096291      9.890153    160.942593   \n",
       "min       18.000000   -8019.000000      0.000000      1.000000     -1.000000   \n",
       "25%       33.000000      98.000000    109.000000      1.000000     -1.000000   \n",
       "50%       40.000000     549.000000    197.000000      2.000000     -1.000000   \n",
       "75%       50.000000    2030.000000    380.000000      4.000000     -1.000000   \n",
       "max       95.000000  102127.000000   4918.000000     63.000000    871.000000   \n",
       "\n",
       "           previous  \n",
       "count  39211.000000  \n",
       "mean      11.826171  \n",
       "std       44.140259  \n",
       "min        0.000000  \n",
       "25%        0.000000  \n",
       "50%        0.000000  \n",
       "75%        0.000000  \n",
       "max      275.000000  "
      ]
     },
     "execution_count": 8,
     "metadata": {},
     "output_type": "execute_result"
    }
   ],
   "source": [
    "train.describe()"
   ]
  },
  {
   "cell_type": "markdown",
   "id": "c68019a0",
   "metadata": {
    "papermill": {
     "duration": 0.019155,
     "end_time": "2024-12-11T07:27:41.143483",
     "exception": false,
     "start_time": "2024-12-11T07:27:41.124328",
     "status": "completed"
    },
    "tags": []
   },
   "source": [
    " - data has wide age range (18-95) with mean age of 42 years\n",
    "\n",
    " - average of yearly balance is 5441 euros\n",
    "\n",
    " - median of contact duartion is 197 sec"
   ]
  },
  {
   "cell_type": "markdown",
   "id": "f385360f",
   "metadata": {
    "papermill": {
     "duration": 0.01902,
     "end_time": "2024-12-11T07:27:41.182404",
     "exception": false,
     "start_time": "2024-12-11T07:27:41.163384",
     "status": "completed"
    },
    "tags": []
   },
   "source": [
    "### missing values"
   ]
  },
  {
   "cell_type": "code",
   "execution_count": 9,
   "id": "28c8d69b",
   "metadata": {
    "execution": {
     "iopub.execute_input": "2024-12-11T07:27:41.222950Z",
     "iopub.status.busy": "2024-12-11T07:27:41.222193Z",
     "iopub.status.idle": "2024-12-11T07:27:41.247842Z",
     "shell.execute_reply": "2024-12-11T07:27:41.246748Z"
    },
    "papermill": {
     "duration": 0.048077,
     "end_time": "2024-12-11T07:27:41.249925",
     "exception": false,
     "start_time": "2024-12-11T07:27:41.201848",
     "status": "completed"
    },
    "tags": []
   },
   "outputs": [
    {
     "data": {
      "text/plain": [
       "last contact date        0\n",
       "age                      0\n",
       "job                    229\n",
       "marital                  0\n",
       "education             1467\n",
       "default                  0\n",
       "balance                  0\n",
       "housing                  0\n",
       "loan                     0\n",
       "contact              10336\n",
       "duration                 0\n",
       "campaign                 0\n",
       "pdays                    0\n",
       "previous                 0\n",
       "poutcome             29451\n",
       "target                   0\n",
       "dtype: int64"
      ]
     },
     "execution_count": 9,
     "metadata": {},
     "output_type": "execute_result"
    }
   ],
   "source": [
    "train.isna().sum()"
   ]
  },
  {
   "cell_type": "markdown",
   "id": "859ee448",
   "metadata": {
    "papermill": {
     "duration": 0.027924,
     "end_time": "2024-12-11T07:27:41.301207",
     "exception": false,
     "start_time": "2024-12-11T07:27:41.273283",
     "status": "completed"
    },
    "tags": []
   },
   "source": [
    "4 columns have missing values in the dataset\n",
    "\n",
    "- job\n",
    "- education\n",
    "- contact\n",
    "- poutcome\n",
    "\n",
    "lets see the percentage of missing values"
   ]
  },
  {
   "cell_type": "code",
   "execution_count": 10,
   "id": "5a9dad3a",
   "metadata": {
    "execution": {
     "iopub.execute_input": "2024-12-11T07:27:41.395859Z",
     "iopub.status.busy": "2024-12-11T07:27:41.395472Z",
     "iopub.status.idle": "2024-12-11T07:27:41.429341Z",
     "shell.execute_reply": "2024-12-11T07:27:41.428100Z"
    },
    "papermill": {
     "duration": 0.056838,
     "end_time": "2024-12-11T07:27:41.431624",
     "exception": false,
     "start_time": "2024-12-11T07:27:41.374786",
     "status": "completed"
    },
    "tags": []
   },
   "outputs": [
    {
     "name": "stdout",
     "output_type": "stream",
     "text": [
      "job Column has 0.5840197903649486 % missing values\n",
      "\n",
      "education Column has 3.7412970850016576 % missing values\n",
      "\n",
      "contact Column has 26.35995001402668 % missing values\n",
      "\n",
      "poutcome Column has 75.10902552855066 % missing values\n",
      "\n"
     ]
    }
   ],
   "source": [
    "null_val = []\n",
    "\n",
    "for i in train.columns:\n",
    "    if train[i].isna().sum() > 0:\n",
    "        null_val.append(i)\n",
    "\n",
    "\n",
    "for i in null_val:\n",
    "    print(f'{i} Column has {train[i].isna().sum()/len(train) * 100} % missing values')\n",
    "    print()"
   ]
  },
  {
   "cell_type": "markdown",
   "id": "bb580876",
   "metadata": {
    "papermill": {
     "duration": 0.01922,
     "end_time": "2024-12-11T07:27:41.470623",
     "exception": false,
     "start_time": "2024-12-11T07:27:41.451403",
     "status": "completed"
    },
    "tags": []
   },
   "source": [
    "- poutcome column has more than 50% missing values, it could be removed"
   ]
  },
  {
   "cell_type": "code",
   "execution_count": 11,
   "id": "497706a8",
   "metadata": {
    "execution": {
     "iopub.execute_input": "2024-12-11T07:27:41.511528Z",
     "iopub.status.busy": "2024-12-11T07:27:41.511127Z",
     "iopub.status.idle": "2024-12-11T07:27:41.527291Z",
     "shell.execute_reply": "2024-12-11T07:27:41.526049Z"
    },
    "papermill": {
     "duration": 0.039429,
     "end_time": "2024-12-11T07:27:41.529775",
     "exception": false,
     "start_time": "2024-12-11T07:27:41.490346",
     "status": "completed"
    },
    "tags": []
   },
   "outputs": [
    {
     "name": "stdout",
     "output_type": "stream",
     "text": [
      "unique values in marital column are ['married' 'single' 'divorced']\n",
      "unique values in default column are ['no' 'yes']\n",
      "unique values in housing column are ['yes' 'no']\n",
      "unique values in contact column are ['cellular' 'telephone' nan]\n",
      "unique values in loan column are ['no' 'yes']\n"
     ]
    }
   ],
   "source": [
    "print(f'unique values in marital column are {train.marital.unique()}')\n",
    "print(f'unique values in default column are {train.default.unique()}')\n",
    "print(f'unique values in housing column are {train.housing.unique()}')\n",
    "print(f'unique values in contact column are {train.contact.unique()}')\n",
    "print(f'unique values in loan column are {train.loan.unique()}')"
   ]
  },
  {
   "cell_type": "markdown",
   "id": "b5b191cb",
   "metadata": {
    "papermill": {
     "duration": 0.020013,
     "end_time": "2024-12-11T07:27:41.571735",
     "exception": false,
     "start_time": "2024-12-11T07:27:41.551722",
     "status": "completed"
    },
    "tags": []
   },
   "source": [
    "### last contact date"
   ]
  },
  {
   "cell_type": "code",
   "execution_count": 12,
   "id": "ca704970",
   "metadata": {
    "execution": {
     "iopub.execute_input": "2024-12-11T07:27:41.613853Z",
     "iopub.status.busy": "2024-12-11T07:27:41.612772Z",
     "iopub.status.idle": "2024-12-11T07:27:41.620336Z",
     "shell.execute_reply": "2024-12-11T07:27:41.619309Z"
    },
    "papermill": {
     "duration": 0.030591,
     "end_time": "2024-12-11T07:27:41.622462",
     "exception": false,
     "start_time": "2024-12-11T07:27:41.591871",
     "status": "completed"
    },
    "tags": []
   },
   "outputs": [
    {
     "data": {
      "text/plain": [
       "0    2009-04-17\n",
       "1    2009-10-11\n",
       "2    2010-11-20\n",
       "3    2009-09-01\n",
       "4    2008-01-29\n",
       "Name: last contact date, dtype: object"
      ]
     },
     "execution_count": 12,
     "metadata": {},
     "output_type": "execute_result"
    }
   ],
   "source": [
    "train['last contact date'].head()"
   ]
  },
  {
   "cell_type": "markdown",
   "id": "fee47faa",
   "metadata": {
    "papermill": {
     "duration": 0.019427,
     "end_time": "2024-12-11T07:27:41.661963",
     "exception": false,
     "start_time": "2024-12-11T07:27:41.642536",
     "status": "completed"
    },
    "tags": []
   },
   "source": [
    "### age"
   ]
  },
  {
   "cell_type": "code",
   "execution_count": 13,
   "id": "543b1516",
   "metadata": {
    "execution": {
     "iopub.execute_input": "2024-12-11T07:27:41.709682Z",
     "iopub.status.busy": "2024-12-11T07:27:41.709276Z",
     "iopub.status.idle": "2024-12-11T07:27:41.716933Z",
     "shell.execute_reply": "2024-12-11T07:27:41.715859Z"
    },
    "papermill": {
     "duration": 0.037787,
     "end_time": "2024-12-11T07:27:41.719558",
     "exception": false,
     "start_time": "2024-12-11T07:27:41.681771",
     "status": "completed"
    },
    "tags": []
   },
   "outputs": [
    {
     "data": {
      "text/plain": [
       "0    26\n",
       "1    52\n",
       "2    44\n",
       "3    33\n",
       "4    31\n",
       "Name: age, dtype: int64"
      ]
     },
     "execution_count": 13,
     "metadata": {},
     "output_type": "execute_result"
    }
   ],
   "source": [
    "train['age'].head()"
   ]
  },
  {
   "cell_type": "code",
   "execution_count": 14,
   "id": "97a991ee",
   "metadata": {
    "execution": {
     "iopub.execute_input": "2024-12-11T07:27:41.764180Z",
     "iopub.status.busy": "2024-12-11T07:27:41.763795Z",
     "iopub.status.idle": "2024-12-11T07:27:41.775302Z",
     "shell.execute_reply": "2024-12-11T07:27:41.774310Z"
    },
    "papermill": {
     "duration": 0.037364,
     "end_time": "2024-12-11T07:27:41.777530",
     "exception": false,
     "start_time": "2024-12-11T07:27:41.740166",
     "status": "completed"
    },
    "tags": []
   },
   "outputs": [
    {
     "data": {
      "text/plain": [
       "count    39211.000000\n",
       "mean        42.120247\n",
       "std         12.709352\n",
       "min         18.000000\n",
       "25%         33.000000\n",
       "50%         40.000000\n",
       "75%         50.000000\n",
       "max         95.000000\n",
       "Name: age, dtype: float64"
      ]
     },
     "execution_count": 14,
     "metadata": {},
     "output_type": "execute_result"
    }
   ],
   "source": [
    "train['age'].describe()"
   ]
  },
  {
   "cell_type": "code",
   "execution_count": 15,
   "id": "d4f487b6",
   "metadata": {
    "execution": {
     "iopub.execute_input": "2024-12-11T07:27:41.820274Z",
     "iopub.status.busy": "2024-12-11T07:27:41.819198Z",
     "iopub.status.idle": "2024-12-11T07:27:41.827915Z",
     "shell.execute_reply": "2024-12-11T07:27:41.826844Z"
    },
    "papermill": {
     "duration": 0.032326,
     "end_time": "2024-12-11T07:27:41.830128",
     "exception": false,
     "start_time": "2024-12-11T07:27:41.797802",
     "status": "completed"
    },
    "tags": []
   },
   "outputs": [
    {
     "data": {
      "text/plain": [
       "1.1242348167399974"
      ]
     },
     "execution_count": 15,
     "metadata": {},
     "output_type": "execute_result"
    }
   ],
   "source": [
    "skew(train['age'])"
   ]
  },
  {
   "cell_type": "markdown",
   "id": "d2b425d3",
   "metadata": {
    "papermill": {
     "duration": 0.020191,
     "end_time": "2024-12-11T07:27:41.871900",
     "exception": false,
     "start_time": "2024-12-11T07:27:41.851709",
     "status": "completed"
    },
    "tags": []
   },
   "source": [
    "-  column `age` is right skewed, shows more young individual in dataset"
   ]
  },
  {
   "cell_type": "code",
   "execution_count": 16,
   "id": "b8734f4c",
   "metadata": {
    "execution": {
     "iopub.execute_input": "2024-12-11T07:27:41.914398Z",
     "iopub.status.busy": "2024-12-11T07:27:41.914025Z",
     "iopub.status.idle": "2024-12-11T07:27:42.495683Z",
     "shell.execute_reply": "2024-12-11T07:27:42.494657Z"
    },
    "papermill": {
     "duration": 0.605765,
     "end_time": "2024-12-11T07:27:42.498010",
     "exception": false,
     "start_time": "2024-12-11T07:27:41.892245",
     "status": "completed"
    },
    "tags": []
   },
   "outputs": [
    {
     "data": {
      "image/png": "[encoded data removed]",
      "text/plain": [
       "<Figure size 700x700 with 1 Axes>"
      ]
     },
     "metadata": {},
     "output_type": "display_data"
    }
   ],
   "source": [
    "plt.figure(figsize=(7,7))\n",
    "sns.histplot(train['age'], bins=5, kde = True, edgecolor = 'black')\n",
    "plt.title('Histogram of age')\n",
    "plt.xlabel(\"AGE\")\n",
    "plt.ylabel(\"FREQUENCY\");"
   ]
  },
  {
   "cell_type": "code",
   "execution_count": 17,
   "id": "d553a9a0",
   "metadata": {
    "execution": {
     "iopub.execute_input": "2024-12-11T07:27:42.541586Z",
     "iopub.status.busy": "2024-12-11T07:27:42.541159Z",
     "iopub.status.idle": "2024-12-11T07:27:42.695370Z",
     "shell.execute_reply": "2024-12-11T07:27:42.694173Z"
    },
    "papermill": {
     "duration": 0.178538,
     "end_time": "2024-12-11T07:27:42.697554",
     "exception": false,
     "start_time": "2024-12-11T07:27:42.519016",
     "status": "completed"
    },
    "tags": []
   },
   "outputs": [
    {
     "data": {
      "image/png": "[encoded data removed]",
      "text/plain": [
       "<Figure size 640x480 with 1 Axes>"
      ]
     },
     "metadata": {},
     "output_type": "display_data"
    }
   ],
   "source": [
    "sns.boxplot(y=train['age'])\n",
    "plt.xlabel('Age')\n",
    "plt.ylabel('Frequency')\n",
    "plt.title('Boxplot of Age Distribution')\n",
    "plt.show()"
   ]
  },
  {
   "cell_type": "markdown",
   "id": "5afa4aca",
   "metadata": {
    "papermill": {
     "duration": 0.020879,
     "end_time": "2024-12-11T07:27:42.739830",
     "exception": false,
     "start_time": "2024-12-11T07:27:42.718951",
     "status": "completed"
    },
    "tags": []
   },
   "source": [
    "### job"
   ]
  },
  {
   "cell_type": "code",
   "execution_count": 18,
   "id": "be0b656d",
   "metadata": {
    "execution": {
     "iopub.execute_input": "2024-12-11T07:27:42.784567Z",
     "iopub.status.busy": "2024-12-11T07:27:42.784164Z",
     "iopub.status.idle": "2024-12-11T07:27:42.792409Z",
     "shell.execute_reply": "2024-12-11T07:27:42.791346Z"
    },
    "papermill": {
     "duration": 0.033014,
     "end_time": "2024-12-11T07:27:42.794646",
     "exception": false,
     "start_time": "2024-12-11T07:27:42.761632",
     "status": "completed"
    },
    "tags": []
   },
   "outputs": [
    {
     "data": {
      "text/plain": [
       "array(['blue-collar', 'technician', 'admin.', 'entrepreneur',\n",
       "       'unemployed', 'management', 'services', 'student', 'self-employed',\n",
       "       'retired', 'housemaid', nan], dtype=object)"
      ]
     },
     "execution_count": 18,
     "metadata": {},
     "output_type": "execute_result"
    }
   ],
   "source": [
    "train['job'].unique()"
   ]
  },
  {
   "cell_type": "code",
   "execution_count": 19,
   "id": "410c7ad3",
   "metadata": {
    "execution": {
     "iopub.execute_input": "2024-12-11T07:27:42.839396Z",
     "iopub.status.busy": "2024-12-11T07:27:42.838947Z",
     "iopub.status.idle": "2024-12-11T07:27:42.847025Z",
     "shell.execute_reply": "2024-12-11T07:27:42.845819Z"
    },
    "papermill": {
     "duration": 0.033079,
     "end_time": "2024-12-11T07:27:42.849623",
     "exception": false,
     "start_time": "2024-12-11T07:27:42.816544",
     "status": "completed"
    },
    "tags": []
   },
   "outputs": [
    {
     "data": {
      "text/plain": [
       "0     blue-collar\n",
       "1      technician\n",
       "2     blue-collar\n",
       "3          admin.\n",
       "4    entrepreneur\n",
       "Name: job, dtype: object"
      ]
     },
     "execution_count": 19,
     "metadata": {},
     "output_type": "execute_result"
    }
   ],
   "source": [
    "train['job'].head()"
   ]
  },
  {
   "cell_type": "code",
   "execution_count": 20,
   "id": "a078021e",
   "metadata": {
    "execution": {
     "iopub.execute_input": "2024-12-11T07:27:42.895513Z",
     "iopub.status.busy": "2024-12-11T07:27:42.895134Z",
     "iopub.status.idle": "2024-12-11T07:27:43.137563Z",
     "shell.execute_reply": "2024-12-11T07:27:43.136472Z"
    },
    "papermill": {
     "duration": 0.269021,
     "end_time": "2024-12-11T07:27:43.141499",
     "exception": false,
     "start_time": "2024-12-11T07:27:42.872478",
     "status": "completed"
    },
    "tags": []
   },
   "outputs": [
    {
     "data": {
      "image/png": "[encoded data removed]",
      "text/plain": [
       "<Figure size 1000x700 with 1 Axes>"
      ]
     },
     "metadata": {},
     "output_type": "display_data"
    }
   ],
   "source": [
    "job_counts = train['job'].value_counts()\n",
    "plt.figure(figsize=(10, 7))\n",
    "plt.pie(job_counts, labels=job_counts.index, autopct='%1.1f%%', startangle=140)\n",
    "plt.title('Proportion of Job Types')\n",
    "plt.axis('equal')\n",
    "plt.show()\n"
   ]
  },
  {
   "cell_type": "markdown",
   "id": "9a1d1635",
   "metadata": {
    "papermill": {
     "duration": 0.022753,
     "end_time": "2024-12-11T07:27:43.188230",
     "exception": false,
     "start_time": "2024-12-11T07:27:43.165477",
     "status": "completed"
    },
    "tags": []
   },
   "source": [
    "- mejority class in `job` column is blue-collar and management jobs."
   ]
  },
  {
   "cell_type": "markdown",
   "id": "74a55a21",
   "metadata": {
    "papermill": {
     "duration": 0.021801,
     "end_time": "2024-12-11T07:27:43.232295",
     "exception": false,
     "start_time": "2024-12-11T07:27:43.210494",
     "status": "completed"
    },
    "tags": []
   },
   "source": [
    "### marital"
   ]
  },
  {
   "cell_type": "code",
   "execution_count": 21,
   "id": "8d1d70a8",
   "metadata": {
    "execution": {
     "iopub.execute_input": "2024-12-11T07:27:43.278187Z",
     "iopub.status.busy": "2024-12-11T07:27:43.277808Z",
     "iopub.status.idle": "2024-12-11T07:27:43.285135Z",
     "shell.execute_reply": "2024-12-11T07:27:43.284176Z"
    },
    "papermill": {
     "duration": 0.032533,
     "end_time": "2024-12-11T07:27:43.286935",
     "exception": false,
     "start_time": "2024-12-11T07:27:43.254402",
     "status": "completed"
    },
    "tags": []
   },
   "outputs": [
    {
     "data": {
      "text/plain": [
       "0    married\n",
       "1    married\n",
       "2    married\n",
       "3    married\n",
       "4     single\n",
       "Name: marital, dtype: object"
      ]
     },
     "execution_count": 21,
     "metadata": {},
     "output_type": "execute_result"
    }
   ],
   "source": [
    "train['marital'].head()"
   ]
  },
  {
   "cell_type": "code",
   "execution_count": 22,
   "id": "8b9c78b2",
   "metadata": {
    "execution": {
     "iopub.execute_input": "2024-12-11T07:27:43.333560Z",
     "iopub.status.busy": "2024-12-11T07:27:43.333186Z",
     "iopub.status.idle": "2024-12-11T07:27:43.481248Z",
     "shell.execute_reply": "2024-12-11T07:27:43.480134Z"
    },
    "papermill": {
     "duration": 0.174965,
     "end_time": "2024-12-11T07:27:43.484638",
     "exception": false,
     "start_time": "2024-12-11T07:27:43.309673",
     "status": "completed"
    },
    "tags": []
   },
   "outputs": [
    {
     "data": {
      "image/png": "[encoded data removed]",
      "text/plain": [
       "<Figure size 700x700 with 1 Axes>"
      ]
     },
     "metadata": {},
     "output_type": "display_data"
    }
   ],
   "source": [
    "marital_counts = train['marital'].value_counts()\n",
    "plt.figure(figsize=(7, 7))\n",
    "plt.pie(marital_counts, labels=marital_counts.index, autopct='%1.1f%%', startangle=140, pctdistance=0.85)\n",
    "centre_circle = plt.Circle((0, 0), 0.70, fc='white')\n",
    "fig = plt.gcf()\n",
    "fig.gca().add_artist(centre_circle)\n",
    "plt.title('Proportion of Marital Status')\n",
    "plt.axis('equal')\n",
    "plt.show()"
   ]
  },
  {
   "cell_type": "markdown",
   "id": "adad39a2",
   "metadata": {
    "papermill": {
     "duration": 0.025783,
     "end_time": "2024-12-11T07:27:43.553823",
     "exception": false,
     "start_time": "2024-12-11T07:27:43.528040",
     "status": "completed"
    },
    "tags": []
   },
   "source": [
    "- mejority of people are married"
   ]
  },
  {
   "cell_type": "markdown",
   "id": "6902ad6f",
   "metadata": {
    "papermill": {
     "duration": 0.022645,
     "end_time": "2024-12-11T07:27:43.599348",
     "exception": false,
     "start_time": "2024-12-11T07:27:43.576703",
     "status": "completed"
    },
    "tags": []
   },
   "source": [
    "### education"
   ]
  },
  {
   "cell_type": "code",
   "execution_count": 23,
   "id": "8fb9a022",
   "metadata": {
    "execution": {
     "iopub.execute_input": "2024-12-11T07:27:43.646524Z",
     "iopub.status.busy": "2024-12-11T07:27:43.646031Z",
     "iopub.status.idle": "2024-12-11T07:27:43.653678Z",
     "shell.execute_reply": "2024-12-11T07:27:43.652684Z"
    },
    "papermill": {
     "duration": 0.033468,
     "end_time": "2024-12-11T07:27:43.655621",
     "exception": false,
     "start_time": "2024-12-11T07:27:43.622153",
     "status": "completed"
    },
    "tags": []
   },
   "outputs": [
    {
     "data": {
      "text/plain": [
       "0    secondary\n",
       "1    secondary\n",
       "2    secondary\n",
       "3    secondary\n",
       "4     tertiary\n",
       "Name: education, dtype: object"
      ]
     },
     "execution_count": 23,
     "metadata": {},
     "output_type": "execute_result"
    }
   ],
   "source": [
    "train['education'].head()"
   ]
  },
  {
   "cell_type": "code",
   "execution_count": 24,
   "id": "bbe42952",
   "metadata": {
    "execution": {
     "iopub.execute_input": "2024-12-11T07:27:43.703503Z",
     "iopub.status.busy": "2024-12-11T07:27:43.702706Z",
     "iopub.status.idle": "2024-12-11T07:27:43.939317Z",
     "shell.execute_reply": "2024-12-11T07:27:43.938228Z"
    },
    "papermill": {
     "duration": 0.262856,
     "end_time": "2024-12-11T07:27:43.941417",
     "exception": false,
     "start_time": "2024-12-11T07:27:43.678561",
     "status": "completed"
    },
    "tags": []
   },
   "outputs": [
    {
     "data": {
      "image/png": "[encoded data removed]",
      "text/plain": [
       "<Figure size 640x480 with 1 Axes>"
      ]
     },
     "metadata": {},
     "output_type": "display_data"
    }
   ],
   "source": [
    "sns.countplot(x='education', data=train, palette='Set1')\n",
    "plt.xlabel('Education Level')\n",
    "plt.ylabel('Number of Individuals')\n",
    "plt.title('Distribution of Education Levels')\n",
    "plt.show()\n"
   ]
  },
  {
   "cell_type": "markdown",
   "id": "fa446f8c",
   "metadata": {
    "papermill": {
     "duration": 0.022884,
     "end_time": "2024-12-11T07:27:43.987608",
     "exception": false,
     "start_time": "2024-12-11T07:27:43.964724",
     "status": "completed"
    },
    "tags": []
   },
   "source": [
    "- Secondary Education (19,584) represents the largest group"
   ]
  },
  {
   "cell_type": "markdown",
   "id": "509893e3",
   "metadata": {
    "papermill": {
     "duration": 0.022704,
     "end_time": "2024-12-11T07:27:44.033615",
     "exception": false,
     "start_time": "2024-12-11T07:27:44.010911",
     "status": "completed"
    },
    "tags": []
   },
   "source": [
    "### default"
   ]
  },
  {
   "cell_type": "code",
   "execution_count": 25,
   "id": "eda316a9",
   "metadata": {
    "execution": {
     "iopub.execute_input": "2024-12-11T07:27:44.082277Z",
     "iopub.status.busy": "2024-12-11T07:27:44.081452Z",
     "iopub.status.idle": "2024-12-11T07:27:44.088913Z",
     "shell.execute_reply": "2024-12-11T07:27:44.087945Z"
    },
    "papermill": {
     "duration": 0.034315,
     "end_time": "2024-12-11T07:27:44.090952",
     "exception": false,
     "start_time": "2024-12-11T07:27:44.056637",
     "status": "completed"
    },
    "tags": []
   },
   "outputs": [
    {
     "data": {
      "text/plain": [
       "0    no\n",
       "1    no\n",
       "2    no\n",
       "3    no\n",
       "4    no\n",
       "Name: default, dtype: object"
      ]
     },
     "execution_count": 25,
     "metadata": {},
     "output_type": "execute_result"
    }
   ],
   "source": [
    "train['default'].head()"
   ]
  },
  {
   "cell_type": "code",
   "execution_count": 26,
   "id": "cd12a97f",
   "metadata": {
    "execution": {
     "iopub.execute_input": "2024-12-11T07:27:44.140011Z",
     "iopub.status.busy": "2024-12-11T07:27:44.139156Z",
     "iopub.status.idle": "2024-12-11T07:27:44.273284Z",
     "shell.execute_reply": "2024-12-11T07:27:44.272151Z"
    },
    "papermill": {
     "duration": 0.161975,
     "end_time": "2024-12-11T07:27:44.276401",
     "exception": false,
     "start_time": "2024-12-11T07:27:44.114426",
     "status": "completed"
    },
    "tags": []
   },
   "outputs": [
    {
     "data": {
      "image/png": "[encoded data removed]",
      "text/plain": [
       "<Figure size 800x600 with 1 Axes>"
      ]
     },
     "metadata": {},
     "output_type": "display_data"
    }
   ],
   "source": [
    "default_counts = train['default'].value_counts()\n",
    "plt.figure(figsize=(8, 6))\n",
    "plt.pie(default_counts, labels=default_counts.index, autopct='%1.1f%%', startangle=140)\n",
    "plt.title('Proportion of Clients with Credit Default')\n",
    "plt.axis('equal')\n",
    "plt.show()\n"
   ]
  },
  {
   "cell_type": "markdown",
   "id": "2d068eaf",
   "metadata": {
    "papermill": {
     "duration": 0.030744,
     "end_time": "2024-12-11T07:27:44.351722",
     "exception": false,
     "start_time": "2024-12-11T07:27:44.320978",
     "status": "completed"
    },
    "tags": []
   },
   "source": [
    "### balance"
   ]
  },
  {
   "cell_type": "code",
   "execution_count": 27,
   "id": "64579673",
   "metadata": {
    "execution": {
     "iopub.execute_input": "2024-12-11T07:27:44.402212Z",
     "iopub.status.busy": "2024-12-11T07:27:44.401412Z",
     "iopub.status.idle": "2024-12-11T07:27:44.408585Z",
     "shell.execute_reply": "2024-12-11T07:27:44.407610Z"
    },
    "papermill": {
     "duration": 0.034427,
     "end_time": "2024-12-11T07:27:44.410595",
     "exception": false,
     "start_time": "2024-12-11T07:27:44.376168",
     "status": "completed"
    },
    "tags": []
   },
   "outputs": [
    {
     "data": {
      "text/plain": [
       "0     647\n",
       "1     553\n",
       "2    1397\n",
       "3     394\n",
       "4     137\n",
       "Name: balance, dtype: int64"
      ]
     },
     "execution_count": 27,
     "metadata": {},
     "output_type": "execute_result"
    }
   ],
   "source": [
    "train['balance'].head()"
   ]
  },
  {
   "cell_type": "code",
   "execution_count": 28,
   "id": "00d607f3",
   "metadata": {
    "execution": {
     "iopub.execute_input": "2024-12-11T07:27:44.460861Z",
     "iopub.status.busy": "2024-12-11T07:27:44.460482Z",
     "iopub.status.idle": "2024-12-11T07:27:44.471340Z",
     "shell.execute_reply": "2024-12-11T07:27:44.470321Z"
    },
    "papermill": {
     "duration": 0.037988,
     "end_time": "2024-12-11T07:27:44.473301",
     "exception": false,
     "start_time": "2024-12-11T07:27:44.435313",
     "status": "completed"
    },
    "tags": []
   },
   "outputs": [
    {
     "data": {
      "text/plain": [
       "count     39211.000000\n",
       "mean       5441.781719\n",
       "std       16365.292065\n",
       "min       -8019.000000\n",
       "25%          98.000000\n",
       "50%         549.000000\n",
       "75%        2030.000000\n",
       "max      102127.000000\n",
       "Name: balance, dtype: float64"
      ]
     },
     "execution_count": 28,
     "metadata": {},
     "output_type": "execute_result"
    }
   ],
   "source": [
    "train['balance'].describe()"
   ]
  },
  {
   "cell_type": "markdown",
   "id": "6799296c",
   "metadata": {
    "papermill": {
     "duration": 0.023863,
     "end_time": "2024-12-11T07:27:44.521339",
     "exception": false,
     "start_time": "2024-12-11T07:27:44.497476",
     "status": "completed"
    },
    "tags": []
   },
   "source": [
    "- balance is a int column and median average yearly balance 549 euros on the other hand max is 102127 euros"
   ]
  },
  {
   "cell_type": "code",
   "execution_count": 29,
   "id": "b4ff1bfe",
   "metadata": {
    "execution": {
     "iopub.execute_input": "2024-12-11T07:27:44.571025Z",
     "iopub.status.busy": "2024-12-11T07:27:44.570605Z",
     "iopub.status.idle": "2024-12-11T07:27:44.895608Z",
     "shell.execute_reply": "2024-12-11T07:27:44.894509Z"
    },
    "papermill": {
     "duration": 0.35248,
     "end_time": "2024-12-11T07:27:44.897928",
     "exception": false,
     "start_time": "2024-12-11T07:27:44.545448",
     "status": "completed"
    },
    "tags": []
   },
   "outputs": [
    {
     "data": {
      "image/png": "[encoded data removed]",
      "text/plain": [
       "<Figure size 700x600 with 1 Axes>"
      ]
     },
     "metadata": {},
     "output_type": "display_data"
    }
   ],
   "source": [
    "plt.figure(figsize=(7, 6))\n",
    "sns.violinplot(y=train['balance'], inner='quartile')\n",
    "plt.ylabel('Balance (in Euros)')\n",
    "plt.title('Violin Plot of Account Balances')\n",
    "plt.show()\n"
   ]
  },
  {
   "cell_type": "markdown",
   "id": "d2acc42e",
   "metadata": {
    "papermill": {
     "duration": 0.02403,
     "end_time": "2024-12-11T07:27:44.946592",
     "exception": false,
     "start_time": "2024-12-11T07:27:44.922562",
     "status": "completed"
    },
    "tags": []
   },
   "source": [
    "### housing"
   ]
  },
  {
   "cell_type": "code",
   "execution_count": 30,
   "id": "7d3b381c",
   "metadata": {
    "execution": {
     "iopub.execute_input": "2024-12-11T07:27:44.997616Z",
     "iopub.status.busy": "2024-12-11T07:27:44.996709Z",
     "iopub.status.idle": "2024-12-11T07:27:45.004208Z",
     "shell.execute_reply": "2024-12-11T07:27:45.003141Z"
    },
    "papermill": {
     "duration": 0.035437,
     "end_time": "2024-12-11T07:27:45.006372",
     "exception": false,
     "start_time": "2024-12-11T07:27:44.970935",
     "status": "completed"
    },
    "tags": []
   },
   "outputs": [
    {
     "data": {
      "text/plain": [
       "0    yes\n",
       "1    yes\n",
       "2     no\n",
       "3    yes\n",
       "4     no\n",
       "Name: housing, dtype: object"
      ]
     },
     "execution_count": 30,
     "metadata": {},
     "output_type": "execute_result"
    }
   ],
   "source": [
    "train['housing'].head()"
   ]
  },
  {
   "cell_type": "code",
   "execution_count": 31,
   "id": "51eebb2e",
   "metadata": {
    "execution": {
     "iopub.execute_input": "2024-12-11T07:27:45.057918Z",
     "iopub.status.busy": "2024-12-11T07:27:45.057520Z",
     "iopub.status.idle": "2024-12-11T07:27:45.189757Z",
     "shell.execute_reply": "2024-12-11T07:27:45.188426Z"
    },
    "papermill": {
     "duration": 0.162293,
     "end_time": "2024-12-11T07:27:45.193339",
     "exception": false,
     "start_time": "2024-12-11T07:27:45.031046",
     "status": "completed"
    },
    "tags": []
   },
   "outputs": [
    {
     "data": {
      "image/png": "[encoded data removed]",
      "text/plain": [
       "<Figure size 800x600 with 1 Axes>"
      ]
     },
     "metadata": {},
     "output_type": "display_data"
    }
   ],
   "source": [
    "housing_counts = train['housing'].value_counts()\n",
    "plt.figure(figsize=(8, 6))\n",
    "plt.pie(housing_counts, labels=housing_counts.index, autopct='%1.1f%%', startangle=140)\n",
    "plt.title('Proportion of Housing Loan Status')\n",
    "plt.axis('equal')\n",
    "plt.show()\n"
   ]
  },
  {
   "cell_type": "markdown",
   "id": "7cf35048",
   "metadata": {
    "papermill": {
     "duration": 0.027867,
     "end_time": "2024-12-11T07:27:45.268730",
     "exception": false,
     "start_time": "2024-12-11T07:27:45.240863",
     "status": "completed"
    },
    "tags": []
   },
   "source": [
    "- more than half of the individuals have housing loan"
   ]
  },
  {
   "cell_type": "markdown",
   "id": "da5bde01",
   "metadata": {
    "papermill": {
     "duration": 0.024786,
     "end_time": "2024-12-11T07:27:45.318892",
     "exception": false,
     "start_time": "2024-12-11T07:27:45.294106",
     "status": "completed"
    },
    "tags": []
   },
   "source": [
    "### loan (personal loan)"
   ]
  },
  {
   "cell_type": "code",
   "execution_count": 32,
   "id": "f1deb7aa",
   "metadata": {
    "execution": {
     "iopub.execute_input": "2024-12-11T07:27:45.370459Z",
     "iopub.status.busy": "2024-12-11T07:27:45.370053Z",
     "iopub.status.idle": "2024-12-11T07:27:45.377693Z",
     "shell.execute_reply": "2024-12-11T07:27:45.376633Z"
    },
    "papermill": {
     "duration": 0.035835,
     "end_time": "2024-12-11T07:27:45.379624",
     "exception": false,
     "start_time": "2024-12-11T07:27:45.343789",
     "status": "completed"
    },
    "tags": []
   },
   "outputs": [
    {
     "data": {
      "text/plain": [
       "0    no\n",
       "1    no\n",
       "2    no\n",
       "3    no\n",
       "4    no\n",
       "Name: loan, dtype: object"
      ]
     },
     "execution_count": 32,
     "metadata": {},
     "output_type": "execute_result"
    }
   ],
   "source": [
    "train['loan'].head()"
   ]
  },
  {
   "cell_type": "code",
   "execution_count": 33,
   "id": "2407e703",
   "metadata": {
    "execution": {
     "iopub.execute_input": "2024-12-11T07:27:45.431843Z",
     "iopub.status.busy": "2024-12-11T07:27:45.431102Z",
     "iopub.status.idle": "2024-12-11T07:27:45.651750Z",
     "shell.execute_reply": "2024-12-11T07:27:45.650675Z"
    },
    "papermill": {
     "duration": 0.249147,
     "end_time": "2024-12-11T07:27:45.654057",
     "exception": false,
     "start_time": "2024-12-11T07:27:45.404910",
     "status": "completed"
    },
    "tags": []
   },
   "outputs": [
    {
     "data": {
      "image/png": "[encoded data removed]",
      "text/plain": [
       "<Figure size 640x480 with 1 Axes>"
      ]
     },
     "metadata": {},
     "output_type": "display_data"
    }
   ],
   "source": [
    "\n",
    "sns.countplot(x='loan', data=train)\n",
    "plt.xlabel('Loan Status')\n",
    "plt.ylabel('Number of Individuals')\n",
    "plt.title('Distribution of Loan Status')\n",
    "plt.show()\n"
   ]
  },
  {
   "cell_type": "markdown",
   "id": "807c25b0",
   "metadata": {
    "papermill": {
     "duration": 0.026292,
     "end_time": "2024-12-11T07:27:45.706287",
     "exception": false,
     "start_time": "2024-12-11T07:27:45.679995",
     "status": "completed"
    },
    "tags": []
   },
   "source": [
    "- less individual with personal loan"
   ]
  },
  {
   "cell_type": "markdown",
   "id": "2c35f969",
   "metadata": {
    "papermill": {
     "duration": 0.02546,
     "end_time": "2024-12-11T07:27:45.758354",
     "exception": false,
     "start_time": "2024-12-11T07:27:45.732894",
     "status": "completed"
    },
    "tags": []
   },
   "source": [
    "### contact type"
   ]
  },
  {
   "cell_type": "code",
   "execution_count": 34,
   "id": "ec407013",
   "metadata": {
    "execution": {
     "iopub.execute_input": "2024-12-11T07:27:45.812185Z",
     "iopub.status.busy": "2024-12-11T07:27:45.811773Z",
     "iopub.status.idle": "2024-12-11T07:27:45.819727Z",
     "shell.execute_reply": "2024-12-11T07:27:45.818692Z"
    },
    "papermill": {
     "duration": 0.037353,
     "end_time": "2024-12-11T07:27:45.821836",
     "exception": false,
     "start_time": "2024-12-11T07:27:45.784483",
     "status": "completed"
    },
    "tags": []
   },
   "outputs": [
    {
     "data": {
      "text/plain": [
       "0     cellular\n",
       "1    telephone\n",
       "2     cellular\n",
       "3    telephone\n",
       "4     cellular\n",
       "Name: contact, dtype: object"
      ]
     },
     "execution_count": 34,
     "metadata": {},
     "output_type": "execute_result"
    }
   ],
   "source": [
    "train['contact'].head()"
   ]
  },
  {
   "cell_type": "code",
   "execution_count": 35,
   "id": "9dd49d7a",
   "metadata": {
    "execution": {
     "iopub.execute_input": "2024-12-11T07:27:45.876978Z",
     "iopub.status.busy": "2024-12-11T07:27:45.876594Z",
     "iopub.status.idle": "2024-12-11T07:27:46.059450Z",
     "shell.execute_reply": "2024-12-11T07:27:46.058402Z"
    },
    "papermill": {
     "duration": 0.213729,
     "end_time": "2024-12-11T07:27:46.061717",
     "exception": false,
     "start_time": "2024-12-11T07:27:45.847988",
     "status": "completed"
    },
    "tags": []
   },
   "outputs": [
    {
     "data": {
      "image/png": "[encoded data removed]",
      "text/plain": [
       "<Figure size 640x480 with 1 Axes>"
      ]
     },
     "metadata": {},
     "output_type": "display_data"
    }
   ],
   "source": [
    "contact_counts = train['contact'].value_counts()\n",
    "\n",
    "sns.barplot(x=contact_counts.values, y=contact_counts.index)\n",
    "plt.ylabel('Contact Type')\n",
    "plt.xlabel('Number of Individuals')\n",
    "plt.title('Distribution of Contact Types')\n",
    "plt.show()\n"
   ]
  },
  {
   "cell_type": "markdown",
   "id": "a97b0181",
   "metadata": {
    "papermill": {
     "duration": 0.02748,
     "end_time": "2024-12-11T07:27:46.115542",
     "exception": false,
     "start_time": "2024-12-11T07:27:46.088062",
     "status": "completed"
    },
    "tags": []
   },
   "source": [
    "### target"
   ]
  },
  {
   "cell_type": "code",
   "execution_count": 36,
   "id": "900ece6f",
   "metadata": {
    "execution": {
     "iopub.execute_input": "2024-12-11T07:27:46.173508Z",
     "iopub.status.busy": "2024-12-11T07:27:46.173084Z",
     "iopub.status.idle": "2024-12-11T07:27:46.181215Z",
     "shell.execute_reply": "2024-12-11T07:27:46.179990Z"
    },
    "papermill": {
     "duration": 0.039536,
     "end_time": "2024-12-11T07:27:46.183316",
     "exception": false,
     "start_time": "2024-12-11T07:27:46.143780",
     "status": "completed"
    },
    "tags": []
   },
   "outputs": [
    {
     "data": {
      "text/plain": [
       "0    no\n",
       "1    no\n",
       "2    no\n",
       "3    no\n",
       "4    no\n",
       "Name: target, dtype: object"
      ]
     },
     "execution_count": 36,
     "metadata": {},
     "output_type": "execute_result"
    }
   ],
   "source": [
    "train['target'].head()"
   ]
  },
  {
   "cell_type": "code",
   "execution_count": 37,
   "id": "fbc95280",
   "metadata": {
    "execution": {
     "iopub.execute_input": "2024-12-11T07:27:46.237723Z",
     "iopub.status.busy": "2024-12-11T07:27:46.237330Z",
     "iopub.status.idle": "2024-12-11T07:27:46.388488Z",
     "shell.execute_reply": "2024-12-11T07:27:46.387324Z"
    },
    "papermill": {
     "duration": 0.1819,
     "end_time": "2024-12-11T07:27:46.391742",
     "exception": false,
     "start_time": "2024-12-11T07:27:46.209842",
     "status": "completed"
    },
    "tags": []
   },
   "outputs": [
    {
     "data": {
      "image/png": "[encoded data removed]",
      "text/plain": [
       "<Figure size 800x800 with 1 Axes>"
      ]
     },
     "metadata": {},
     "output_type": "display_data"
    }
   ],
   "source": [
    "target_counts = train['target'].value_counts()\n",
    "plt.figure(figsize=(8, 8))\n",
    "plt.pie(target_counts, labels=target_counts.index, autopct='%1.1f%%', startangle=140)\n",
    "plt.title('Proportion of Target Column')\n",
    "plt.show()\n"
   ]
  },
  {
   "cell_type": "markdown",
   "id": "f9d06c52",
   "metadata": {
    "papermill": {
     "duration": 0.026594,
     "end_time": "2024-12-11T07:27:46.466802",
     "exception": false,
     "start_time": "2024-12-11T07:27:46.440208",
     "status": "completed"
    },
    "tags": []
   },
   "source": [
    "- looks like the data is highly imbalanced and biased towards \"NO\""
   ]
  },
  {
   "cell_type": "markdown",
   "id": "f854f7b4",
   "metadata": {
    "papermill": {
     "duration": 0.026153,
     "end_time": "2024-12-11T07:27:46.519382",
     "exception": false,
     "start_time": "2024-12-11T07:27:46.493229",
     "status": "completed"
    },
    "tags": []
   },
   "source": [
    "## Multivariate analysis"
   ]
  },
  {
   "cell_type": "code",
   "execution_count": 38,
   "id": "009beec2",
   "metadata": {
    "execution": {
     "iopub.execute_input": "2024-12-11T07:27:46.574020Z",
     "iopub.status.busy": "2024-12-11T07:27:46.573611Z",
     "iopub.status.idle": "2024-12-11T07:27:46.601126Z",
     "shell.execute_reply": "2024-12-11T07:27:46.600090Z"
    },
    "papermill": {
     "duration": 0.057576,
     "end_time": "2024-12-11T07:27:46.603403",
     "exception": false,
     "start_time": "2024-12-11T07:27:46.545827",
     "status": "completed"
    },
    "tags": []
   },
   "outputs": [
    {
     "data": {
      "text/html": [
       "<div>\n",
       "<style scoped>\n",
       "    .dataframe tbody tr th:only-of-type {\n",
       "        vertical-align: middle;\n",
       "    }\n",
       "\n",
       "    .dataframe tbody tr th {\n",
       "        vertical-align: top;\n",
       "    }\n",
       "\n",
       "    .dataframe thead th {\n",
       "        text-align: right;\n",
       "    }\n",
       "</style>\n",
       "<table border=\"1\" class=\"dataframe\">\n",
       "  <thead>\n",
       "    <tr style=\"text-align: right;\">\n",
       "      <th>target</th>\n",
       "      <th>no</th>\n",
       "      <th>yes</th>\n",
       "    </tr>\n",
       "    <tr>\n",
       "      <th>housing</th>\n",
       "      <th></th>\n",
       "      <th></th>\n",
       "    </tr>\n",
       "  </thead>\n",
       "  <tbody>\n",
       "    <tr>\n",
       "      <th>no</th>\n",
       "      <td>14049</td>\n",
       "      <td>3505</td>\n",
       "    </tr>\n",
       "    <tr>\n",
       "      <th>yes</th>\n",
       "      <td>19335</td>\n",
       "      <td>2322</td>\n",
       "    </tr>\n",
       "  </tbody>\n",
       "</table>\n",
       "</div>"
      ],
      "text/plain": [
       "target      no   yes\n",
       "housing             \n",
       "no       14049  3505\n",
       "yes      19335  2322"
      ]
     },
     "execution_count": 38,
     "metadata": {},
     "output_type": "execute_result"
    }
   ],
   "source": [
    "pd.crosstab(train['housing'], train['target'])"
   ]
  },
  {
   "cell_type": "code",
   "execution_count": 39,
   "id": "50ee117e",
   "metadata": {
    "execution": {
     "iopub.execute_input": "2024-12-11T07:27:46.658084Z",
     "iopub.status.busy": "2024-12-11T07:27:46.657705Z",
     "iopub.status.idle": "2024-12-11T07:27:46.906044Z",
     "shell.execute_reply": "2024-12-11T07:27:46.904726Z"
    },
    "papermill": {
     "duration": 0.278389,
     "end_time": "2024-12-11T07:27:46.908423",
     "exception": false,
     "start_time": "2024-12-11T07:27:46.630034",
     "status": "completed"
    },
    "tags": []
   },
   "outputs": [
    {
     "data": {
      "image/png": "[encoded data removed]",
      "text/plain": [
       "<Figure size 600x600 with 1 Axes>"
      ]
     },
     "metadata": {},
     "output_type": "display_data"
    }
   ],
   "source": [
    "housing_target_ct = pd.crosstab(train['housing'], train['target'])\n",
    "housing_target_ct.plot(kind='bar', stacked=True, figsize=(6, 6))\n",
    "plt.xlabel('Housing')\n",
    "plt.ylabel('Count')\n",
    "plt.title('Stacked Bar Chart of Housing vs. Target')\n",
    "plt.show()"
   ]
  },
  {
   "cell_type": "markdown",
   "id": "b3f5b5cc",
   "metadata": {
    "papermill": {
     "duration": 0.026385,
     "end_time": "2024-12-11T07:27:46.962078",
     "exception": false,
     "start_time": "2024-12-11T07:27:46.935693",
     "status": "completed"
    },
    "tags": []
   },
   "source": [
    "- above stack bar chart shows the relationship between Housing loan and target columns."
   ]
  },
  {
   "cell_type": "code",
   "execution_count": 40,
   "id": "8b9881e4",
   "metadata": {
    "execution": {
     "iopub.execute_input": "2024-12-11T07:27:47.017939Z",
     "iopub.status.busy": "2024-12-11T07:27:47.017570Z",
     "iopub.status.idle": "2024-12-11T07:27:47.339815Z",
     "shell.execute_reply": "2024-12-11T07:27:47.338727Z"
    },
    "papermill": {
     "duration": 0.353319,
     "end_time": "2024-12-11T07:27:47.342128",
     "exception": false,
     "start_time": "2024-12-11T07:27:46.988809",
     "status": "completed"
    },
    "tags": []
   },
   "outputs": [
    {
     "data": {
      "image/png": "[encoded data removed]",
      "text/plain": [
       "<Figure size 600x600 with 1 Axes>"
      ]
     },
     "metadata": {},
     "output_type": "display_data"
    }
   ],
   "source": [
    "job_target_ct = pd.crosstab(train['job'], train['target'])\n",
    "job_target_ct.plot(kind='bar', stacked=True, figsize=(6, 6))\n",
    "plt.xlabel('Job')\n",
    "plt.ylabel('Count')\n",
    "plt.title('Stacked Bar Chart of job vs. Target')\n",
    "plt.show()"
   ]
  },
  {
   "cell_type": "code",
   "execution_count": 41,
   "id": "f2c052c6",
   "metadata": {
    "execution": {
     "iopub.execute_input": "2024-12-11T07:27:47.398939Z",
     "iopub.status.busy": "2024-12-11T07:27:47.398549Z",
     "iopub.status.idle": "2024-12-11T07:27:47.563103Z",
     "shell.execute_reply": "2024-12-11T07:27:47.562125Z"
    },
    "papermill": {
     "duration": 0.195345,
     "end_time": "2024-12-11T07:27:47.565221",
     "exception": false,
     "start_time": "2024-12-11T07:27:47.369876",
     "status": "completed"
    },
    "tags": []
   },
   "outputs": [
    {
     "data": {
      "image/png": "[encoded data removed]",
      "text/plain": [
       "<Figure size 400x400 with 1 Axes>"
      ]
     },
     "metadata": {},
     "output_type": "display_data"
    }
   ],
   "source": [
    "contact_target_ct = pd.crosstab(train['contact'], train['target'])\n",
    "\n",
    "plt.figure(figsize=(4,4))\n",
    "sns.heatmap(contact_target_ct, annot=True, cmap='coolwarm', fmt='d', cbar=False, linewidths=0.5)\n",
    "plt.xlabel('Target', fontsize=12)\n",
    "plt.ylabel('Contact', fontsize=12)\n",
    "plt.title('Heatmap of Contact vs. Target', fontsize=14)\n",
    "plt.show()\n"
   ]
  },
  {
   "cell_type": "code",
   "execution_count": 42,
   "id": "eefa19b3",
   "metadata": {
    "execution": {
     "iopub.execute_input": "2024-12-11T07:27:47.622477Z",
     "iopub.status.busy": "2024-12-11T07:27:47.622088Z",
     "iopub.status.idle": "2024-12-11T07:27:47.872734Z",
     "shell.execute_reply": "2024-12-11T07:27:47.871565Z"
    },
    "papermill": {
     "duration": 0.281858,
     "end_time": "2024-12-11T07:27:47.874947",
     "exception": false,
     "start_time": "2024-12-11T07:27:47.593089",
     "status": "completed"
    },
    "tags": []
   },
   "outputs": [
    {
     "data": {
      "image/png": "[encoded data removed]",
      "text/plain": [
       "<Figure size 600x600 with 1 Axes>"
      ]
     },
     "metadata": {},
     "output_type": "display_data"
    }
   ],
   "source": [
    "default_target_ct = pd.crosstab(train['default'], train['target'])\n",
    "default_target_ct.plot(kind='bar', stacked=True, figsize=(6, 6))\n",
    "plt.xlabel('Housing')\n",
    "plt.ylabel('Count')\n",
    "plt.title('Stacked Bar Chart of default vs. Target')\n",
    "plt.show()"
   ]
  },
  {
   "cell_type": "markdown",
   "id": "94aea920",
   "metadata": {
    "papermill": {
     "duration": 0.028072,
     "end_time": "2024-12-11T07:27:47.932176",
     "exception": false,
     "start_time": "2024-12-11T07:27:47.904104",
     "status": "completed"
    },
    "tags": []
   },
   "source": [
    "### Marital Status vs Target"
   ]
  },
  {
   "cell_type": "code",
   "execution_count": 43,
   "id": "827ecdf8",
   "metadata": {
    "execution": {
     "iopub.execute_input": "2024-12-11T07:27:47.990147Z",
     "iopub.status.busy": "2024-12-11T07:27:47.989737Z",
     "iopub.status.idle": "2024-12-11T07:27:48.284640Z",
     "shell.execute_reply": "2024-12-11T07:27:48.283623Z"
    },
    "papermill": {
     "duration": 0.326722,
     "end_time": "2024-12-11T07:27:48.286965",
     "exception": false,
     "start_time": "2024-12-11T07:27:47.960243",
     "status": "completed"
    },
    "tags": []
   },
   "outputs": [
    {
     "data": {
      "image/png": "[encoded data removed]",
      "text/plain": [
       "<Figure size 1000x600 with 1 Axes>"
      ]
     },
     "metadata": {},
     "output_type": "display_data"
    }
   ],
   "source": [
    "plt.figure(figsize=(10, 6))\n",
    "sns.countplot(x='marital', hue='target', data=train)\n",
    "plt.xlabel('Marital Status')\n",
    "plt.ylabel('Count')\n",
    "plt.title('Count of Marital Status Grouped by Subscription Status (Target)')\n",
    "plt.show()"
   ]
  },
  {
   "cell_type": "markdown",
   "id": "33c1ce6f",
   "metadata": {
    "papermill": {
     "duration": 0.02899,
     "end_time": "2024-12-11T07:27:48.345474",
     "exception": false,
     "start_time": "2024-12-11T07:27:48.316484",
     "status": "completed"
    },
    "tags": []
   },
   "source": [
    "- In all three categories married, single and divorced we can see that same trend, the subscription to term deposite is less in every category."
   ]
  },
  {
   "cell_type": "code",
   "execution_count": 44,
   "id": "2f36861f",
   "metadata": {
    "execution": {
     "iopub.execute_input": "2024-12-11T07:27:48.404833Z",
     "iopub.status.busy": "2024-12-11T07:27:48.404405Z",
     "iopub.status.idle": "2024-12-11T07:27:48.424810Z",
     "shell.execute_reply": "2024-12-11T07:27:48.423777Z"
    },
    "papermill": {
     "duration": 0.052356,
     "end_time": "2024-12-11T07:27:48.426939",
     "exception": false,
     "start_time": "2024-12-11T07:27:48.374583",
     "status": "completed"
    },
    "tags": []
   },
   "outputs": [
    {
     "name": "stdout",
     "output_type": "stream",
     "text": [
      "Correlation Matrix for Numeric Features:\n"
     ]
    },
    {
     "data": {
      "text/html": [
       "<div>\n",
       "<style scoped>\n",
       "    .dataframe tbody tr th:only-of-type {\n",
       "        vertical-align: middle;\n",
       "    }\n",
       "\n",
       "    .dataframe tbody tr th {\n",
       "        vertical-align: top;\n",
       "    }\n",
       "\n",
       "    .dataframe thead th {\n",
       "        text-align: right;\n",
       "    }\n",
       "</style>\n",
       "<table border=\"1\" class=\"dataframe\">\n",
       "  <thead>\n",
       "    <tr style=\"text-align: right;\">\n",
       "      <th></th>\n",
       "      <th>age</th>\n",
       "      <th>balance</th>\n",
       "      <th>duration</th>\n",
       "      <th>campaign</th>\n",
       "      <th>pdays</th>\n",
       "      <th>previous</th>\n",
       "    </tr>\n",
       "  </thead>\n",
       "  <tbody>\n",
       "    <tr>\n",
       "      <th>age</th>\n",
       "      <td>1.000000</td>\n",
       "      <td>0.289150</td>\n",
       "      <td>0.255573</td>\n",
       "      <td>0.269439</td>\n",
       "      <td>0.199507</td>\n",
       "      <td>0.277487</td>\n",
       "    </tr>\n",
       "    <tr>\n",
       "      <th>balance</th>\n",
       "      <td>0.289150</td>\n",
       "      <td>1.000000</td>\n",
       "      <td>0.669737</td>\n",
       "      <td>0.674339</td>\n",
       "      <td>0.562097</td>\n",
       "      <td>0.716816</td>\n",
       "    </tr>\n",
       "    <tr>\n",
       "      <th>duration</th>\n",
       "      <td>0.255573</td>\n",
       "      <td>0.669737</td>\n",
       "      <td>1.000000</td>\n",
       "      <td>0.630944</td>\n",
       "      <td>0.527020</td>\n",
       "      <td>0.683951</td>\n",
       "    </tr>\n",
       "    <tr>\n",
       "      <th>campaign</th>\n",
       "      <td>0.269439</td>\n",
       "      <td>0.674339</td>\n",
       "      <td>0.630944</td>\n",
       "      <td>1.000000</td>\n",
       "      <td>0.519469</td>\n",
       "      <td>0.689211</td>\n",
       "    </tr>\n",
       "    <tr>\n",
       "      <th>pdays</th>\n",
       "      <td>0.199507</td>\n",
       "      <td>0.562097</td>\n",
       "      <td>0.527020</td>\n",
       "      <td>0.519469</td>\n",
       "      <td>1.000000</td>\n",
       "      <td>0.586175</td>\n",
       "    </tr>\n",
       "    <tr>\n",
       "      <th>previous</th>\n",
       "      <td>0.277487</td>\n",
       "      <td>0.716816</td>\n",
       "      <td>0.683951</td>\n",
       "      <td>0.689211</td>\n",
       "      <td>0.586175</td>\n",
       "      <td>1.000000</td>\n",
       "    </tr>\n",
       "  </tbody>\n",
       "</table>\n",
       "</div>"
      ],
      "text/plain": [
       "               age   balance  duration  campaign     pdays  previous\n",
       "age       1.000000  0.289150  0.255573  0.269439  0.199507  0.277487\n",
       "balance   0.289150  1.000000  0.669737  0.674339  0.562097  0.716816\n",
       "duration  0.255573  0.669737  1.000000  0.630944  0.527020  0.683951\n",
       "campaign  0.269439  0.674339  0.630944  1.000000  0.519469  0.689211\n",
       "pdays     0.199507  0.562097  0.527020  0.519469  1.000000  0.586175\n",
       "previous  0.277487  0.716816  0.683951  0.689211  0.586175  1.000000"
      ]
     },
     "execution_count": 44,
     "metadata": {},
     "output_type": "execute_result"
    }
   ],
   "source": [
    "numeric_features = ['age', 'balance', 'duration', 'campaign', 'pdays', 'previous']\n",
    "corr_matrix = train[numeric_features].corr()\n",
    "print(\"Correlation Matrix for Numeric Features:\")\n",
    "corr_matrix\n"
   ]
  },
  {
   "cell_type": "code",
   "execution_count": 45,
   "id": "68a431f8",
   "metadata": {
    "execution": {
     "iopub.execute_input": "2024-12-11T07:27:48.488684Z",
     "iopub.status.busy": "2024-12-11T07:27:48.487935Z",
     "iopub.status.idle": "2024-12-11T07:27:48.951292Z",
     "shell.execute_reply": "2024-12-11T07:27:48.950179Z"
    },
    "papermill": {
     "duration": 0.495979,
     "end_time": "2024-12-11T07:27:48.953415",
     "exception": false,
     "start_time": "2024-12-11T07:27:48.457436",
     "status": "completed"
    },
    "tags": []
   },
   "outputs": [
    {
     "data": {
      "image/png": "[encoded data removed]",
      "text/plain": [
       "<Figure size 1000x800 with 2 Axes>"
      ]
     },
     "metadata": {},
     "output_type": "display_data"
    }
   ],
   "source": [
    "plt.figure(figsize=(10, 8))\n",
    "sns.heatmap(corr_matrix, annot=True, fmt=\".2f\", cmap=\"Spectral\", cbar=True)\n",
    "plt.title('Correlation Matrix Heatmap for Numeric Features', fontsize=16)\n",
    "plt.show()"
   ]
  },
  {
   "cell_type": "markdown",
   "id": "30701d38",
   "metadata": {
    "papermill": {
     "duration": 0.030199,
     "end_time": "2024-12-11T07:27:49.013873",
     "exception": false,
     "start_time": "2024-12-11T07:27:48.983674",
     "status": "completed"
    },
    "tags": []
   },
   "source": [
    "- balance and previous has 72% correlation\n",
    "- balance and campaign has 67% correlation\n",
    "- balance and duration has 67% correlation\n",
    "- previous and duration has 68% correlation"
   ]
  },
  {
   "cell_type": "markdown",
   "id": "43c1f09d",
   "metadata": {
    "papermill": {
     "duration": 0.029813,
     "end_time": "2024-12-11T07:27:49.073855",
     "exception": false,
     "start_time": "2024-12-11T07:27:49.044042",
     "status": "completed"
    },
    "tags": []
   },
   "source": [
    "# Preprocessing"
   ]
  },
  {
   "cell_type": "code",
   "execution_count": 46,
   "id": "7558bc51",
   "metadata": {
    "execution": {
     "iopub.execute_input": "2024-12-11T07:27:49.135920Z",
     "iopub.status.busy": "2024-12-11T07:27:49.135513Z",
     "iopub.status.idle": "2024-12-11T07:27:49.174140Z",
     "shell.execute_reply": "2024-12-11T07:27:49.173013Z"
    },
    "papermill": {
     "duration": 0.072797,
     "end_time": "2024-12-11T07:27:49.176767",
     "exception": false,
     "start_time": "2024-12-11T07:27:49.103970",
     "status": "completed"
    },
    "tags": []
   },
   "outputs": [],
   "source": [
    "train['last contact date'] = pd.to_datetime(train['last contact date'])\n",
    "test['last contact date'] = pd.to_datetime(test['last contact date'])\n",
    "train['year'] = train['last contact date'].dt.year\n",
    "train['month'] = train['last contact date' ].dt.month\n",
    "train['weekday' ] = train['last contact date'].dt.weekday\n",
    "test['year'] = test['last contact date'].dt.year\n",
    "test['month'] = test['last contact date'].dt.month\n",
    "test['weekday' ] = test['last contact date'].dt.weekday\n",
    "train.drop(columns=['last contact date' ],inplace=True)\n",
    "test.drop(columns=['last contact date'],inplace=True)"
   ]
  },
  {
   "cell_type": "code",
   "execution_count": 47,
   "id": "dca99c6c",
   "metadata": {
    "execution": {
     "iopub.execute_input": "2024-12-11T07:27:49.240442Z",
     "iopub.status.busy": "2024-12-11T07:27:49.239477Z",
     "iopub.status.idle": "2024-12-11T07:27:49.250887Z",
     "shell.execute_reply": "2024-12-11T07:27:49.249747Z"
    },
    "papermill": {
     "duration": 0.045475,
     "end_time": "2024-12-11T07:27:49.253301",
     "exception": false,
     "start_time": "2024-12-11T07:27:49.207826",
     "status": "completed"
    },
    "tags": []
   },
   "outputs": [],
   "source": [
    "X = train.drop(columns=['target' ])\n",
    "y = train['target']"
   ]
  },
  {
   "cell_type": "code",
   "execution_count": 48,
   "id": "722ef6b2",
   "metadata": {
    "execution": {
     "iopub.execute_input": "2024-12-11T07:27:49.317215Z",
     "iopub.status.busy": "2024-12-11T07:27:49.316172Z",
     "iopub.status.idle": "2024-12-11T07:27:49.344579Z",
     "shell.execute_reply": "2024-12-11T07:27:49.343547Z"
    },
    "papermill": {
     "duration": 0.062751,
     "end_time": "2024-12-11T07:27:49.346604",
     "exception": false,
     "start_time": "2024-12-11T07:27:49.283853",
     "status": "completed"
    },
    "tags": []
   },
   "outputs": [
    {
     "data": {
      "text/plain": [
       "'binary'"
      ]
     },
     "execution_count": 48,
     "metadata": {},
     "output_type": "execute_result"
    }
   ],
   "source": [
    "type_of_target(y)"
   ]
  },
  {
   "cell_type": "code",
   "execution_count": 49,
   "id": "2301d7a7",
   "metadata": {
    "execution": {
     "iopub.execute_input": "2024-12-11T07:27:49.409167Z",
     "iopub.status.busy": "2024-12-11T07:27:49.408406Z",
     "iopub.status.idle": "2024-12-11T07:27:49.413332Z",
     "shell.execute_reply": "2024-12-11T07:27:49.412330Z"
    },
    "papermill": {
     "duration": 0.038759,
     "end_time": "2024-12-11T07:27:49.415444",
     "exception": false,
     "start_time": "2024-12-11T07:27:49.376685",
     "status": "completed"
    },
    "tags": []
   },
   "outputs": [],
   "source": [
    "columns = ['job', 'marital', 'education','default', 'housing', 'loan', 'contact', 'poutcome']"
   ]
  },
  {
   "cell_type": "code",
   "execution_count": 50,
   "id": "84c6f4ad",
   "metadata": {
    "execution": {
     "iopub.execute_input": "2024-12-11T07:27:49.478398Z",
     "iopub.status.busy": "2024-12-11T07:27:49.477698Z",
     "iopub.status.idle": "2024-12-11T07:27:49.559378Z",
     "shell.execute_reply": "2024-12-11T07:27:49.558451Z"
    },
    "papermill": {
     "duration": 0.115387,
     "end_time": "2024-12-11T07:27:49.561810",
     "exception": false,
     "start_time": "2024-12-11T07:27:49.446423",
     "status": "completed"
    },
    "tags": []
   },
   "outputs": [],
   "source": [
    "\n",
    "encoder_dict = {}\n",
    "for i in columns:\n",
    "    enc = LabelEncoder()\n",
    "    X[i]= enc.fit_transform(X[i])\n",
    "    test[i] = enc.transform(test[i])\n",
    "    encoder_dict[i] = enc"
   ]
  },
  {
   "cell_type": "code",
   "execution_count": 51,
   "id": "cdf60d06",
   "metadata": {
    "execution": {
     "iopub.execute_input": "2024-12-11T07:27:49.623969Z",
     "iopub.status.busy": "2024-12-11T07:27:49.623273Z",
     "iopub.status.idle": "2024-12-11T07:27:49.627653Z",
     "shell.execute_reply": "2024-12-11T07:27:49.626695Z"
    },
    "papermill": {
     "duration": 0.037462,
     "end_time": "2024-12-11T07:27:49.629611",
     "exception": false,
     "start_time": "2024-12-11T07:27:49.592149",
     "status": "completed"
    },
    "tags": []
   },
   "outputs": [],
   "source": [
    "# encoder_dict"
   ]
  },
  {
   "cell_type": "code",
   "execution_count": 52,
   "id": "9f643470",
   "metadata": {
    "execution": {
     "iopub.execute_input": "2024-12-11T07:27:49.691776Z",
     "iopub.status.busy": "2024-12-11T07:27:49.690806Z",
     "iopub.status.idle": "2024-12-11T07:27:52.125841Z",
     "shell.execute_reply": "2024-12-11T07:27:52.123312Z"
    },
    "papermill": {
     "duration": 2.473367,
     "end_time": "2024-12-11T07:27:52.133092",
     "exception": false,
     "start_time": "2024-12-11T07:27:49.659725",
     "status": "completed"
    },
    "tags": []
   },
   "outputs": [],
   "source": [
    "cols = X.columns\n",
    "\n",
    "i_imputer = IterativeImputer(random_state=0)\n",
    "\n",
    "i_imputer = IterativeImputer()\n",
    "X = i_imputer.fit_transform(X)\n",
    "test = i_imputer.transform(test)"
   ]
  },
  {
   "cell_type": "code",
   "execution_count": 53,
   "id": "f3e1cf01",
   "metadata": {
    "execution": {
     "iopub.execute_input": "2024-12-11T07:27:52.251685Z",
     "iopub.status.busy": "2024-12-11T07:27:52.251172Z",
     "iopub.status.idle": "2024-12-11T07:27:52.257121Z",
     "shell.execute_reply": "2024-12-11T07:27:52.256097Z"
    },
    "papermill": {
     "duration": 0.040127,
     "end_time": "2024-12-11T07:27:52.259711",
     "exception": false,
     "start_time": "2024-12-11T07:27:52.219584",
     "status": "completed"
    },
    "tags": []
   },
   "outputs": [],
   "source": [
    "X = pd.DataFrame(X, columns=cols)\n",
    "test = pd.DataFrame(test, columns=cols)"
   ]
  },
  {
   "cell_type": "code",
   "execution_count": 54,
   "id": "a85415e2",
   "metadata": {
    "execution": {
     "iopub.execute_input": "2024-12-11T07:27:52.330177Z",
     "iopub.status.busy": "2024-12-11T07:27:52.329688Z",
     "iopub.status.idle": "2024-12-11T07:27:52.368707Z",
     "shell.execute_reply": "2024-12-11T07:27:52.367619Z"
    },
    "papermill": {
     "duration": 0.074327,
     "end_time": "2024-12-11T07:27:52.371657",
     "exception": false,
     "start_time": "2024-12-11T07:27:52.297330",
     "status": "completed"
    },
    "tags": []
   },
   "outputs": [
    {
     "data": {
      "text/html": [
       "<div>\n",
       "<style scoped>\n",
       "    .dataframe tbody tr th:only-of-type {\n",
       "        vertical-align: middle;\n",
       "    }\n",
       "\n",
       "    .dataframe tbody tr th {\n",
       "        vertical-align: top;\n",
       "    }\n",
       "\n",
       "    .dataframe thead th {\n",
       "        text-align: right;\n",
       "    }\n",
       "</style>\n",
       "<table border=\"1\" class=\"dataframe\">\n",
       "  <thead>\n",
       "    <tr style=\"text-align: right;\">\n",
       "      <th></th>\n",
       "      <th>age</th>\n",
       "      <th>job</th>\n",
       "      <th>marital</th>\n",
       "      <th>education</th>\n",
       "      <th>default</th>\n",
       "      <th>balance</th>\n",
       "      <th>housing</th>\n",
       "      <th>loan</th>\n",
       "      <th>contact</th>\n",
       "      <th>duration</th>\n",
       "      <th>campaign</th>\n",
       "      <th>pdays</th>\n",
       "      <th>previous</th>\n",
       "      <th>poutcome</th>\n",
       "      <th>year</th>\n",
       "      <th>month</th>\n",
       "      <th>weekday</th>\n",
       "    </tr>\n",
       "  </thead>\n",
       "  <tbody>\n",
       "    <tr>\n",
       "      <th>0</th>\n",
       "      <td>26.0</td>\n",
       "      <td>1.0</td>\n",
       "      <td>1.0</td>\n",
       "      <td>1.0</td>\n",
       "      <td>0.0</td>\n",
       "      <td>647.0</td>\n",
       "      <td>1.0</td>\n",
       "      <td>0.0</td>\n",
       "      <td>0.0</td>\n",
       "      <td>357.0</td>\n",
       "      <td>2.0</td>\n",
       "      <td>331.0</td>\n",
       "      <td>1.0</td>\n",
       "      <td>1.0</td>\n",
       "      <td>2009.0</td>\n",
       "      <td>4.0</td>\n",
       "      <td>4.0</td>\n",
       "    </tr>\n",
       "    <tr>\n",
       "      <th>1</th>\n",
       "      <td>52.0</td>\n",
       "      <td>9.0</td>\n",
       "      <td>1.0</td>\n",
       "      <td>1.0</td>\n",
       "      <td>0.0</td>\n",
       "      <td>553.0</td>\n",
       "      <td>1.0</td>\n",
       "      <td>0.0</td>\n",
       "      <td>1.0</td>\n",
       "      <td>160.0</td>\n",
       "      <td>1.0</td>\n",
       "      <td>-1.0</td>\n",
       "      <td>0.0</td>\n",
       "      <td>3.0</td>\n",
       "      <td>2009.0</td>\n",
       "      <td>10.0</td>\n",
       "      <td>6.0</td>\n",
       "    </tr>\n",
       "    <tr>\n",
       "      <th>2</th>\n",
       "      <td>44.0</td>\n",
       "      <td>1.0</td>\n",
       "      <td>1.0</td>\n",
       "      <td>1.0</td>\n",
       "      <td>0.0</td>\n",
       "      <td>1397.0</td>\n",
       "      <td>0.0</td>\n",
       "      <td>0.0</td>\n",
       "      <td>0.0</td>\n",
       "      <td>326.0</td>\n",
       "      <td>1.0</td>\n",
       "      <td>-1.0</td>\n",
       "      <td>0.0</td>\n",
       "      <td>3.0</td>\n",
       "      <td>2010.0</td>\n",
       "      <td>11.0</td>\n",
       "      <td>5.0</td>\n",
       "    </tr>\n",
       "    <tr>\n",
       "      <th>3</th>\n",
       "      <td>33.0</td>\n",
       "      <td>0.0</td>\n",
       "      <td>1.0</td>\n",
       "      <td>1.0</td>\n",
       "      <td>0.0</td>\n",
       "      <td>394.0</td>\n",
       "      <td>1.0</td>\n",
       "      <td>0.0</td>\n",
       "      <td>1.0</td>\n",
       "      <td>104.0</td>\n",
       "      <td>3.0</td>\n",
       "      <td>-1.0</td>\n",
       "      <td>0.0</td>\n",
       "      <td>3.0</td>\n",
       "      <td>2009.0</td>\n",
       "      <td>9.0</td>\n",
       "      <td>1.0</td>\n",
       "    </tr>\n",
       "    <tr>\n",
       "      <th>4</th>\n",
       "      <td>31.0</td>\n",
       "      <td>2.0</td>\n",
       "      <td>2.0</td>\n",
       "      <td>2.0</td>\n",
       "      <td>0.0</td>\n",
       "      <td>137.0</td>\n",
       "      <td>0.0</td>\n",
       "      <td>0.0</td>\n",
       "      <td>0.0</td>\n",
       "      <td>445.0</td>\n",
       "      <td>2.0</td>\n",
       "      <td>-1.0</td>\n",
       "      <td>0.0</td>\n",
       "      <td>3.0</td>\n",
       "      <td>2008.0</td>\n",
       "      <td>1.0</td>\n",
       "      <td>1.0</td>\n",
       "    </tr>\n",
       "    <tr>\n",
       "      <th>...</th>\n",
       "      <td>...</td>\n",
       "      <td>...</td>\n",
       "      <td>...</td>\n",
       "      <td>...</td>\n",
       "      <td>...</td>\n",
       "      <td>...</td>\n",
       "      <td>...</td>\n",
       "      <td>...</td>\n",
       "      <td>...</td>\n",
       "      <td>...</td>\n",
       "      <td>...</td>\n",
       "      <td>...</td>\n",
       "      <td>...</td>\n",
       "      <td>...</td>\n",
       "      <td>...</td>\n",
       "      <td>...</td>\n",
       "      <td>...</td>\n",
       "    </tr>\n",
       "    <tr>\n",
       "      <th>39206</th>\n",
       "      <td>31.0</td>\n",
       "      <td>9.0</td>\n",
       "      <td>2.0</td>\n",
       "      <td>1.0</td>\n",
       "      <td>0.0</td>\n",
       "      <td>0.0</td>\n",
       "      <td>1.0</td>\n",
       "      <td>0.0</td>\n",
       "      <td>0.0</td>\n",
       "      <td>16.0</td>\n",
       "      <td>34.0</td>\n",
       "      <td>-1.0</td>\n",
       "      <td>0.0</td>\n",
       "      <td>3.0</td>\n",
       "      <td>2008.0</td>\n",
       "      <td>7.0</td>\n",
       "      <td>3.0</td>\n",
       "    </tr>\n",
       "    <tr>\n",
       "      <th>39207</th>\n",
       "      <td>59.0</td>\n",
       "      <td>0.0</td>\n",
       "      <td>1.0</td>\n",
       "      <td>0.0</td>\n",
       "      <td>0.0</td>\n",
       "      <td>6187.0</td>\n",
       "      <td>0.0</td>\n",
       "      <td>0.0</td>\n",
       "      <td>0.0</td>\n",
       "      <td>114.0</td>\n",
       "      <td>4.0</td>\n",
       "      <td>-1.0</td>\n",
       "      <td>0.0</td>\n",
       "      <td>3.0</td>\n",
       "      <td>2009.0</td>\n",
       "      <td>7.0</td>\n",
       "      <td>4.0</td>\n",
       "    </tr>\n",
       "    <tr>\n",
       "      <th>39208</th>\n",
       "      <td>36.0</td>\n",
       "      <td>1.0</td>\n",
       "      <td>1.0</td>\n",
       "      <td>1.0</td>\n",
       "      <td>0.0</td>\n",
       "      <td>63.0</td>\n",
       "      <td>1.0</td>\n",
       "      <td>0.0</td>\n",
       "      <td>2.0</td>\n",
       "      <td>56.0</td>\n",
       "      <td>8.0</td>\n",
       "      <td>-1.0</td>\n",
       "      <td>0.0</td>\n",
       "      <td>3.0</td>\n",
       "      <td>2008.0</td>\n",
       "      <td>6.0</td>\n",
       "      <td>0.0</td>\n",
       "    </tr>\n",
       "    <tr>\n",
       "      <th>39209</th>\n",
       "      <td>28.0</td>\n",
       "      <td>8.0</td>\n",
       "      <td>2.0</td>\n",
       "      <td>1.0</td>\n",
       "      <td>0.0</td>\n",
       "      <td>5916.0</td>\n",
       "      <td>0.0</td>\n",
       "      <td>0.0</td>\n",
       "      <td>0.0</td>\n",
       "      <td>93.0</td>\n",
       "      <td>5.0</td>\n",
       "      <td>-1.0</td>\n",
       "      <td>0.0</td>\n",
       "      <td>3.0</td>\n",
       "      <td>2010.0</td>\n",
       "      <td>3.0</td>\n",
       "      <td>5.0</td>\n",
       "    </tr>\n",
       "    <tr>\n",
       "      <th>39210</th>\n",
       "      <td>51.0</td>\n",
       "      <td>8.0</td>\n",
       "      <td>0.0</td>\n",
       "      <td>2.0</td>\n",
       "      <td>1.0</td>\n",
       "      <td>38594.0</td>\n",
       "      <td>1.0</td>\n",
       "      <td>0.0</td>\n",
       "      <td>0.0</td>\n",
       "      <td>1877.0</td>\n",
       "      <td>19.0</td>\n",
       "      <td>780.0</td>\n",
       "      <td>148.0</td>\n",
       "      <td>2.0</td>\n",
       "      <td>2010.0</td>\n",
       "      <td>3.0</td>\n",
       "      <td>1.0</td>\n",
       "    </tr>\n",
       "  </tbody>\n",
       "</table>\n",
       "<p>39211 rows × 17 columns</p>\n",
       "</div>"
      ],
      "text/plain": [
       "        age  job  marital  education  default  balance  housing  loan  \\\n",
       "0      26.0  1.0      1.0        1.0      0.0    647.0      1.0   0.0   \n",
       "1      52.0  9.0      1.0        1.0      0.0    553.0      1.0   0.0   \n",
       "2      44.0  1.0      1.0        1.0      0.0   1397.0      0.0   0.0   \n",
       "3      33.0  0.0      1.0        1.0      0.0    394.0      1.0   0.0   \n",
       "4      31.0  2.0      2.0        2.0      0.0    137.0      0.0   0.0   \n",
       "...     ...  ...      ...        ...      ...      ...      ...   ...   \n",
       "39206  31.0  9.0      2.0        1.0      0.0      0.0      1.0   0.0   \n",
       "39207  59.0  0.0      1.0        0.0      0.0   6187.0      0.0   0.0   \n",
       "39208  36.0  1.0      1.0        1.0      0.0     63.0      1.0   0.0   \n",
       "39209  28.0  8.0      2.0        1.0      0.0   5916.0      0.0   0.0   \n",
       "39210  51.0  8.0      0.0        2.0      1.0  38594.0      1.0   0.0   \n",
       "\n",
       "       contact  duration  campaign  pdays  previous  poutcome    year  month  \\\n",
       "0          0.0     357.0       2.0  331.0       1.0       1.0  2009.0    4.0   \n",
       "1          1.0     160.0       1.0   -1.0       0.0       3.0  2009.0   10.0   \n",
       "2          0.0     326.0       1.0   -1.0       0.0       3.0  2010.0   11.0   \n",
       "3          1.0     104.0       3.0   -1.0       0.0       3.0  2009.0    9.0   \n",
       "4          0.0     445.0       2.0   -1.0       0.0       3.0  2008.0    1.0   \n",
       "...        ...       ...       ...    ...       ...       ...     ...    ...   \n",
       "39206      0.0      16.0      34.0   -1.0       0.0       3.0  2008.0    7.0   \n",
       "39207      0.0     114.0       4.0   -1.0       0.0       3.0  2009.0    7.0   \n",
       "39208      2.0      56.0       8.0   -1.0       0.0       3.0  2008.0    6.0   \n",
       "39209      0.0      93.0       5.0   -1.0       0.0       3.0  2010.0    3.0   \n",
       "39210      0.0    1877.0      19.0  780.0     148.0       2.0  2010.0    3.0   \n",
       "\n",
       "       weekday  \n",
       "0          4.0  \n",
       "1          6.0  \n",
       "2          5.0  \n",
       "3          1.0  \n",
       "4          1.0  \n",
       "...        ...  \n",
       "39206      3.0  \n",
       "39207      4.0  \n",
       "39208      0.0  \n",
       "39209      5.0  \n",
       "39210      1.0  \n",
       "\n",
       "[39211 rows x 17 columns]"
      ]
     },
     "execution_count": 54,
     "metadata": {},
     "output_type": "execute_result"
    }
   ],
   "source": [
    "X"
   ]
  },
  {
   "cell_type": "code",
   "execution_count": 55,
   "id": "42636187",
   "metadata": {
    "execution": {
     "iopub.execute_input": "2024-12-11T07:27:52.444477Z",
     "iopub.status.busy": "2024-12-11T07:27:52.443539Z",
     "iopub.status.idle": "2024-12-11T07:27:52.461493Z",
     "shell.execute_reply": "2024-12-11T07:27:52.460411Z"
    },
    "papermill": {
     "duration": 0.054132,
     "end_time": "2024-12-11T07:27:52.464097",
     "exception": false,
     "start_time": "2024-12-11T07:27:52.409965",
     "status": "completed"
    },
    "tags": []
   },
   "outputs": [],
   "source": [
    "label_enc = LabelEncoder()\n",
    "y = label_enc.fit_transform(y)\n",
    "y = pd.DataFrame(y, columns=['target'])"
   ]
  },
  {
   "cell_type": "code",
   "execution_count": 56,
   "id": "1fe7c9d0",
   "metadata": {
    "execution": {
     "iopub.execute_input": "2024-12-11T07:27:52.536213Z",
     "iopub.status.busy": "2024-12-11T07:27:52.535726Z",
     "iopub.status.idle": "2024-12-11T07:27:52.547458Z",
     "shell.execute_reply": "2024-12-11T07:27:52.546246Z"
    },
    "papermill": {
     "duration": 0.047561,
     "end_time": "2024-12-11T07:27:52.549944",
     "exception": false,
     "start_time": "2024-12-11T07:27:52.502383",
     "status": "completed"
    },
    "tags": []
   },
   "outputs": [],
   "source": [
    "X.drop(columns=['year' ],inplace=True)\n",
    "test.drop(columns=['year'], inplace=True)"
   ]
  },
  {
   "cell_type": "code",
   "execution_count": 57,
   "id": "406dc2f6",
   "metadata": {
    "execution": {
     "iopub.execute_input": "2024-12-11T07:27:52.617673Z",
     "iopub.status.busy": "2024-12-11T07:27:52.616636Z",
     "iopub.status.idle": "2024-12-11T07:27:52.793628Z",
     "shell.execute_reply": "2024-12-11T07:27:52.792630Z"
    },
    "papermill": {
     "duration": 0.214095,
     "end_time": "2024-12-11T07:27:52.796427",
     "exception": false,
     "start_time": "2024-12-11T07:27:52.582332",
     "status": "completed"
    },
    "tags": []
   },
   "outputs": [],
   "source": [
    "x_train, x_test,y_train,y_test=train_test_split(X,y,train_size=0.8,stratify=y,random_state=0)"
   ]
  },
  {
   "cell_type": "code",
   "execution_count": 58,
   "id": "0e4cdbae",
   "metadata": {
    "execution": {
     "iopub.execute_input": "2024-12-11T07:27:52.868017Z",
     "iopub.status.busy": "2024-12-11T07:27:52.867210Z",
     "iopub.status.idle": "2024-12-11T07:27:52.873495Z",
     "shell.execute_reply": "2024-12-11T07:27:52.872511Z"
    },
    "papermill": {
     "duration": 0.041978,
     "end_time": "2024-12-11T07:27:52.875574",
     "exception": false,
     "start_time": "2024-12-11T07:27:52.833596",
     "status": "completed"
    },
    "tags": []
   },
   "outputs": [],
   "source": [
    "categorical_col = ['marital', 'housing', 'loan','default','weekday','contact', 'education','job', 'poutcome']\n",
    "numerical_col = ['age','previous','pdays', 'duration','balance']"
   ]
  },
  {
   "cell_type": "code",
   "execution_count": 59,
   "id": "2f9b97b8",
   "metadata": {
    "execution": {
     "iopub.execute_input": "2024-12-11T07:27:52.942897Z",
     "iopub.status.busy": "2024-12-11T07:27:52.942122Z",
     "iopub.status.idle": "2024-12-11T07:27:52.947476Z",
     "shell.execute_reply": "2024-12-11T07:27:52.946315Z"
    },
    "papermill": {
     "duration": 0.040309,
     "end_time": "2024-12-11T07:27:52.949641",
     "exception": false,
     "start_time": "2024-12-11T07:27:52.909332",
     "status": "completed"
    },
    "tags": []
   },
   "outputs": [],
   "source": [
    "Transformer = ColumnTransformer([('scale',StandardScaler(), numerical_col),\n",
    "                                ('encode', OneHotEncoder(), categorical_col) ], remainder='passthrough')\n",
    "\n"
   ]
  },
  {
   "cell_type": "code",
   "execution_count": 60,
   "id": "c3092686",
   "metadata": {
    "execution": {
     "iopub.execute_input": "2024-12-11T07:27:53.014761Z",
     "iopub.status.busy": "2024-12-11T07:27:53.014336Z",
     "iopub.status.idle": "2024-12-11T07:27:53.103186Z",
     "shell.execute_reply": "2024-12-11T07:27:53.102239Z"
    },
    "papermill": {
     "duration": 0.12389,
     "end_time": "2024-12-11T07:27:53.105521",
     "exception": false,
     "start_time": "2024-12-11T07:27:52.981631",
     "status": "completed"
    },
    "tags": []
   },
   "outputs": [],
   "source": [
    "x_train_transformed = Transformer.fit_transform(x_train)\n",
    "x_test_transformed = Transformer.transform(x_test)\n"
   ]
  },
  {
   "cell_type": "markdown",
   "id": "381a6ea0",
   "metadata": {
    "papermill": {
     "duration": 0.031287,
     "end_time": "2024-12-11T07:27:53.168356",
     "exception": false,
     "start_time": "2024-12-11T07:27:53.137069",
     "status": "completed"
    },
    "tags": []
   },
   "source": [
    "# feature enginnering"
   ]
  },
  {
   "cell_type": "code",
   "execution_count": 61,
   "id": "d544ee5f",
   "metadata": {
    "execution": {
     "iopub.execute_input": "2024-12-11T07:27:53.237202Z",
     "iopub.status.busy": "2024-12-11T07:27:53.236826Z",
     "iopub.status.idle": "2024-12-11T07:27:53.241878Z",
     "shell.execute_reply": "2024-12-11T07:27:53.240654Z"
    },
    "papermill": {
     "duration": 0.043977,
     "end_time": "2024-12-11T07:27:53.244067",
     "exception": false,
     "start_time": "2024-12-11T07:27:53.200090",
     "status": "completed"
    },
    "tags": []
   },
   "outputs": [],
   "source": [
    "# from sklearn.feature_selection import SelectKBest, chi2, mutual_info_classif, f_classif\n",
    "# selector = SelectKBest(chi2,k=10)\n",
    "# X_selected_train = selector.fit_transform(x_train_transformed,y_train)\n",
    "# X_selected_test = selector.transform(x_test_transformed)\n",
    "\n",
    "# X_selected_train = pd.DataFrame(X_selected_train,columns=X_train.columns[selector.get_support()])\n",
    "# X_selected_test = pd.DataFrame(X_selected_val,columns=X_train.columns[selector.get_support()])"
   ]
  },
  {
   "cell_type": "code",
   "execution_count": 62,
   "id": "1104f454",
   "metadata": {
    "execution": {
     "iopub.execute_input": "2024-12-11T07:27:53.311237Z",
     "iopub.status.busy": "2024-12-11T07:27:53.310868Z",
     "iopub.status.idle": "2024-12-11T07:27:53.315456Z",
     "shell.execute_reply": "2024-12-11T07:27:53.314475Z"
    },
    "papermill": {
     "duration": 0.041269,
     "end_time": "2024-12-11T07:27:53.317401",
     "exception": false,
     "start_time": "2024-12-11T07:27:53.276132",
     "status": "completed"
    },
    "tags": []
   },
   "outputs": [],
   "source": [
    "# from sklearn.linear_model import LogisticRegression\n",
    "# from sklearn.feature_selection import RFE\n",
    "# model = LogisticRegression()\n",
    "# rfe_selector = RFE(model,n_features_to_select=9)\n",
    "\n",
    "# X_selected_train = rfe_selector.fit_transform(x_train_transformed,y_train)\n",
    "# X_selected_test = rfe_selector.transform(x_test_transformed)\n",
    "# X_selected_train = pd.DataFrame(X_selected_train,columns=x_train.columns[rfe_selector.get_support()])\n",
    "# X_selected_test = pd.DataFrame(X_selected_val,columns=x_train.columns[rfe_selector.get_support()])"
   ]
  },
  {
   "cell_type": "code",
   "execution_count": 63,
   "id": "a7b119c5",
   "metadata": {
    "execution": {
     "iopub.execute_input": "2024-12-11T07:27:53.383231Z",
     "iopub.status.busy": "2024-12-11T07:27:53.382841Z",
     "iopub.status.idle": "2024-12-11T07:27:54.174604Z",
     "shell.execute_reply": "2024-12-11T07:27:54.172370Z"
    },
    "papermill": {
     "duration": 0.833934,
     "end_time": "2024-12-11T07:27:54.183576",
     "exception": false,
     "start_time": "2024-12-11T07:27:53.349642",
     "status": "completed"
    },
    "tags": []
   },
   "outputs": [],
   "source": [
    "\n",
    "pca = PCA(n_components = 30)\n",
    "X_train_pca = pca.fit_transform(x_train_transformed)\n",
    "X_test_pca = pca.transform(x_test_transformed)"
   ]
  },
  {
   "cell_type": "code",
   "execution_count": 64,
   "id": "61a3718b",
   "metadata": {
    "execution": {
     "iopub.execute_input": "2024-12-11T07:27:54.350134Z",
     "iopub.status.busy": "2024-12-11T07:27:54.349177Z",
     "iopub.status.idle": "2024-12-11T07:27:54.354218Z",
     "shell.execute_reply": "2024-12-11T07:27:54.353210Z"
    },
    "papermill": {
     "duration": 0.100438,
     "end_time": "2024-12-11T07:27:54.356283",
     "exception": false,
     "start_time": "2024-12-11T07:27:54.255845",
     "status": "completed"
    },
    "tags": []
   },
   "outputs": [],
   "source": [
    "X_train_pca = pd.DataFrame(X_train_pca)\n",
    "X_test_pca = pd.DataFrame(X_test_pca)"
   ]
  },
  {
   "cell_type": "code",
   "execution_count": 65,
   "id": "00fe01c7",
   "metadata": {
    "execution": {
     "iopub.execute_input": "2024-12-11T07:27:54.421860Z",
     "iopub.status.busy": "2024-12-11T07:27:54.421484Z",
     "iopub.status.idle": "2024-12-11T07:27:54.428286Z",
     "shell.execute_reply": "2024-12-11T07:27:54.427292Z"
    },
    "papermill": {
     "duration": 0.042215,
     "end_time": "2024-12-11T07:27:54.430289",
     "exception": false,
     "start_time": "2024-12-11T07:27:54.388074",
     "status": "completed"
    },
    "tags": []
   },
   "outputs": [
    {
     "data": {
      "text/plain": [
       "(31368, 30)"
      ]
     },
     "execution_count": 65,
     "metadata": {},
     "output_type": "execute_result"
    }
   ],
   "source": [
    "X_train_pca.shape"
   ]
  },
  {
   "cell_type": "markdown",
   "id": "de6aa315",
   "metadata": {
    "papermill": {
     "duration": 0.032025,
     "end_time": "2024-12-11T07:27:54.494219",
     "exception": false,
     "start_time": "2024-12-11T07:27:54.462194",
     "status": "completed"
    },
    "tags": []
   },
   "source": [
    "- not using X_train_pca beacure of low score"
   ]
  },
  {
   "cell_type": "markdown",
   "id": "8a52afae",
   "metadata": {
    "papermill": {
     "duration": 0.031381,
     "end_time": "2024-12-11T07:27:54.557497",
     "exception": false,
     "start_time": "2024-12-11T07:27:54.526116",
     "status": "completed"
    },
    "tags": []
   },
   "source": [
    "# Model Training"
   ]
  },
  {
   "cell_type": "code",
   "execution_count": 66,
   "id": "0e16e08a",
   "metadata": {
    "execution": {
     "iopub.execute_input": "2024-12-11T07:27:54.622352Z",
     "iopub.status.busy": "2024-12-11T07:27:54.621943Z",
     "iopub.status.idle": "2024-12-11T07:27:54.628307Z",
     "shell.execute_reply": "2024-12-11T07:27:54.627308Z"
    },
    "papermill": {
     "duration": 0.041096,
     "end_time": "2024-12-11T07:27:54.630072",
     "exception": false,
     "start_time": "2024-12-11T07:27:54.588976",
     "status": "completed"
    },
    "tags": []
   },
   "outputs": [],
   "source": [
    "from sklearn.model_selection import cross_validate\n",
    "from sklearn.metrics import accuracy_score, f1_score, confusion_matrix, classification_report\n",
    "\n",
    "cv = StratifiedShuffleSplit(n_splits=3, test_size=0.2, random_state=123)\n",
    "\n",
    "def evaluate(y_test, pred):\n",
    "    print('Accuracy = {}%'.format(round(accuracy_score(y_test, pred),3)*100))\n",
    "    print('F1 Score = {}%'.format(round(f1_score(y_test, pred, average='micro'),3)*100))\n",
    "    print('\\n \\033[1mConfusiton Matrix:\\033[0m\\n',confusion_matrix(y_test, pred))\n",
    "    print('\\n\\033[1mClassification Report:\\033[0m\\n',classification_report(y_test, pred))"
   ]
  },
  {
   "cell_type": "markdown",
   "id": "7ff4f5de",
   "metadata": {
    "papermill": {
     "duration": 0.03131,
     "end_time": "2024-12-11T07:27:54.692909",
     "exception": false,
     "start_time": "2024-12-11T07:27:54.661599",
     "status": "completed"
    },
    "tags": []
   },
   "source": [
    "# LogReg"
   ]
  },
  {
   "cell_type": "code",
   "execution_count": 67,
   "id": "7d71ac9b",
   "metadata": {
    "_kg_hide-input": false,
    "execution": {
     "iopub.execute_input": "2024-12-11T07:27:54.757892Z",
     "iopub.status.busy": "2024-12-11T07:27:54.757217Z",
     "iopub.status.idle": "2024-12-11T07:27:57.545588Z",
     "shell.execute_reply": "2024-12-11T07:27:57.544421Z"
    },
    "papermill": {
     "duration": 2.823424,
     "end_time": "2024-12-11T07:27:57.547877",
     "exception": false,
     "start_time": "2024-12-11T07:27:54.724453",
     "status": "completed"
    },
    "tags": []
   },
   "outputs": [
    {
     "name": "stderr",
     "output_type": "stream",
     "text": [
      "/opt/conda/lib/python3.10/site-packages/sklearn/utils/validation.py:1143: DataConversionWarning: A column-vector y was passed when a 1d array was expected. Please change the shape of y to (n_samples, ), for example using ravel().\n",
      "  y = column_or_1d(y, warn=True)\n",
      "/opt/conda/lib/python3.10/site-packages/sklearn/utils/validation.py:1143: DataConversionWarning: A column-vector y was passed when a 1d array was expected. Please change the shape of y to (n_samples, ), for example using ravel().\n",
      "  y = column_or_1d(y, warn=True)\n",
      "/opt/conda/lib/python3.10/site-packages/sklearn/utils/validation.py:1143: DataConversionWarning: A column-vector y was passed when a 1d array was expected. Please change the shape of y to (n_samples, ), for example using ravel().\n",
      "  y = column_or_1d(y, warn=True)\n"
     ]
    },
    {
     "data": {
      "text/html": [
       "<div>\n",
       "<style scoped>\n",
       "    .dataframe tbody tr th:only-of-type {\n",
       "        vertical-align: middle;\n",
       "    }\n",
       "\n",
       "    .dataframe tbody tr th {\n",
       "        vertical-align: top;\n",
       "    }\n",
       "\n",
       "    .dataframe thead th {\n",
       "        text-align: right;\n",
       "    }\n",
       "</style>\n",
       "<table border=\"1\" class=\"dataframe\">\n",
       "  <thead>\n",
       "    <tr style=\"text-align: right;\">\n",
       "      <th></th>\n",
       "      <th>train_score</th>\n",
       "      <th>test_score</th>\n",
       "    </tr>\n",
       "  </thead>\n",
       "  <tbody>\n",
       "    <tr>\n",
       "      <th>0</th>\n",
       "      <td>0.860564</td>\n",
       "      <td>0.857667</td>\n",
       "    </tr>\n",
       "    <tr>\n",
       "      <th>1</th>\n",
       "      <td>0.858691</td>\n",
       "      <td>0.862608</td>\n",
       "    </tr>\n",
       "    <tr>\n",
       "      <th>2</th>\n",
       "      <td>0.858731</td>\n",
       "      <td>0.861970</td>\n",
       "    </tr>\n",
       "  </tbody>\n",
       "</table>\n",
       "</div>"
      ],
      "text/plain": [
       "   train_score  test_score\n",
       "0     0.860564    0.857667\n",
       "1     0.858691    0.862608\n",
       "2     0.858731    0.861970"
      ]
     },
     "execution_count": 67,
     "metadata": {},
     "output_type": "execute_result"
    }
   ],
   "source": [
    "logreg = LogisticRegression(max_iter=2000)\n",
    "\n",
    "cv_scores_logreg = cross_validate(logreg, x_train_transformed, y_train, cv=cv, n_jobs=-1, verbose=0, scoring='f1_micro', return_train_score=True)\n",
    "pd.DataFrame(cv_scores_logreg, columns=['train_score','test_score'])"
   ]
  },
  {
   "cell_type": "markdown",
   "id": "66c02ac3",
   "metadata": {
    "papermill": {
     "duration": 0.032408,
     "end_time": "2024-12-11T07:27:57.612412",
     "exception": false,
     "start_time": "2024-12-11T07:27:57.580004",
     "status": "completed"
    },
    "tags": []
   },
   "source": [
    "- Will try some Hyperparameter tuining, to get the best params to train the models to increase accuracy.\n",
    "- \n",
    "   Default solver lbfgs is taking much time to train, so instead we will try some fast learners."
   ]
  },
  {
   "cell_type": "markdown",
   "id": "3988233d",
   "metadata": {
    "papermill": {
     "duration": 0.031674,
     "end_time": "2024-12-11T07:27:57.676076",
     "exception": false,
     "start_time": "2024-12-11T07:27:57.644402",
     "status": "completed"
    },
    "tags": []
   },
   "source": [
    "### Hyperparameter tuining for logistic regression"
   ]
  },
  {
   "cell_type": "code",
   "execution_count": 68,
   "id": "433588d5",
   "metadata": {
    "execution": {
     "iopub.execute_input": "2024-12-11T07:27:57.742080Z",
     "iopub.status.busy": "2024-12-11T07:27:57.741629Z",
     "iopub.status.idle": "2024-12-11T07:28:36.416724Z",
     "shell.execute_reply": "2024-12-11T07:28:36.415558Z"
    },
    "papermill": {
     "duration": 38.713244,
     "end_time": "2024-12-11T07:28:36.421350",
     "exception": false,
     "start_time": "2024-12-11T07:27:57.708106",
     "status": "completed"
    },
    "tags": []
   },
   "outputs": [
    {
     "name": "stdout",
     "output_type": "stream",
     "text": [
      "Fitting 3 folds for each of 6 candidates, totalling 18 fits\n"
     ]
    },
    {
     "name": "stderr",
     "output_type": "stream",
     "text": [
      "/opt/conda/lib/python3.10/site-packages/sklearn/utils/validation.py:1143: DataConversionWarning: A column-vector y was passed when a 1d array was expected. Please change the shape of y to (n_samples, ), for example using ravel().\n",
      "  y = column_or_1d(y, warn=True)\n",
      "/opt/conda/lib/python3.10/site-packages/sklearn/utils/validation.py:1143: DataConversionWarning: A column-vector y was passed when a 1d array was expected. Please change the shape of y to (n_samples, ), for example using ravel().\n",
      "  y = column_or_1d(y, warn=True)\n",
      "/opt/conda/lib/python3.10/site-packages/sklearn/utils/validation.py:1143: DataConversionWarning: A column-vector y was passed when a 1d array was expected. Please change the shape of y to (n_samples, ), for example using ravel().\n",
      "  y = column_or_1d(y, warn=True)\n",
      "/opt/conda/lib/python3.10/site-packages/sklearn/utils/validation.py:1143: DataConversionWarning: A column-vector y was passed when a 1d array was expected. Please change the shape of y to (n_samples, ), for example using ravel().\n",
      "  y = column_or_1d(y, warn=True)\n",
      "/opt/conda/lib/python3.10/site-packages/sklearn/utils/validation.py:1143: DataConversionWarning: A column-vector y was passed when a 1d array was expected. Please change the shape of y to (n_samples, ), for example using ravel().\n",
      "  y = column_or_1d(y, warn=True)\n",
      "/opt/conda/lib/python3.10/site-packages/sklearn/utils/validation.py:1143: DataConversionWarning: A column-vector y was passed when a 1d array was expected. Please change the shape of y to (n_samples, ), for example using ravel().\n",
      "  y = column_or_1d(y, warn=True)\n",
      "/opt/conda/lib/python3.10/site-packages/sklearn/utils/validation.py:1143: DataConversionWarning: A column-vector y was passed when a 1d array was expected. Please change the shape of y to (n_samples, ), for example using ravel().\n",
      "  y = column_or_1d(y, warn=True)\n",
      "/opt/conda/lib/python3.10/site-packages/sklearn/utils/validation.py:1143: DataConversionWarning: A column-vector y was passed when a 1d array was expected. Please change the shape of y to (n_samples, ), for example using ravel().\n",
      "  y = column_or_1d(y, warn=True)\n",
      "/opt/conda/lib/python3.10/site-packages/sklearn/utils/validation.py:1143: DataConversionWarning: A column-vector y was passed when a 1d array was expected. Please change the shape of y to (n_samples, ), for example using ravel().\n",
      "  y = column_or_1d(y, warn=True)\n",
      "/opt/conda/lib/python3.10/site-packages/sklearn/utils/validation.py:1143: DataConversionWarning: A column-vector y was passed when a 1d array was expected. Please change the shape of y to (n_samples, ), for example using ravel().\n",
      "  y = column_or_1d(y, warn=True)\n",
      "/opt/conda/lib/python3.10/site-packages/sklearn/utils/validation.py:1143: DataConversionWarning: A column-vector y was passed when a 1d array was expected. Please change the shape of y to (n_samples, ), for example using ravel().\n",
      "  y = column_or_1d(y, warn=True)\n",
      "/opt/conda/lib/python3.10/site-packages/sklearn/utils/validation.py:1143: DataConversionWarning: A column-vector y was passed when a 1d array was expected. Please change the shape of y to (n_samples, ), for example using ravel().\n",
      "  y = column_or_1d(y, warn=True)\n",
      "/opt/conda/lib/python3.10/site-packages/sklearn/utils/validation.py:1143: DataConversionWarning: A column-vector y was passed when a 1d array was expected. Please change the shape of y to (n_samples, ), for example using ravel().\n",
      "  y = column_or_1d(y, warn=True)\n",
      "/opt/conda/lib/python3.10/site-packages/sklearn/utils/validation.py:1143: DataConversionWarning: A column-vector y was passed when a 1d array was expected. Please change the shape of y to (n_samples, ), for example using ravel().\n",
      "  y = column_or_1d(y, warn=True)\n",
      "/opt/conda/lib/python3.10/site-packages/sklearn/utils/validation.py:1143: DataConversionWarning: A column-vector y was passed when a 1d array was expected. Please change the shape of y to (n_samples, ), for example using ravel().\n",
      "  y = column_or_1d(y, warn=True)\n",
      "/opt/conda/lib/python3.10/site-packages/sklearn/utils/validation.py:1143: DataConversionWarning: A column-vector y was passed when a 1d array was expected. Please change the shape of y to (n_samples, ), for example using ravel().\n",
      "  y = column_or_1d(y, warn=True)\n",
      "/opt/conda/lib/python3.10/site-packages/sklearn/utils/validation.py:1143: DataConversionWarning: A column-vector y was passed when a 1d array was expected. Please change the shape of y to (n_samples, ), for example using ravel().\n",
      "  y = column_or_1d(y, warn=True)\n",
      "/opt/conda/lib/python3.10/site-packages/sklearn/utils/validation.py:1143: DataConversionWarning: A column-vector y was passed when a 1d array was expected. Please change the shape of y to (n_samples, ), for example using ravel().\n",
      "  y = column_or_1d(y, warn=True)\n",
      "/opt/conda/lib/python3.10/site-packages/sklearn/utils/validation.py:1143: DataConversionWarning: A column-vector y was passed when a 1d array was expected. Please change the shape of y to (n_samples, ), for example using ravel().\n",
      "  y = column_or_1d(y, warn=True)\n"
     ]
    },
    {
     "data": {
      "text/html": [
       "<style>#sk-container-id-1 {color: black;background-color: white;}#sk-container-id-1 pre{padding: 0;}#sk-container-id-1 div.sk-toggleable {background-color: white;}#sk-container-id-1 label.sk-toggleable__label {cursor: pointer;display: block;width: 100%;margin-bottom: 0;padding: 0.3em;box-sizing: border-box;text-align: center;}#sk-container-id-1 label.sk-toggleable__label-arrow:before {content: \"▸\";float: left;margin-right: 0.25em;color: #696969;}#sk-container-id-1 label.sk-toggleable__label-arrow:hover:before {color: black;}#sk-container-id-1 div.sk-estimator:hover label.sk-toggleable__label-arrow:before {color: black;}#sk-container-id-1 div.sk-toggleable__content {max-height: 0;max-width: 0;overflow: hidden;text-align: left;background-color: #f0f8ff;}#sk-container-id-1 div.sk-toggleable__content pre {margin: 0.2em;color: black;border-radius: 0.25em;background-color: #f0f8ff;}#sk-container-id-1 input.sk-toggleable__control:checked~div.sk-toggleable__content {max-height: 200px;max-width: 100%;overflow: auto;}#sk-container-id-1 input.sk-toggleable__control:checked~label.sk-toggleable__label-arrow:before {content: \"▾\";}#sk-container-id-1 div.sk-estimator input.sk-toggleable__control:checked~label.sk-toggleable__label {background-color: #d4ebff;}#sk-container-id-1 div.sk-label input.sk-toggleable__control:checked~label.sk-toggleable__label {background-color: #d4ebff;}#sk-container-id-1 input.sk-hidden--visually {border: 0;clip: rect(1px 1px 1px 1px);clip: rect(1px, 1px, 1px, 1px);height: 1px;margin: -1px;overflow: hidden;padding: 0;position: absolute;width: 1px;}#sk-container-id-1 div.sk-estimator {font-family: monospace;background-color: #f0f8ff;border: 1px dotted black;border-radius: 0.25em;box-sizing: border-box;margin-bottom: 0.5em;}#sk-container-id-1 div.sk-estimator:hover {background-color: #d4ebff;}#sk-container-id-1 div.sk-parallel-item::after {content: \"\";width: 100%;border-bottom: 1px solid gray;flex-grow: 1;}#sk-container-id-1 div.sk-label:hover label.sk-toggleable__label {background-color: #d4ebff;}#sk-container-id-1 div.sk-serial::before {content: \"\";position: absolute;border-left: 1px solid gray;box-sizing: border-box;top: 0;bottom: 0;left: 50%;z-index: 0;}#sk-container-id-1 div.sk-serial {display: flex;flex-direction: column;align-items: center;background-color: white;padding-right: 0.2em;padding-left: 0.2em;position: relative;}#sk-container-id-1 div.sk-item {position: relative;z-index: 1;}#sk-container-id-1 div.sk-parallel {display: flex;align-items: stretch;justify-content: center;background-color: white;position: relative;}#sk-container-id-1 div.sk-item::before, #sk-container-id-1 div.sk-parallel-item::before {content: \"\";position: absolute;border-left: 1px solid gray;box-sizing: border-box;top: 0;bottom: 0;left: 50%;z-index: -1;}#sk-container-id-1 div.sk-parallel-item {display: flex;flex-direction: column;z-index: 1;position: relative;background-color: white;}#sk-container-id-1 div.sk-parallel-item:first-child::after {align-self: flex-end;width: 50%;}#sk-container-id-1 div.sk-parallel-item:last-child::after {align-self: flex-start;width: 50%;}#sk-container-id-1 div.sk-parallel-item:only-child::after {width: 0;}#sk-container-id-1 div.sk-dashed-wrapped {border: 1px dashed gray;margin: 0 0.4em 0.5em 0.4em;box-sizing: border-box;padding-bottom: 0.4em;background-color: white;}#sk-container-id-1 div.sk-label label {font-family: monospace;font-weight: bold;display: inline-block;line-height: 1.2em;}#sk-container-id-1 div.sk-label-container {text-align: center;}#sk-container-id-1 div.sk-container {/* jupyter's `normalize.less` sets `[hidden] { display: none; }` but bootstrap.min.css set `[hidden] { display: none !important; }` so we also need the `!important` here to be able to override the default hidden behavior on the sphinx rendered scikit-learn.org. See: https://github.com/scikit-learn/scikit-learn/issues/21755 */display: inline-block !important;position: relative;}#sk-container-id-1 div.sk-text-repr-fallback {display: none;}</style><div id=\"sk-container-id-1\" class=\"sk-top-container\"><div class=\"sk-text-repr-fallback\"><pre>GridSearchCV(cv=StratifiedShuffleSplit(n_splits=3, random_state=123, test_size=0.2,\n",
       "            train_size=None),\n",
       "             estimator=LogisticRegression(C=0.1, max_iter=3000), n_jobs=-1,\n",
       "             param_grid=({&#x27;max_iter&#x27;: [1000, 2000],\n",
       "                          &#x27;solver&#x27;: [&#x27;liblinear&#x27;, &#x27;newton-cg&#x27;, &#x27;sag&#x27;]},),\n",
       "             return_train_score=True, scoring=&#x27;f1_micro&#x27;, verbose=1)</pre><b>In a Jupyter environment, please rerun this cell to show the HTML representation or trust the notebook. <br />On GitHub, the HTML representation is unable to render, please try loading this page with nbviewer.org.</b></div><div class=\"sk-container\" hidden><div class=\"sk-item sk-dashed-wrapped\"><div class=\"sk-label-container\"><div class=\"sk-label sk-toggleable\"><input class=\"sk-toggleable__control sk-hidden--visually\" id=\"sk-estimator-id-1\" type=\"checkbox\" ><label for=\"sk-estimator-id-1\" class=\"sk-toggleable__label sk-toggleable__label-arrow\">GridSearchCV</label><div class=\"sk-toggleable__content\"><pre>GridSearchCV(cv=StratifiedShuffleSplit(n_splits=3, random_state=123, test_size=0.2,\n",
       "            train_size=None),\n",
       "             estimator=LogisticRegression(C=0.1, max_iter=3000), n_jobs=-1,\n",
       "             param_grid=({&#x27;max_iter&#x27;: [1000, 2000],\n",
       "                          &#x27;solver&#x27;: [&#x27;liblinear&#x27;, &#x27;newton-cg&#x27;, &#x27;sag&#x27;]},),\n",
       "             return_train_score=True, scoring=&#x27;f1_micro&#x27;, verbose=1)</pre></div></div></div><div class=\"sk-parallel\"><div class=\"sk-parallel-item\"><div class=\"sk-item\"><div class=\"sk-label-container\"><div class=\"sk-label sk-toggleable\"><input class=\"sk-toggleable__control sk-hidden--visually\" id=\"sk-estimator-id-2\" type=\"checkbox\" ><label for=\"sk-estimator-id-2\" class=\"sk-toggleable__label sk-toggleable__label-arrow\">estimator: LogisticRegression</label><div class=\"sk-toggleable__content\"><pre>LogisticRegression(C=0.1, max_iter=3000)</pre></div></div></div><div class=\"sk-serial\"><div class=\"sk-item\"><div class=\"sk-estimator sk-toggleable\"><input class=\"sk-toggleable__control sk-hidden--visually\" id=\"sk-estimator-id-3\" type=\"checkbox\" ><label for=\"sk-estimator-id-3\" class=\"sk-toggleable__label sk-toggleable__label-arrow\">LogisticRegression</label><div class=\"sk-toggleable__content\"><pre>LogisticRegression(C=0.1, max_iter=3000)</pre></div></div></div></div></div></div></div></div></div></div>"
      ],
      "text/plain": [
       "GridSearchCV(cv=StratifiedShuffleSplit(n_splits=3, random_state=123, test_size=0.2,\n",
       "            train_size=None),\n",
       "             estimator=LogisticRegression(C=0.1, max_iter=3000), n_jobs=-1,\n",
       "             param_grid=({'max_iter': [1000, 2000],\n",
       "                          'solver': ['liblinear', 'newton-cg', 'sag']},),\n",
       "             return_train_score=True, scoring='f1_micro', verbose=1)"
      ]
     },
     "execution_count": 68,
     "metadata": {},
     "output_type": "execute_result"
    }
   ],
   "source": [
    "# parameter tunning of model\n",
    "logreg = LogisticRegression(max_iter=3000, penalty='l2', C=0.1)\n",
    "\n",
    "params = {'solver': ['liblinear','newton-cg','sag'],\n",
    "          'max_iter':[1000,2000]},\n",
    "\n",
    "grid_search_log_reg = GridSearchCV(logreg, params, n_jobs=-1, verbose=1, cv=cv, scoring='f1_micro', return_train_score=True)\n",
    "grid_search_log_reg.fit(x_train_transformed, y_train)"
   ]
  },
  {
   "cell_type": "code",
   "execution_count": 69,
   "id": "d43f46a2",
   "metadata": {
    "execution": {
     "iopub.execute_input": "2024-12-11T07:28:36.534355Z",
     "iopub.status.busy": "2024-12-11T07:28:36.533942Z",
     "iopub.status.idle": "2024-12-11T07:28:36.549827Z",
     "shell.execute_reply": "2024-12-11T07:28:36.548787Z"
    },
    "papermill": {
     "duration": 0.06887,
     "end_time": "2024-12-11T07:28:36.551985",
     "exception": false,
     "start_time": "2024-12-11T07:28:36.483115",
     "status": "completed"
    },
    "tags": []
   },
   "outputs": [
    {
     "data": {
      "text/html": [
       "<div>\n",
       "<style scoped>\n",
       "    .dataframe tbody tr th:only-of-type {\n",
       "        vertical-align: middle;\n",
       "    }\n",
       "\n",
       "    .dataframe tbody tr th {\n",
       "        vertical-align: top;\n",
       "    }\n",
       "\n",
       "    .dataframe thead th {\n",
       "        text-align: right;\n",
       "    }\n",
       "</style>\n",
       "<table border=\"1\" class=\"dataframe\">\n",
       "  <thead>\n",
       "    <tr style=\"text-align: right;\">\n",
       "      <th></th>\n",
       "      <th>mean_fit_time</th>\n",
       "      <th>mean_test_score</th>\n",
       "      <th>mean_train_score</th>\n",
       "      <th>rank_test_score</th>\n",
       "    </tr>\n",
       "    <tr>\n",
       "      <th>params</th>\n",
       "      <th></th>\n",
       "      <th></th>\n",
       "      <th></th>\n",
       "      <th></th>\n",
       "    </tr>\n",
       "  </thead>\n",
       "  <tbody>\n",
       "    <tr>\n",
       "      <th>{'max_iter': 1000, 'solver': 'newton-cg'}</th>\n",
       "      <td>1.078076</td>\n",
       "      <td>0.860536</td>\n",
       "      <td>0.859023</td>\n",
       "      <td>1</td>\n",
       "    </tr>\n",
       "    <tr>\n",
       "      <th>{'max_iter': 1000, 'solver': 'sag'}</th>\n",
       "      <td>21.091420</td>\n",
       "      <td>0.860536</td>\n",
       "      <td>0.859063</td>\n",
       "      <td>1</td>\n",
       "    </tr>\n",
       "    <tr>\n",
       "      <th>{'max_iter': 2000, 'solver': 'newton-cg'}</th>\n",
       "      <td>0.893183</td>\n",
       "      <td>0.860536</td>\n",
       "      <td>0.859023</td>\n",
       "      <td>1</td>\n",
       "    </tr>\n",
       "    <tr>\n",
       "      <th>{'max_iter': 2000, 'solver': 'sag'}</th>\n",
       "      <td>16.596110</td>\n",
       "      <td>0.860536</td>\n",
       "      <td>0.859063</td>\n",
       "      <td>1</td>\n",
       "    </tr>\n",
       "    <tr>\n",
       "      <th>{'max_iter': 1000, 'solver': 'liblinear'}</th>\n",
       "      <td>0.200940</td>\n",
       "      <td>0.860536</td>\n",
       "      <td>0.859063</td>\n",
       "      <td>5</td>\n",
       "    </tr>\n",
       "  </tbody>\n",
       "</table>\n",
       "</div>"
      ],
      "text/plain": [
       "                                           mean_fit_time  mean_test_score  \\\n",
       "params                                                                      \n",
       "{'max_iter': 1000, 'solver': 'newton-cg'}       1.078076         0.860536   \n",
       "{'max_iter': 1000, 'solver': 'sag'}            21.091420         0.860536   \n",
       "{'max_iter': 2000, 'solver': 'newton-cg'}       0.893183         0.860536   \n",
       "{'max_iter': 2000, 'solver': 'sag'}            16.596110         0.860536   \n",
       "{'max_iter': 1000, 'solver': 'liblinear'}       0.200940         0.860536   \n",
       "\n",
       "                                           mean_train_score  rank_test_score  \n",
       "params                                                                        \n",
       "{'max_iter': 1000, 'solver': 'newton-cg'}          0.859023                1  \n",
       "{'max_iter': 1000, 'solver': 'sag'}                0.859063                1  \n",
       "{'max_iter': 2000, 'solver': 'newton-cg'}          0.859023                1  \n",
       "{'max_iter': 2000, 'solver': 'sag'}                0.859063                1  \n",
       "{'max_iter': 1000, 'solver': 'liblinear'}          0.859063                5  "
      ]
     },
     "execution_count": 69,
     "metadata": {},
     "output_type": "execute_result"
    }
   ],
   "source": [
    "pd.DataFrame(grid_search_log_reg.cv_results_, columns=['params','mean_fit_time','mean_test_score','mean_train_score','rank_test_score']).sort_values(by='rank_test_score').set_index('params').head()"
   ]
  },
  {
   "cell_type": "markdown",
   "id": "9c25678f",
   "metadata": {
    "papermill": {
     "duration": 0.034653,
     "end_time": "2024-12-11T07:28:36.620413",
     "exception": false,
     "start_time": "2024-12-11T07:28:36.585760",
     "status": "completed"
    },
    "tags": []
   },
   "source": [
    "- All the Solvers performed equally with score with regularization parameter value C=0.1 and penalty='l2'\r",
    "- \n",
    "But with respect to time taken for fitting the model the liblinearr' solver gives best results."
   ]
  },
  {
   "cell_type": "code",
   "execution_count": 70,
   "id": "2374f039",
   "metadata": {
    "execution": {
     "iopub.execute_input": "2024-12-11T07:28:36.689328Z",
     "iopub.status.busy": "2024-12-11T07:28:36.688934Z",
     "iopub.status.idle": "2024-12-11T07:28:36.907441Z",
     "shell.execute_reply": "2024-12-11T07:28:36.904063Z"
    },
    "papermill": {
     "duration": 0.256838,
     "end_time": "2024-12-11T07:28:36.910866",
     "exception": false,
     "start_time": "2024-12-11T07:28:36.654028",
     "status": "completed"
    },
    "tags": []
   },
   "outputs": [
    {
     "name": "stderr",
     "output_type": "stream",
     "text": [
      "/opt/conda/lib/python3.10/site-packages/sklearn/utils/validation.py:1143: DataConversionWarning: A column-vector y was passed when a 1d array was expected. Please change the shape of y to (n_samples, ), for example using ravel().\n",
      "  y = column_or_1d(y, warn=True)\n"
     ]
    },
    {
     "name": "stdout",
     "output_type": "stream",
     "text": [
      "Accuracy = 86.0%\n",
      "F1 Score = 86.0%\n",
      "\n",
      " \u001b[1mConfusiton Matrix:\u001b[0m\n",
      " [[6487  190]\n",
      " [ 906  260]]\n",
      "\n",
      "\u001b[1mClassification Report:\u001b[0m\n",
      "               precision    recall  f1-score   support\n",
      "\n",
      "           0       0.88      0.97      0.92      6677\n",
      "           1       0.58      0.22      0.32      1166\n",
      "\n",
      "    accuracy                           0.86      7843\n",
      "   macro avg       0.73      0.60      0.62      7843\n",
      "weighted avg       0.83      0.86      0.83      7843\n",
      "\n"
     ]
    }
   ],
   "source": [
    "lr = LogisticRegression(max_iter=1000, penalty='l2', C=0.1, solver='liblinear')\n",
    "lr.fit(x_train_transformed, y_train)\n",
    "pred = lr.predict(x_test_transformed)\n",
    "\n",
    "evaluate(y_test, pred)"
   ]
  },
  {
   "cell_type": "markdown",
   "id": "64a3aeaf",
   "metadata": {
    "papermill": {
     "duration": 0.034256,
     "end_time": "2024-12-11T07:28:37.003658",
     "exception": false,
     "start_time": "2024-12-11T07:28:36.969402",
     "status": "completed"
    },
    "tags": []
   },
   "source": [
    "## Light GradientBoost"
   ]
  },
  {
   "cell_type": "code",
   "execution_count": 71,
   "id": "7de01f5c",
   "metadata": {
    "execution": {
     "iopub.execute_input": "2024-12-11T07:28:37.075111Z",
     "iopub.status.busy": "2024-12-11T07:28:37.074711Z",
     "iopub.status.idle": "2024-12-11T07:28:40.345572Z",
     "shell.execute_reply": "2024-12-11T07:28:40.344519Z"
    },
    "papermill": {
     "duration": 3.308405,
     "end_time": "2024-12-11T07:28:40.347710",
     "exception": false,
     "start_time": "2024-12-11T07:28:37.039305",
     "status": "completed"
    },
    "tags": []
   },
   "outputs": [
    {
     "name": "stderr",
     "output_type": "stream",
     "text": [
      "/opt/conda/lib/python3.10/site-packages/sklearn/preprocessing/_label.py:99: DataConversionWarning: A column-vector y was passed when a 1d array was expected. Please change the shape of y to (n_samples, ), for example using ravel().\n",
      "  y = column_or_1d(y, warn=True)\n",
      "/opt/conda/lib/python3.10/site-packages/sklearn/preprocessing/_label.py:134: DataConversionWarning: A column-vector y was passed when a 1d array was expected. Please change the shape of y to (n_samples, ), for example using ravel().\n",
      "  y = column_or_1d(y, dtype=self.classes_.dtype, warn=True)\n",
      "/opt/conda/lib/python3.10/site-packages/sklearn/preprocessing/_label.py:99: DataConversionWarning: A column-vector y was passed when a 1d array was expected. Please change the shape of y to (n_samples, ), for example using ravel().\n",
      "  y = column_or_1d(y, warn=True)\n",
      "/opt/conda/lib/python3.10/site-packages/sklearn/preprocessing/_label.py:134: DataConversionWarning: A column-vector y was passed when a 1d array was expected. Please change the shape of y to (n_samples, ), for example using ravel().\n",
      "  y = column_or_1d(y, dtype=self.classes_.dtype, warn=True)\n",
      "/opt/conda/lib/python3.10/site-packages/sklearn/preprocessing/_label.py:99: DataConversionWarning: A column-vector y was passed when a 1d array was expected. Please change the shape of y to (n_samples, ), for example using ravel().\n",
      "  y = column_or_1d(y, warn=True)\n",
      "/opt/conda/lib/python3.10/site-packages/sklearn/preprocessing/_label.py:134: DataConversionWarning: A column-vector y was passed when a 1d array was expected. Please change the shape of y to (n_samples, ), for example using ravel().\n",
      "  y = column_or_1d(y, dtype=self.classes_.dtype, warn=True)\n"
     ]
    },
    {
     "data": {
      "text/html": [
       "<div>\n",
       "<style scoped>\n",
       "    .dataframe tbody tr th:only-of-type {\n",
       "        vertical-align: middle;\n",
       "    }\n",
       "\n",
       "    .dataframe tbody tr th {\n",
       "        vertical-align: top;\n",
       "    }\n",
       "\n",
       "    .dataframe thead th {\n",
       "        text-align: right;\n",
       "    }\n",
       "</style>\n",
       "<table border=\"1\" class=\"dataframe\">\n",
       "  <thead>\n",
       "    <tr style=\"text-align: right;\">\n",
       "      <th></th>\n",
       "      <th>train_score</th>\n",
       "      <th>test_score</th>\n",
       "    </tr>\n",
       "  </thead>\n",
       "  <tbody>\n",
       "    <tr>\n",
       "      <th>0</th>\n",
       "      <td>0.923049</td>\n",
       "      <td>0.872649</td>\n",
       "    </tr>\n",
       "    <tr>\n",
       "      <th>1</th>\n",
       "      <td>0.921575</td>\n",
       "      <td>0.868824</td>\n",
       "    </tr>\n",
       "    <tr>\n",
       "      <th>2</th>\n",
       "      <td>0.921934</td>\n",
       "      <td>0.866911</td>\n",
       "    </tr>\n",
       "  </tbody>\n",
       "</table>\n",
       "</div>"
      ],
      "text/plain": [
       "   train_score  test_score\n",
       "0     0.923049    0.872649\n",
       "1     0.921575    0.868824\n",
       "2     0.921934    0.866911"
      ]
     },
     "execution_count": 71,
     "metadata": {},
     "output_type": "execute_result"
    }
   ],
   "source": [
    "lgbm  = LGBMClassifier(max_depth = 20)\n",
    "\n",
    "cv_scores_ridge = cross_validate(lgbm, x_train_transformed, y_train, cv=cv, n_jobs=-1, verbose=0, scoring='f1_micro', return_train_score=True)\n",
    "pd.DataFrame(cv_scores_ridge, columns=['train_score','test_score'])"
   ]
  },
  {
   "cell_type": "markdown",
   "id": "a720a379",
   "metadata": {
    "papermill": {
     "duration": 0.033943,
     "end_time": "2024-12-11T07:28:40.415901",
     "exception": false,
     "start_time": "2024-12-11T07:28:40.381958",
     "status": "completed"
    },
    "tags": []
   },
   "source": [
    "### **Hyperparameter tuining for Light Gradient Boost**"
   ]
  },
  {
   "cell_type": "code",
   "execution_count": 72,
   "id": "e7926bf0",
   "metadata": {
    "execution": {
     "iopub.execute_input": "2024-12-11T07:28:40.486505Z",
     "iopub.status.busy": "2024-12-11T07:28:40.486114Z",
     "iopub.status.idle": "2024-12-11T07:28:45.688762Z",
     "shell.execute_reply": "2024-12-11T07:28:45.687694Z"
    },
    "papermill": {
     "duration": 5.240848,
     "end_time": "2024-12-11T07:28:45.690854",
     "exception": false,
     "start_time": "2024-12-11T07:28:40.450006",
     "status": "completed"
    },
    "tags": []
   },
   "outputs": [
    {
     "name": "stdout",
     "output_type": "stream",
     "text": [
      "Fitting 3 folds for each of 3 candidates, totalling 9 fits\n"
     ]
    },
    {
     "name": "stderr",
     "output_type": "stream",
     "text": [
      "/opt/conda/lib/python3.10/site-packages/sklearn/preprocessing/_label.py:99: DataConversionWarning: A column-vector y was passed when a 1d array was expected. Please change the shape of y to (n_samples, ), for example using ravel().\n",
      "  y = column_or_1d(y, warn=True)\n",
      "/opt/conda/lib/python3.10/site-packages/sklearn/preprocessing/_label.py:99: DataConversionWarning: A column-vector y was passed when a 1d array was expected. Please change the shape of y to (n_samples, ), for example using ravel().\n",
      "  y = column_or_1d(y, warn=True)\n",
      "/opt/conda/lib/python3.10/site-packages/sklearn/preprocessing/_label.py:134: DataConversionWarning: A column-vector y was passed when a 1d array was expected. Please change the shape of y to (n_samples, ), for example using ravel().\n",
      "  y = column_or_1d(y, dtype=self.classes_.dtype, warn=True)\n",
      "/opt/conda/lib/python3.10/site-packages/sklearn/preprocessing/_label.py:99: DataConversionWarning: A column-vector y was passed when a 1d array was expected. Please change the shape of y to (n_samples, ), for example using ravel().\n",
      "  y = column_or_1d(y, warn=True)\n",
      "/opt/conda/lib/python3.10/site-packages/sklearn/preprocessing/_label.py:134: DataConversionWarning: A column-vector y was passed when a 1d array was expected. Please change the shape of y to (n_samples, ), for example using ravel().\n",
      "  y = column_or_1d(y, dtype=self.classes_.dtype, warn=True)\n",
      "/opt/conda/lib/python3.10/site-packages/sklearn/preprocessing/_label.py:134: DataConversionWarning: A column-vector y was passed when a 1d array was expected. Please change the shape of y to (n_samples, ), for example using ravel().\n",
      "  y = column_or_1d(y, dtype=self.classes_.dtype, warn=True)\n",
      "/opt/conda/lib/python3.10/site-packages/sklearn/preprocessing/_label.py:99: DataConversionWarning: A column-vector y was passed when a 1d array was expected. Please change the shape of y to (n_samples, ), for example using ravel().\n",
      "  y = column_or_1d(y, warn=True)\n",
      "/opt/conda/lib/python3.10/site-packages/sklearn/preprocessing/_label.py:134: DataConversionWarning: A column-vector y was passed when a 1d array was expected. Please change the shape of y to (n_samples, ), for example using ravel().\n",
      "  y = column_or_1d(y, dtype=self.classes_.dtype, warn=True)\n",
      "/opt/conda/lib/python3.10/site-packages/sklearn/preprocessing/_label.py:99: DataConversionWarning: A column-vector y was passed when a 1d array was expected. Please change the shape of y to (n_samples, ), for example using ravel().\n",
      "  y = column_or_1d(y, warn=True)\n",
      "/opt/conda/lib/python3.10/site-packages/sklearn/preprocessing/_label.py:99: DataConversionWarning: A column-vector y was passed when a 1d array was expected. Please change the shape of y to (n_samples, ), for example using ravel().\n",
      "  y = column_or_1d(y, warn=True)\n",
      "/opt/conda/lib/python3.10/site-packages/sklearn/preprocessing/_label.py:134: DataConversionWarning: A column-vector y was passed when a 1d array was expected. Please change the shape of y to (n_samples, ), for example using ravel().\n",
      "  y = column_or_1d(y, dtype=self.classes_.dtype, warn=True)\n",
      "/opt/conda/lib/python3.10/site-packages/sklearn/preprocessing/_label.py:134: DataConversionWarning: A column-vector y was passed when a 1d array was expected. Please change the shape of y to (n_samples, ), for example using ravel().\n",
      "  y = column_or_1d(y, dtype=self.classes_.dtype, warn=True)\n",
      "/opt/conda/lib/python3.10/site-packages/sklearn/preprocessing/_label.py:99: DataConversionWarning: A column-vector y was passed when a 1d array was expected. Please change the shape of y to (n_samples, ), for example using ravel().\n",
      "  y = column_or_1d(y, warn=True)\n",
      "/opt/conda/lib/python3.10/site-packages/sklearn/preprocessing/_label.py:134: DataConversionWarning: A column-vector y was passed when a 1d array was expected. Please change the shape of y to (n_samples, ), for example using ravel().\n",
      "  y = column_or_1d(y, dtype=self.classes_.dtype, warn=True)\n",
      "/opt/conda/lib/python3.10/site-packages/sklearn/preprocessing/_label.py:99: DataConversionWarning: A column-vector y was passed when a 1d array was expected. Please change the shape of y to (n_samples, ), for example using ravel().\n",
      "  y = column_or_1d(y, warn=True)\n",
      "/opt/conda/lib/python3.10/site-packages/sklearn/preprocessing/_label.py:134: DataConversionWarning: A column-vector y was passed when a 1d array was expected. Please change the shape of y to (n_samples, ), for example using ravel().\n",
      "  y = column_or_1d(y, dtype=self.classes_.dtype, warn=True)\n",
      "/opt/conda/lib/python3.10/site-packages/sklearn/preprocessing/_label.py:99: DataConversionWarning: A column-vector y was passed when a 1d array was expected. Please change the shape of y to (n_samples, ), for example using ravel().\n",
      "  y = column_or_1d(y, warn=True)\n",
      "/opt/conda/lib/python3.10/site-packages/sklearn/preprocessing/_label.py:134: DataConversionWarning: A column-vector y was passed when a 1d array was expected. Please change the shape of y to (n_samples, ), for example using ravel().\n",
      "  y = column_or_1d(y, dtype=self.classes_.dtype, warn=True)\n",
      "/opt/conda/lib/python3.10/site-packages/sklearn/preprocessing/_label.py:99: DataConversionWarning: A column-vector y was passed when a 1d array was expected. Please change the shape of y to (n_samples, ), for example using ravel().\n",
      "  y = column_or_1d(y, warn=True)\n",
      "/opt/conda/lib/python3.10/site-packages/sklearn/preprocessing/_label.py:134: DataConversionWarning: A column-vector y was passed when a 1d array was expected. Please change the shape of y to (n_samples, ), for example using ravel().\n",
      "  y = column_or_1d(y, dtype=self.classes_.dtype, warn=True)\n"
     ]
    },
    {
     "name": "stdout",
     "output_type": "stream",
     "text": [
      "[LightGBM] [Warning] Accuracy may be bad since you didn't explicitly set num_leaves OR 2^max_depth > num_leaves. (num_leaves=31).\n",
      "[LightGBM] [Warning] Accuracy may be bad since you didn't explicitly set num_leaves OR 2^max_depth > num_leaves. (num_leaves=31).\n",
      "[LightGBM] [Info] Number of positive: 4661, number of negative: 26707\n",
      "[LightGBM] [Info] Auto-choosing row-wise multi-threading, the overhead of testing was 0.002973 seconds.\n",
      "You can set `force_row_wise=true` to remove the overhead.\n",
      "And if memory is not enough, you can set `force_col_wise=true`.\n",
      "[LightGBM] [Info] Total Bins 1243\n",
      "[LightGBM] [Info] Number of data points in the train set: 31368, number of used features: 46\n",
      "[LightGBM] [Info] [binary:BoostFromScore]: pavg=0.148591 -> initscore=-1.745696\n",
      "[LightGBM] [Info] Start training from score -1.745696\n"
     ]
    },
    {
     "data": {
      "text/html": [
       "<style>#sk-container-id-2 {color: black;background-color: white;}#sk-container-id-2 pre{padding: 0;}#sk-container-id-2 div.sk-toggleable {background-color: white;}#sk-container-id-2 label.sk-toggleable__label {cursor: pointer;display: block;width: 100%;margin-bottom: 0;padding: 0.3em;box-sizing: border-box;text-align: center;}#sk-container-id-2 label.sk-toggleable__label-arrow:before {content: \"▸\";float: left;margin-right: 0.25em;color: #696969;}#sk-container-id-2 label.sk-toggleable__label-arrow:hover:before {color: black;}#sk-container-id-2 div.sk-estimator:hover label.sk-toggleable__label-arrow:before {color: black;}#sk-container-id-2 div.sk-toggleable__content {max-height: 0;max-width: 0;overflow: hidden;text-align: left;background-color: #f0f8ff;}#sk-container-id-2 div.sk-toggleable__content pre {margin: 0.2em;color: black;border-radius: 0.25em;background-color: #f0f8ff;}#sk-container-id-2 input.sk-toggleable__control:checked~div.sk-toggleable__content {max-height: 200px;max-width: 100%;overflow: auto;}#sk-container-id-2 input.sk-toggleable__control:checked~label.sk-toggleable__label-arrow:before {content: \"▾\";}#sk-container-id-2 div.sk-estimator input.sk-toggleable__control:checked~label.sk-toggleable__label {background-color: #d4ebff;}#sk-container-id-2 div.sk-label input.sk-toggleable__control:checked~label.sk-toggleable__label {background-color: #d4ebff;}#sk-container-id-2 input.sk-hidden--visually {border: 0;clip: rect(1px 1px 1px 1px);clip: rect(1px, 1px, 1px, 1px);height: 1px;margin: -1px;overflow: hidden;padding: 0;position: absolute;width: 1px;}#sk-container-id-2 div.sk-estimator {font-family: monospace;background-color: #f0f8ff;border: 1px dotted black;border-radius: 0.25em;box-sizing: border-box;margin-bottom: 0.5em;}#sk-container-id-2 div.sk-estimator:hover {background-color: #d4ebff;}#sk-container-id-2 div.sk-parallel-item::after {content: \"\";width: 100%;border-bottom: 1px solid gray;flex-grow: 1;}#sk-container-id-2 div.sk-label:hover label.sk-toggleable__label {background-color: #d4ebff;}#sk-container-id-2 div.sk-serial::before {content: \"\";position: absolute;border-left: 1px solid gray;box-sizing: border-box;top: 0;bottom: 0;left: 50%;z-index: 0;}#sk-container-id-2 div.sk-serial {display: flex;flex-direction: column;align-items: center;background-color: white;padding-right: 0.2em;padding-left: 0.2em;position: relative;}#sk-container-id-2 div.sk-item {position: relative;z-index: 1;}#sk-container-id-2 div.sk-parallel {display: flex;align-items: stretch;justify-content: center;background-color: white;position: relative;}#sk-container-id-2 div.sk-item::before, #sk-container-id-2 div.sk-parallel-item::before {content: \"\";position: absolute;border-left: 1px solid gray;box-sizing: border-box;top: 0;bottom: 0;left: 50%;z-index: -1;}#sk-container-id-2 div.sk-parallel-item {display: flex;flex-direction: column;z-index: 1;position: relative;background-color: white;}#sk-container-id-2 div.sk-parallel-item:first-child::after {align-self: flex-end;width: 50%;}#sk-container-id-2 div.sk-parallel-item:last-child::after {align-self: flex-start;width: 50%;}#sk-container-id-2 div.sk-parallel-item:only-child::after {width: 0;}#sk-container-id-2 div.sk-dashed-wrapped {border: 1px dashed gray;margin: 0 0.4em 0.5em 0.4em;box-sizing: border-box;padding-bottom: 0.4em;background-color: white;}#sk-container-id-2 div.sk-label label {font-family: monospace;font-weight: bold;display: inline-block;line-height: 1.2em;}#sk-container-id-2 div.sk-label-container {text-align: center;}#sk-container-id-2 div.sk-container {/* jupyter's `normalize.less` sets `[hidden] { display: none; }` but bootstrap.min.css set `[hidden] { display: none !important; }` so we also need the `!important` here to be able to override the default hidden behavior on the sphinx rendered scikit-learn.org. See: https://github.com/scikit-learn/scikit-learn/issues/21755 */display: inline-block !important;position: relative;}#sk-container-id-2 div.sk-text-repr-fallback {display: none;}</style><div id=\"sk-container-id-2\" class=\"sk-top-container\"><div class=\"sk-text-repr-fallback\"><pre>GridSearchCV(cv=StratifiedShuffleSplit(n_splits=3, random_state=123, test_size=0.2,\n",
       "            train_size=None),\n",
       "             estimator=LGBMClassifier(max_depth=20), n_jobs=-1,\n",
       "             param_grid={&#x27;max_depth&#x27;: [20, 30, 40]}, scoring=&#x27;f1_micro&#x27;,\n",
       "             verbose=1)</pre><b>In a Jupyter environment, please rerun this cell to show the HTML representation or trust the notebook. <br />On GitHub, the HTML representation is unable to render, please try loading this page with nbviewer.org.</b></div><div class=\"sk-container\" hidden><div class=\"sk-item sk-dashed-wrapped\"><div class=\"sk-label-container\"><div class=\"sk-label sk-toggleable\"><input class=\"sk-toggleable__control sk-hidden--visually\" id=\"sk-estimator-id-4\" type=\"checkbox\" ><label for=\"sk-estimator-id-4\" class=\"sk-toggleable__label sk-toggleable__label-arrow\">GridSearchCV</label><div class=\"sk-toggleable__content\"><pre>GridSearchCV(cv=StratifiedShuffleSplit(n_splits=3, random_state=123, test_size=0.2,\n",
       "            train_size=None),\n",
       "             estimator=LGBMClassifier(max_depth=20), n_jobs=-1,\n",
       "             param_grid={&#x27;max_depth&#x27;: [20, 30, 40]}, scoring=&#x27;f1_micro&#x27;,\n",
       "             verbose=1)</pre></div></div></div><div class=\"sk-parallel\"><div class=\"sk-parallel-item\"><div class=\"sk-item\"><div class=\"sk-label-container\"><div class=\"sk-label sk-toggleable\"><input class=\"sk-toggleable__control sk-hidden--visually\" id=\"sk-estimator-id-5\" type=\"checkbox\" ><label for=\"sk-estimator-id-5\" class=\"sk-toggleable__label sk-toggleable__label-arrow\">estimator: LGBMClassifier</label><div class=\"sk-toggleable__content\"><pre>LGBMClassifier(max_depth=20)</pre></div></div></div><div class=\"sk-serial\"><div class=\"sk-item\"><div class=\"sk-estimator sk-toggleable\"><input class=\"sk-toggleable__control sk-hidden--visually\" id=\"sk-estimator-id-6\" type=\"checkbox\" ><label for=\"sk-estimator-id-6\" class=\"sk-toggleable__label sk-toggleable__label-arrow\">LGBMClassifier</label><div class=\"sk-toggleable__content\"><pre>LGBMClassifier(max_depth=20)</pre></div></div></div></div></div></div></div></div></div></div>"
      ],
      "text/plain": [
       "GridSearchCV(cv=StratifiedShuffleSplit(n_splits=3, random_state=123, test_size=0.2,\n",
       "            train_size=None),\n",
       "             estimator=LGBMClassifier(max_depth=20), n_jobs=-1,\n",
       "             param_grid={'max_depth': [20, 30, 40]}, scoring='f1_micro',\n",
       "             verbose=1)"
      ]
     },
     "execution_count": 72,
     "metadata": {},
     "output_type": "execute_result"
    }
   ],
   "source": [
    "lgbm  = LGBMClassifier(max_depth = 20)\n",
    "\n",
    "params = {\n",
    "      'max_depth':[20,30,40]  # Test different maxdepth\n",
    "}\n",
    "\n",
    "grid_search_lgbm = GridSearchCV(lgbm, params, n_jobs=-1, verbose=1, cv=cv, scoring='f1_micro')\n",
    "grid_search_lgbm.fit(x_train_transformed, y_train)"
   ]
  },
  {
   "cell_type": "code",
   "execution_count": 73,
   "id": "0a32d37c",
   "metadata": {
    "execution": {
     "iopub.execute_input": "2024-12-11T07:28:45.762426Z",
     "iopub.status.busy": "2024-12-11T07:28:45.762001Z",
     "iopub.status.idle": "2024-12-11T07:28:45.777992Z",
     "shell.execute_reply": "2024-12-11T07:28:45.776881Z"
    },
    "papermill": {
     "duration": 0.054287,
     "end_time": "2024-12-11T07:28:45.780203",
     "exception": false,
     "start_time": "2024-12-11T07:28:45.725916",
     "status": "completed"
    },
    "tags": []
   },
   "outputs": [
    {
     "data": {
      "text/html": [
       "<div>\n",
       "<style scoped>\n",
       "    .dataframe tbody tr th:only-of-type {\n",
       "        vertical-align: middle;\n",
       "    }\n",
       "\n",
       "    .dataframe tbody tr th {\n",
       "        vertical-align: top;\n",
       "    }\n",
       "\n",
       "    .dataframe thead th {\n",
       "        text-align: right;\n",
       "    }\n",
       "</style>\n",
       "<table border=\"1\" class=\"dataframe\">\n",
       "  <thead>\n",
       "    <tr style=\"text-align: right;\">\n",
       "      <th></th>\n",
       "      <th>mean_fit_time</th>\n",
       "      <th>mean_test_score</th>\n",
       "      <th>mean_train_score</th>\n",
       "      <th>rank_test_score</th>\n",
       "    </tr>\n",
       "    <tr>\n",
       "      <th>params</th>\n",
       "      <th></th>\n",
       "      <th></th>\n",
       "      <th></th>\n",
       "      <th></th>\n",
       "    </tr>\n",
       "  </thead>\n",
       "  <tbody>\n",
       "    <tr>\n",
       "      <th>{'max_depth': 20}</th>\n",
       "      <td>1.717151</td>\n",
       "      <td>0.869461</td>\n",
       "      <td>NaN</td>\n",
       "      <td>1</td>\n",
       "    </tr>\n",
       "    <tr>\n",
       "      <th>{'max_depth': 30}</th>\n",
       "      <td>1.593747</td>\n",
       "      <td>0.869461</td>\n",
       "      <td>NaN</td>\n",
       "      <td>1</td>\n",
       "    </tr>\n",
       "    <tr>\n",
       "      <th>{'max_depth': 40}</th>\n",
       "      <td>1.162345</td>\n",
       "      <td>0.869461</td>\n",
       "      <td>NaN</td>\n",
       "      <td>1</td>\n",
       "    </tr>\n",
       "  </tbody>\n",
       "</table>\n",
       "</div>"
      ],
      "text/plain": [
       "                   mean_fit_time  mean_test_score mean_train_score  \\\n",
       "params                                                               \n",
       "{'max_depth': 20}       1.717151         0.869461              NaN   \n",
       "{'max_depth': 30}       1.593747         0.869461              NaN   \n",
       "{'max_depth': 40}       1.162345         0.869461              NaN   \n",
       "\n",
       "                   rank_test_score  \n",
       "params                              \n",
       "{'max_depth': 20}                1  \n",
       "{'max_depth': 30}                1  \n",
       "{'max_depth': 40}                1  "
      ]
     },
     "execution_count": 73,
     "metadata": {},
     "output_type": "execute_result"
    }
   ],
   "source": [
    "pd.DataFrame(grid_search_lgbm.cv_results_, columns=['params','mean_fit_time','mean_test_score','mean_train_score','rank_test_score']).sort_values(by='rank_test_score').set_index('params').head()"
   ]
  },
  {
   "cell_type": "code",
   "execution_count": 74,
   "id": "21dc4edf",
   "metadata": {
    "execution": {
     "iopub.execute_input": "2024-12-11T07:28:45.851926Z",
     "iopub.status.busy": "2024-12-11T07:28:45.851563Z",
     "iopub.status.idle": "2024-12-11T07:28:46.400746Z",
     "shell.execute_reply": "2024-12-11T07:28:46.399237Z"
    },
    "papermill": {
     "duration": 0.587698,
     "end_time": "2024-12-11T07:28:46.403169",
     "exception": false,
     "start_time": "2024-12-11T07:28:45.815471",
     "status": "completed"
    },
    "tags": []
   },
   "outputs": [
    {
     "name": "stderr",
     "output_type": "stream",
     "text": [
      "/opt/conda/lib/python3.10/site-packages/sklearn/preprocessing/_label.py:99: DataConversionWarning: A column-vector y was passed when a 1d array was expected. Please change the shape of y to (n_samples, ), for example using ravel().\n",
      "  y = column_or_1d(y, warn=True)\n",
      "/opt/conda/lib/python3.10/site-packages/sklearn/preprocessing/_label.py:134: DataConversionWarning: A column-vector y was passed when a 1d array was expected. Please change the shape of y to (n_samples, ), for example using ravel().\n",
      "  y = column_or_1d(y, dtype=self.classes_.dtype, warn=True)\n"
     ]
    },
    {
     "name": "stdout",
     "output_type": "stream",
     "text": [
      "[LightGBM] [Warning] Accuracy may be bad since you didn't explicitly set num_leaves OR 2^max_depth > num_leaves. (num_leaves=31).\n",
      "[LightGBM] [Warning] Accuracy may be bad since you didn't explicitly set num_leaves OR 2^max_depth > num_leaves. (num_leaves=31).\n",
      "[LightGBM] [Info] Number of positive: 4661, number of negative: 26707\n",
      "[LightGBM] [Info] Auto-choosing row-wise multi-threading, the overhead of testing was 0.004198 seconds.\n",
      "You can set `force_row_wise=true` to remove the overhead.\n",
      "And if memory is not enough, you can set `force_col_wise=true`.\n",
      "[LightGBM] [Info] Total Bins 1243\n",
      "[LightGBM] [Info] Number of data points in the train set: 31368, number of used features: 46\n",
      "[LightGBM] [Info] [binary:BoostFromScore]: pavg=0.148591 -> initscore=-1.745696\n",
      "[LightGBM] [Info] Start training from score -1.745696\n",
      "[LightGBM] [Warning] Accuracy may be bad since you didn't explicitly set num_leaves OR 2^max_depth > num_leaves. (num_leaves=31).\n",
      "Accuracy = 87.0%\n",
      "F1 Score = 87.0%\n",
      "\n",
      " \u001b[1mConfusiton Matrix:\u001b[0m\n",
      " [[6275  402]\n",
      " [ 614  552]]\n",
      "\n",
      "\u001b[1mClassification Report:\u001b[0m\n",
      "               precision    recall  f1-score   support\n",
      "\n",
      "           0       0.91      0.94      0.93      6677\n",
      "           1       0.58      0.47      0.52      1166\n",
      "\n",
      "    accuracy                           0.87      7843\n",
      "   macro avg       0.74      0.71      0.72      7843\n",
      "weighted avg       0.86      0.87      0.86      7843\n",
      "\n"
     ]
    }
   ],
   "source": [
    "lgbm  = LGBMClassifier(max_depth = 20)\n",
    "\n",
    "lgbm.fit(x_train_transformed, y_train)\n",
    "y_pred = lgbm.predict(x_test_transformed)\n",
    "\n",
    "evaluate(y_test, y_pred)"
   ]
  },
  {
   "cell_type": "markdown",
   "id": "8899812d",
   "metadata": {
    "papermill": {
     "duration": 0.034964,
     "end_time": "2024-12-11T07:28:46.473475",
     "exception": false,
     "start_time": "2024-12-11T07:28:46.438511",
     "status": "completed"
    },
    "tags": []
   },
   "source": [
    "# XGBoost"
   ]
  },
  {
   "cell_type": "code",
   "execution_count": 75,
   "id": "57d68ced",
   "metadata": {
    "execution": {
     "iopub.execute_input": "2024-12-11T07:28:46.545921Z",
     "iopub.status.busy": "2024-12-11T07:28:46.545125Z",
     "iopub.status.idle": "2024-12-11T07:28:48.286140Z",
     "shell.execute_reply": "2024-12-11T07:28:48.284981Z"
    },
    "papermill": {
     "duration": 1.780011,
     "end_time": "2024-12-11T07:28:48.288482",
     "exception": false,
     "start_time": "2024-12-11T07:28:46.508471",
     "status": "completed"
    },
    "tags": []
   },
   "outputs": [
    {
     "data": {
      "text/html": [
       "<div>\n",
       "<style scoped>\n",
       "    .dataframe tbody tr th:only-of-type {\n",
       "        vertical-align: middle;\n",
       "    }\n",
       "\n",
       "    .dataframe tbody tr th {\n",
       "        vertical-align: top;\n",
       "    }\n",
       "\n",
       "    .dataframe thead th {\n",
       "        text-align: right;\n",
       "    }\n",
       "</style>\n",
       "<table border=\"1\" class=\"dataframe\">\n",
       "  <thead>\n",
       "    <tr style=\"text-align: right;\">\n",
       "      <th></th>\n",
       "      <th>train_score</th>\n",
       "      <th>test_score</th>\n",
       "    </tr>\n",
       "  </thead>\n",
       "  <tbody>\n",
       "    <tr>\n",
       "      <th>0</th>\n",
       "      <td>0.936519</td>\n",
       "      <td>0.872011</td>\n",
       "    </tr>\n",
       "    <tr>\n",
       "      <th>1</th>\n",
       "      <td>0.934925</td>\n",
       "      <td>0.868505</td>\n",
       "    </tr>\n",
       "    <tr>\n",
       "      <th>2</th>\n",
       "      <td>0.935164</td>\n",
       "      <td>0.870418</td>\n",
       "    </tr>\n",
       "  </tbody>\n",
       "</table>\n",
       "</div>"
      ],
      "text/plain": [
       "   train_score  test_score\n",
       "0     0.936519    0.872011\n",
       "1     0.934925    0.868505\n",
       "2     0.935164    0.870418"
      ]
     },
     "execution_count": 75,
     "metadata": {},
     "output_type": "execute_result"
    }
   ],
   "source": [
    "xgb  = XGBClassifier(max_depth = 5)\n",
    "\n",
    "cv_scores_xgb = cross_validate(xgb, x_train_transformed, y_train, cv=cv, n_jobs=-1, verbose=0, scoring='f1_micro', return_train_score=True)\n",
    "pd.DataFrame(cv_scores_xgb, columns=['train_score','test_score'])"
   ]
  },
  {
   "cell_type": "markdown",
   "id": "9fd46b96",
   "metadata": {
    "papermill": {
     "duration": 0.036333,
     "end_time": "2024-12-11T07:28:48.361010",
     "exception": false,
     "start_time": "2024-12-11T07:28:48.324677",
     "status": "completed"
    },
    "tags": []
   },
   "source": [
    "- the train score is high but test score is low classic case of over fitting so will perform hyperparameter tuining to get good params"
   ]
  },
  {
   "cell_type": "markdown",
   "id": "d8ad285c",
   "metadata": {
    "papermill": {
     "duration": 0.03496,
     "end_time": "2024-12-11T07:28:48.431288",
     "exception": false,
     "start_time": "2024-12-11T07:28:48.396328",
     "status": "completed"
    },
    "tags": []
   },
   "source": [
    " ### Hyperparameter tuining for xgb"
   ]
  },
  {
   "cell_type": "code",
   "execution_count": 76,
   "id": "e57ec579",
   "metadata": {
    "execution": {
     "iopub.execute_input": "2024-12-11T07:28:48.503504Z",
     "iopub.status.busy": "2024-12-11T07:28:48.502766Z",
     "iopub.status.idle": "2024-12-11T07:28:59.671230Z",
     "shell.execute_reply": "2024-12-11T07:28:59.670263Z"
    },
    "papermill": {
     "duration": 11.206637,
     "end_time": "2024-12-11T07:28:59.673226",
     "exception": false,
     "start_time": "2024-12-11T07:28:48.466589",
     "status": "completed"
    },
    "tags": []
   },
   "outputs": [
    {
     "name": "stdout",
     "output_type": "stream",
     "text": [
      "Fitting 3 folds for each of 4 candidates, totalling 12 fits\n"
     ]
    },
    {
     "data": {
      "text/html": [
       "<style>#sk-container-id-3 {color: black;background-color: white;}#sk-container-id-3 pre{padding: 0;}#sk-container-id-3 div.sk-toggleable {background-color: white;}#sk-container-id-3 label.sk-toggleable__label {cursor: pointer;display: block;width: 100%;margin-bottom: 0;padding: 0.3em;box-sizing: border-box;text-align: center;}#sk-container-id-3 label.sk-toggleable__label-arrow:before {content: \"▸\";float: left;margin-right: 0.25em;color: #696969;}#sk-container-id-3 label.sk-toggleable__label-arrow:hover:before {color: black;}#sk-container-id-3 div.sk-estimator:hover label.sk-toggleable__label-arrow:before {color: black;}#sk-container-id-3 div.sk-toggleable__content {max-height: 0;max-width: 0;overflow: hidden;text-align: left;background-color: #f0f8ff;}#sk-container-id-3 div.sk-toggleable__content pre {margin: 0.2em;color: black;border-radius: 0.25em;background-color: #f0f8ff;}#sk-container-id-3 input.sk-toggleable__control:checked~div.sk-toggleable__content {max-height: 200px;max-width: 100%;overflow: auto;}#sk-container-id-3 input.sk-toggleable__control:checked~label.sk-toggleable__label-arrow:before {content: \"▾\";}#sk-container-id-3 div.sk-estimator input.sk-toggleable__control:checked~label.sk-toggleable__label {background-color: #d4ebff;}#sk-container-id-3 div.sk-label input.sk-toggleable__control:checked~label.sk-toggleable__label {background-color: #d4ebff;}#sk-container-id-3 input.sk-hidden--visually {border: 0;clip: rect(1px 1px 1px 1px);clip: rect(1px, 1px, 1px, 1px);height: 1px;margin: -1px;overflow: hidden;padding: 0;position: absolute;width: 1px;}#sk-container-id-3 div.sk-estimator {font-family: monospace;background-color: #f0f8ff;border: 1px dotted black;border-radius: 0.25em;box-sizing: border-box;margin-bottom: 0.5em;}#sk-container-id-3 div.sk-estimator:hover {background-color: #d4ebff;}#sk-container-id-3 div.sk-parallel-item::after {content: \"\";width: 100%;border-bottom: 1px solid gray;flex-grow: 1;}#sk-container-id-3 div.sk-label:hover label.sk-toggleable__label {background-color: #d4ebff;}#sk-container-id-3 div.sk-serial::before {content: \"\";position: absolute;border-left: 1px solid gray;box-sizing: border-box;top: 0;bottom: 0;left: 50%;z-index: 0;}#sk-container-id-3 div.sk-serial {display: flex;flex-direction: column;align-items: center;background-color: white;padding-right: 0.2em;padding-left: 0.2em;position: relative;}#sk-container-id-3 div.sk-item {position: relative;z-index: 1;}#sk-container-id-3 div.sk-parallel {display: flex;align-items: stretch;justify-content: center;background-color: white;position: relative;}#sk-container-id-3 div.sk-item::before, #sk-container-id-3 div.sk-parallel-item::before {content: \"\";position: absolute;border-left: 1px solid gray;box-sizing: border-box;top: 0;bottom: 0;left: 50%;z-index: -1;}#sk-container-id-3 div.sk-parallel-item {display: flex;flex-direction: column;z-index: 1;position: relative;background-color: white;}#sk-container-id-3 div.sk-parallel-item:first-child::after {align-self: flex-end;width: 50%;}#sk-container-id-3 div.sk-parallel-item:last-child::after {align-self: flex-start;width: 50%;}#sk-container-id-3 div.sk-parallel-item:only-child::after {width: 0;}#sk-container-id-3 div.sk-dashed-wrapped {border: 1px dashed gray;margin: 0 0.4em 0.5em 0.4em;box-sizing: border-box;padding-bottom: 0.4em;background-color: white;}#sk-container-id-3 div.sk-label label {font-family: monospace;font-weight: bold;display: inline-block;line-height: 1.2em;}#sk-container-id-3 div.sk-label-container {text-align: center;}#sk-container-id-3 div.sk-container {/* jupyter's `normalize.less` sets `[hidden] { display: none; }` but bootstrap.min.css set `[hidden] { display: none !important; }` so we also need the `!important` here to be able to override the default hidden behavior on the sphinx rendered scikit-learn.org. See: https://github.com/scikit-learn/scikit-learn/issues/21755 */display: inline-block !important;position: relative;}#sk-container-id-3 div.sk-text-repr-fallback {display: none;}</style><div id=\"sk-container-id-3\" class=\"sk-top-container\"><div class=\"sk-text-repr-fallback\"><pre>GridSearchCV(cv=StratifiedShuffleSplit(n_splits=3, random_state=123, test_size=0.2,\n",
       "            train_size=None),\n",
       "             estimator=XGBClassifier(base_score=None, booster=None,\n",
       "                                     callbacks=None, colsample_bylevel=None,\n",
       "                                     colsample_bynode=None,\n",
       "                                     colsample_bytree=None, device=None,\n",
       "                                     early_stopping_rounds=None,\n",
       "                                     enable_categorical=False, eval_metric=None,\n",
       "                                     feature_types=None, gamma=None,\n",
       "                                     grow_p...\n",
       "                                     learning_rate=None, max_bin=None,\n",
       "                                     max_cat_threshold=None,\n",
       "                                     max_cat_to_onehot=None,\n",
       "                                     max_delta_step=None, max_depth=5,\n",
       "                                     max_leaves=None, min_child_weight=None,\n",
       "                                     missing=nan, monotone_constraints=None,\n",
       "                                     multi_strategy=None, n_estimators=None,\n",
       "                                     n_jobs=None, num_parallel_tree=None,\n",
       "                                     random_state=None, ...),\n",
       "             n_jobs=-1, param_grid={&#x27;max_depth&#x27;: [5, 7, 10, 15]},\n",
       "             scoring=&#x27;f1_micro&#x27;, verbose=1)</pre><b>In a Jupyter environment, please rerun this cell to show the HTML representation or trust the notebook. <br />On GitHub, the HTML representation is unable to render, please try loading this page with nbviewer.org.</b></div><div class=\"sk-container\" hidden><div class=\"sk-item sk-dashed-wrapped\"><div class=\"sk-label-container\"><div class=\"sk-label sk-toggleable\"><input class=\"sk-toggleable__control sk-hidden--visually\" id=\"sk-estimator-id-7\" type=\"checkbox\" ><label for=\"sk-estimator-id-7\" class=\"sk-toggleable__label sk-toggleable__label-arrow\">GridSearchCV</label><div class=\"sk-toggleable__content\"><pre>GridSearchCV(cv=StratifiedShuffleSplit(n_splits=3, random_state=123, test_size=0.2,\n",
       "            train_size=None),\n",
       "             estimator=XGBClassifier(base_score=None, booster=None,\n",
       "                                     callbacks=None, colsample_bylevel=None,\n",
       "                                     colsample_bynode=None,\n",
       "                                     colsample_bytree=None, device=None,\n",
       "                                     early_stopping_rounds=None,\n",
       "                                     enable_categorical=False, eval_metric=None,\n",
       "                                     feature_types=None, gamma=None,\n",
       "                                     grow_p...\n",
       "                                     learning_rate=None, max_bin=None,\n",
       "                                     max_cat_threshold=None,\n",
       "                                     max_cat_to_onehot=None,\n",
       "                                     max_delta_step=None, max_depth=5,\n",
       "                                     max_leaves=None, min_child_weight=None,\n",
       "                                     missing=nan, monotone_constraints=None,\n",
       "                                     multi_strategy=None, n_estimators=None,\n",
       "                                     n_jobs=None, num_parallel_tree=None,\n",
       "                                     random_state=None, ...),\n",
       "             n_jobs=-1, param_grid={&#x27;max_depth&#x27;: [5, 7, 10, 15]},\n",
       "             scoring=&#x27;f1_micro&#x27;, verbose=1)</pre></div></div></div><div class=\"sk-parallel\"><div class=\"sk-parallel-item\"><div class=\"sk-item\"><div class=\"sk-label-container\"><div class=\"sk-label sk-toggleable\"><input class=\"sk-toggleable__control sk-hidden--visually\" id=\"sk-estimator-id-8\" type=\"checkbox\" ><label for=\"sk-estimator-id-8\" class=\"sk-toggleable__label sk-toggleable__label-arrow\">estimator: XGBClassifier</label><div class=\"sk-toggleable__content\"><pre>XGBClassifier(base_score=None, booster=None, callbacks=None,\n",
       "              colsample_bylevel=None, colsample_bynode=None,\n",
       "              colsample_bytree=None, device=None, early_stopping_rounds=None,\n",
       "              enable_categorical=False, eval_metric=None, feature_types=None,\n",
       "              gamma=None, grow_policy=None, importance_type=None,\n",
       "              interaction_constraints=None, learning_rate=None, max_bin=None,\n",
       "              max_cat_threshold=None, max_cat_to_onehot=None,\n",
       "              max_delta_step=None, max_depth=5, max_leaves=None,\n",
       "              min_child_weight=None, missing=nan, monotone_constraints=None,\n",
       "              multi_strategy=None, n_estimators=None, n_jobs=None,\n",
       "              num_parallel_tree=None, random_state=None, ...)</pre></div></div></div><div class=\"sk-serial\"><div class=\"sk-item\"><div class=\"sk-estimator sk-toggleable\"><input class=\"sk-toggleable__control sk-hidden--visually\" id=\"sk-estimator-id-9\" type=\"checkbox\" ><label for=\"sk-estimator-id-9\" class=\"sk-toggleable__label sk-toggleable__label-arrow\">XGBClassifier</label><div class=\"sk-toggleable__content\"><pre>XGBClassifier(base_score=None, booster=None, callbacks=None,\n",
       "              colsample_bylevel=None, colsample_bynode=None,\n",
       "              colsample_bytree=None, device=None, early_stopping_rounds=None,\n",
       "              enable_categorical=False, eval_metric=None, feature_types=None,\n",
       "              gamma=None, grow_policy=None, importance_type=None,\n",
       "              interaction_constraints=None, learning_rate=None, max_bin=None,\n",
       "              max_cat_threshold=None, max_cat_to_onehot=None,\n",
       "              max_delta_step=None, max_depth=5, max_leaves=None,\n",
       "              min_child_weight=None, missing=nan, monotone_constraints=None,\n",
       "              multi_strategy=None, n_estimators=None, n_jobs=None,\n",
       "              num_parallel_tree=None, random_state=None, ...)</pre></div></div></div></div></div></div></div></div></div></div>"
      ],
      "text/plain": [
       "GridSearchCV(cv=StratifiedShuffleSplit(n_splits=3, random_state=123, test_size=0.2,\n",
       "            train_size=None),\n",
       "             estimator=XGBClassifier(base_score=None, booster=None,\n",
       "                                     callbacks=None, colsample_bylevel=None,\n",
       "                                     colsample_bynode=None,\n",
       "                                     colsample_bytree=None, device=None,\n",
       "                                     early_stopping_rounds=None,\n",
       "                                     enable_categorical=False, eval_metric=None,\n",
       "                                     feature_types=None, gamma=None,\n",
       "                                     grow_p...\n",
       "                                     learning_rate=None, max_bin=None,\n",
       "                                     max_cat_threshold=None,\n",
       "                                     max_cat_to_onehot=None,\n",
       "                                     max_delta_step=None, max_depth=5,\n",
       "                                     max_leaves=None, min_child_weight=None,\n",
       "                                     missing=nan, monotone_constraints=None,\n",
       "                                     multi_strategy=None, n_estimators=None,\n",
       "                                     n_jobs=None, num_parallel_tree=None,\n",
       "                                     random_state=None, ...),\n",
       "             n_jobs=-1, param_grid={'max_depth': [5, 7, 10, 15]},\n",
       "             scoring='f1_micro', verbose=1)"
      ]
     },
     "execution_count": 76,
     "metadata": {},
     "output_type": "execute_result"
    }
   ],
   "source": [
    "xgb  = XGBClassifier(max_depth = 5)\n",
    "\n",
    "params = {\n",
    "      'max_depth':[5,7,10,15]  # Test different maxdepth\n",
    "}\n",
    "\n",
    "grid_search_xgb = GridSearchCV(xgb, params, n_jobs=-1, verbose=1, cv=cv, scoring='f1_micro')\n",
    "grid_search_xgb.fit(x_train_transformed, y_train)"
   ]
  },
  {
   "cell_type": "code",
   "execution_count": 77,
   "id": "f6c80734",
   "metadata": {
    "execution": {
     "iopub.execute_input": "2024-12-11T07:28:59.748399Z",
     "iopub.status.busy": "2024-12-11T07:28:59.747575Z",
     "iopub.status.idle": "2024-12-11T07:28:59.762862Z",
     "shell.execute_reply": "2024-12-11T07:28:59.761640Z"
    },
    "papermill": {
     "duration": 0.054662,
     "end_time": "2024-12-11T07:28:59.764980",
     "exception": false,
     "start_time": "2024-12-11T07:28:59.710318",
     "status": "completed"
    },
    "tags": []
   },
   "outputs": [
    {
     "data": {
      "text/html": [
       "<div>\n",
       "<style scoped>\n",
       "    .dataframe tbody tr th:only-of-type {\n",
       "        vertical-align: middle;\n",
       "    }\n",
       "\n",
       "    .dataframe tbody tr th {\n",
       "        vertical-align: top;\n",
       "    }\n",
       "\n",
       "    .dataframe thead th {\n",
       "        text-align: right;\n",
       "    }\n",
       "</style>\n",
       "<table border=\"1\" class=\"dataframe\">\n",
       "  <thead>\n",
       "    <tr style=\"text-align: right;\">\n",
       "      <th></th>\n",
       "      <th>mean_fit_time</th>\n",
       "      <th>mean_test_score</th>\n",
       "      <th>mean_train_score</th>\n",
       "      <th>rank_test_score</th>\n",
       "    </tr>\n",
       "    <tr>\n",
       "      <th>params</th>\n",
       "      <th></th>\n",
       "      <th></th>\n",
       "      <th></th>\n",
       "      <th></th>\n",
       "    </tr>\n",
       "  </thead>\n",
       "  <tbody>\n",
       "    <tr>\n",
       "      <th>{'max_depth': 5}</th>\n",
       "      <td>0.437003</td>\n",
       "      <td>0.870311</td>\n",
       "      <td>NaN</td>\n",
       "      <td>1</td>\n",
       "    </tr>\n",
       "    <tr>\n",
       "      <th>{'max_depth': 10}</th>\n",
       "      <td>0.869611</td>\n",
       "      <td>0.869461</td>\n",
       "      <td>NaN</td>\n",
       "      <td>2</td>\n",
       "    </tr>\n",
       "    <tr>\n",
       "      <th>{'max_depth': 7}</th>\n",
       "      <td>0.585576</td>\n",
       "      <td>0.868292</td>\n",
       "      <td>NaN</td>\n",
       "      <td>3</td>\n",
       "    </tr>\n",
       "    <tr>\n",
       "      <th>{'max_depth': 15}</th>\n",
       "      <td>1.433400</td>\n",
       "      <td>0.866380</td>\n",
       "      <td>NaN</td>\n",
       "      <td>4</td>\n",
       "    </tr>\n",
       "  </tbody>\n",
       "</table>\n",
       "</div>"
      ],
      "text/plain": [
       "                   mean_fit_time  mean_test_score mean_train_score  \\\n",
       "params                                                               \n",
       "{'max_depth': 5}        0.437003         0.870311              NaN   \n",
       "{'max_depth': 10}       0.869611         0.869461              NaN   \n",
       "{'max_depth': 7}        0.585576         0.868292              NaN   \n",
       "{'max_depth': 15}       1.433400         0.866380              NaN   \n",
       "\n",
       "                   rank_test_score  \n",
       "params                              \n",
       "{'max_depth': 5}                 1  \n",
       "{'max_depth': 10}                2  \n",
       "{'max_depth': 7}                 3  \n",
       "{'max_depth': 15}                4  "
      ]
     },
     "execution_count": 77,
     "metadata": {},
     "output_type": "execute_result"
    }
   ],
   "source": [
    "pd.DataFrame(grid_search_xgb.cv_results_, columns=['params','mean_fit_time','mean_test_score','mean_train_score','rank_test_score']).sort_values(by='rank_test_score').set_index('params').head()"
   ]
  },
  {
   "cell_type": "code",
   "execution_count": 78,
   "id": "291bec3b",
   "metadata": {
    "execution": {
     "iopub.execute_input": "2024-12-11T07:28:59.839161Z",
     "iopub.status.busy": "2024-12-11T07:28:59.838152Z",
     "iopub.status.idle": "2024-12-11T07:29:00.415490Z",
     "shell.execute_reply": "2024-12-11T07:29:00.414417Z"
    },
    "papermill": {
     "duration": 0.616556,
     "end_time": "2024-12-11T07:29:00.417639",
     "exception": false,
     "start_time": "2024-12-11T07:28:59.801083",
     "status": "completed"
    },
    "tags": []
   },
   "outputs": [
    {
     "name": "stdout",
     "output_type": "stream",
     "text": [
      "Accuracy = 86.6%\n",
      "F1 Score = 86.6%\n",
      "\n",
      " \u001b[1mConfusiton Matrix:\u001b[0m\n",
      " [[6010  667]\n",
      " [ 383  783]]\n",
      "\n",
      "\u001b[1mClassification Report:\u001b[0m\n",
      "               precision    recall  f1-score   support\n",
      "\n",
      "           0       0.94      0.90      0.92      6677\n",
      "           1       0.54      0.67      0.60      1166\n",
      "\n",
      "    accuracy                           0.87      7843\n",
      "   macro avg       0.74      0.79      0.76      7843\n",
      "weighted avg       0.88      0.87      0.87      7843\n",
      "\n"
     ]
    }
   ],
   "source": [
    "xgb  = XGBClassifier(max_depth = 5,scale_pos_weight=2)\n",
    "\n",
    "xgb.fit(x_train_transformed, y_train)\n",
    "y_pred = xgb.predict(x_test_transformed)\n",
    "\n",
    "evaluate(y_test, y_pred)"
   ]
  },
  {
   "cell_type": "markdown",
   "id": "bbede4ed",
   "metadata": {
    "papermill": {
     "duration": 0.036198,
     "end_time": "2024-12-11T07:29:00.490606",
     "exception": false,
     "start_time": "2024-12-11T07:29:00.454408",
     "status": "completed"
    },
    "tags": []
   },
   "source": [
    "# Model Comparison"
   ]
  },
  {
   "cell_type": "code",
   "execution_count": 79,
   "id": "6c71474c",
   "metadata": {
    "execution": {
     "iopub.execute_input": "2024-12-11T07:29:00.565082Z",
     "iopub.status.busy": "2024-12-11T07:29:00.564326Z",
     "iopub.status.idle": "2024-12-11T07:29:02.183007Z",
     "shell.execute_reply": "2024-12-11T07:29:02.181956Z"
    },
    "papermill": {
     "duration": 1.658237,
     "end_time": "2024-12-11T07:29:02.185143",
     "exception": false,
     "start_time": "2024-12-11T07:29:00.526906",
     "status": "completed"
    },
    "tags": []
   },
   "outputs": [
    {
     "name": "stderr",
     "output_type": "stream",
     "text": [
      "/opt/conda/lib/python3.10/site-packages/sklearn/preprocessing/_label.py:99: DataConversionWarning: A column-vector y was passed when a 1d array was expected. Please change the shape of y to (n_samples, ), for example using ravel().\n",
      "  y = column_or_1d(y, warn=True)\n",
      "/opt/conda/lib/python3.10/site-packages/sklearn/preprocessing/_label.py:134: DataConversionWarning: A column-vector y was passed when a 1d array was expected. Please change the shape of y to (n_samples, ), for example using ravel().\n",
      "  y = column_or_1d(y, dtype=self.classes_.dtype, warn=True)\n",
      "/opt/conda/lib/python3.10/site-packages/sklearn/utils/validation.py:1143: DataConversionWarning: A column-vector y was passed when a 1d array was expected. Please change the shape of y to (n_samples, ), for example using ravel().\n",
      "  y = column_or_1d(y, warn=True)\n"
     ]
    },
    {
     "data": {
      "image/png": "[encoded data removed]",
      "text/plain": [
       "<Figure size 1000x600 with 2 Axes>"
      ]
     },
     "metadata": {},
     "output_type": "display_data"
    }
   ],
   "source": [
    "import matplotlib.pyplot as plt\n",
    "import seaborn as sns\n",
    "from sklearn.metrics import f1_score, roc_auc_score, accuracy_score\n",
    "\n",
    "# Model definitions (same as before)\n",
    "model1 = LGBMClassifier(verbose=-1)\n",
    "model2 = LogisticRegression(C=0.01, penalty='l2', solver='liblinear')\n",
    "model3 = XGBClassifier()\n",
    "\n",
    "models = [model1, model2, model3]\n",
    "model_names = ['LightGBM', 'Logistic Regression', 'XGBoost']\n",
    "\n",
    "f1_scores = []\n",
    "auc_scores = []\n",
    "accuracies = []\n",
    "\n",
    "# Fit models and compute metrics\n",
    "for model in models:\n",
    "    model.fit(x_train_transformed, y_train)\n",
    "    y_pred = model.predict(x_test_transformed)\n",
    "    \n",
    "    f1 = f1_score(y_test, y_pred, average='macro')\n",
    "    accuracy = accuracy_score(y_test, y_pred)\n",
    "    auc = roc_auc_score(y_test, y_pred)\n",
    "    \n",
    "    f1_scores.append(f1)\n",
    "    auc_scores.append(auc)\n",
    "    accuracies.append(accuracy)\n",
    "\n",
    "# Create a DataFrame for heatmap\n",
    "import pandas as pd\n",
    "\n",
    "metrics_df = pd.DataFrame({\n",
    "    'F1-Macro': f1_scores,\n",
    "    'AUC Score': auc_scores,\n",
    "    'Accuracy': accuracies\n",
    "}, index=model_names)\n",
    "\n",
    "# Plot heatmap\n",
    "plt.figure(figsize=(10, 6))\n",
    "sns.heatmap(metrics_df, annot=True, fmt=\".2f\", cmap='coolwarm', cbar=True, linewidths=0.5)\n",
    "\n",
    "# Add labels and title\n",
    "plt.title('Model Performance Metrics Heatmap', fontsize=16)\n",
    "plt.xlabel('Metrics', fontsize=14)\n",
    "plt.ylabel('Models', fontsize=14)\n",
    "\n",
    "plt.show()\n"
   ]
  },
  {
   "cell_type": "code",
   "execution_count": 80,
   "id": "f41a2133",
   "metadata": {
    "execution": {
     "iopub.execute_input": "2024-12-11T07:29:02.261590Z",
     "iopub.status.busy": "2024-12-11T07:29:02.260584Z",
     "iopub.status.idle": "2024-12-11T07:29:03.879900Z",
     "shell.execute_reply": "2024-12-11T07:29:03.878815Z"
    },
    "papermill": {
     "duration": 1.659674,
     "end_time": "2024-12-11T07:29:03.882082",
     "exception": false,
     "start_time": "2024-12-11T07:29:02.222408",
     "status": "completed"
    },
    "tags": []
   },
   "outputs": [
    {
     "name": "stderr",
     "output_type": "stream",
     "text": [
      "/opt/conda/lib/python3.10/site-packages/sklearn/preprocessing/_label.py:99: DataConversionWarning: A column-vector y was passed when a 1d array was expected. Please change the shape of y to (n_samples, ), for example using ravel().\n",
      "  y = column_or_1d(y, warn=True)\n",
      "/opt/conda/lib/python3.10/site-packages/sklearn/preprocessing/_label.py:134: DataConversionWarning: A column-vector y was passed when a 1d array was expected. Please change the shape of y to (n_samples, ), for example using ravel().\n",
      "  y = column_or_1d(y, dtype=self.classes_.dtype, warn=True)\n",
      "/opt/conda/lib/python3.10/site-packages/sklearn/utils/validation.py:1143: DataConversionWarning: A column-vector y was passed when a 1d array was expected. Please change the shape of y to (n_samples, ), for example using ravel().\n",
      "  y = column_or_1d(y, warn=True)\n"
     ]
    },
    {
     "data": {
      "image/png": "[encoded data removed]",
      "text/plain": [
       "<Figure size 800x600 with 1 Axes>"
      ]
     },
     "metadata": {},
     "output_type": "display_data"
    }
   ],
   "source": [
    "import matplotlib.pyplot as plt\n",
    "import seaborn as sns\n",
    "from sklearn.metrics import f1_score, roc_auc_score, accuracy_score\n",
    "\n",
    "# Model definitions (same as before)\n",
    "model1 = LGBMClassifier(verbose=-1)\n",
    "model2 = LogisticRegression(C=0.01, penalty='l2', solver='liblinear')\n",
    "model3 = XGBClassifier()\n",
    "# model4 = LinearSVC(dual=False, C=0.01, loss='squared_hinge', penalty='l2', max_iter=1000)\n",
    "\n",
    "\n",
    "models = [model1, model2, model3]\n",
    "model_names = ['LightGBM', 'Logistic Regression', 'XGBoost']\n",
    "\n",
    "f1_scores = []\n",
    "auc_scores = []\n",
    "accuracies = []\n",
    "\n",
    "# Fit models and compute metrics\n",
    "for model in models:\n",
    "    model.fit(x_train_transformed, y_train)\n",
    "    y_pred = model.predict(x_test_transformed)\n",
    "    \n",
    "    f1 = f1_score(y_test, y_pred, average='macro')\n",
    "    accuracy = accuracy_score(y_test, y_pred)\n",
    "    auc = roc_auc_score(y_test, y_pred)\n",
    "    \n",
    "    f1_scores.append(f1)\n",
    "    auc_scores.append(auc)\n",
    "    accuracies.append(accuracy)\n",
    "\n",
    "# Plotting\n",
    "sns.set(style='white')\n",
    "fig, ax = plt.subplots(figsize=(8,6))\n",
    "\n",
    "# Line plot with new color palette and markers\n",
    "ax.plot(model_names, f1_scores, marker='D', linestyle='-', label='F1-Macro', color='#00BFA5', linewidth=2)  # Teal\n",
    "ax.plot(model_names, auc_scores, marker='*', linestyle='--', label='AUC Score', color='#FF5252', linewidth=2)  # Red\n",
    "ax.plot(model_names, accuracies, marker='P', linestyle='-.', label='Accuracy', color='#536DFE', linewidth=2)  # Indigo\n",
    "\n",
    "# Customize labels and title\n",
    "ax.set_xlabel('Models', fontsize=14, color='#37474F', fontweight='bold')\n",
    "ax.set_ylabel('Score', fontsize=14, color='#37474F', fontweight='bold')\n",
    "ax.set_title('Model Comparison: F1-Macro, AUC, and Accuracy', fontsize=16, fontweight='bold', color='#212121')\n",
    "\n",
    "# Legend with border and shadow\n",
    "ax.legend(loc='lower right', fontsize=12, frameon=True, shadow=True, fancybox=True)\n",
    "\n",
    "# Annotate each point\n",
    "for i, model in enumerate(model_names):\n",
    "    ax.text(i, f1_scores[i] + 0.01, f'{f1_scores[i]:.2f}', ha='center', fontsize=10, color='#00BFA5', fontweight='bold')\n",
    "    ax.text(i, auc_scores[i] + 0.01, f'{auc_scores[i]:.2f}', ha='center', fontsize=10, color='#FF5252', fontweight='bold')\n",
    "    ax.text(i, accuracies[i] + 0.01, f'{accuracies[i]:.2f}', ha='center', fontsize=10, color='#536DFE', fontweight='bold')\n",
    "\n",
    "# Set x-ticks with rotation for better readability\n",
    "ax.set_xticks(range(len(model_names)))\n",
    "ax.set_xticklabels(model_names, fontsize=12, rotation=15, color='#37474F')\n",
    "\n",
    "# Light background grid\n",
    "ax.grid(color='gray', linestyle='dashed', linewidth=0.5, alpha=0.5)\n",
    "\n",
    "plt.show()\n",
    "\n"
   ]
  },
  {
   "cell_type": "markdown",
   "id": "9087249e",
   "metadata": {
    "papermill": {
     "duration": 0.038384,
     "end_time": "2024-12-11T07:29:03.960883",
     "exception": false,
     "start_time": "2024-12-11T07:29:03.922499",
     "status": "completed"
    },
    "tags": []
   },
   "source": [
    "# **Training on complete Dataset**"
   ]
  },
  {
   "cell_type": "code",
   "execution_count": 81,
   "id": "9d7ab08a",
   "metadata": {
    "execution": {
     "iopub.execute_input": "2024-12-11T07:29:04.041777Z",
     "iopub.status.busy": "2024-12-11T07:29:04.041361Z",
     "iopub.status.idle": "2024-12-11T07:29:04.686299Z",
     "shell.execute_reply": "2024-12-11T07:29:04.685156Z"
    },
    "papermill": {
     "duration": 0.687902,
     "end_time": "2024-12-11T07:29:04.688773",
     "exception": false,
     "start_time": "2024-12-11T07:29:04.000871",
     "status": "completed"
    },
    "tags": []
   },
   "outputs": [
    {
     "name": "stdout",
     "output_type": "stream",
     "text": [
      "              precision    recall  f1-score   support\n",
      "\n",
      "           0       0.93      0.90      0.92      6677\n",
      "           1       0.53      0.64      0.58      1166\n",
      "\n",
      "    accuracy                           0.86      7843\n",
      "   macro avg       0.73      0.77      0.75      7843\n",
      "weighted avg       0.87      0.86      0.87      7843\n",
      "\n"
     ]
    }
   ],
   "source": [
    "# from xgboost import XGBClassifier\n",
    "# from sklearn.metrics import classification_report\n",
    "model = XGBClassifier(scale_pos_weight=2)\n",
    "model.fit(x_train_transformed,y_train)\n",
    "print(classification_report(y_test,model.predict(x_test_transformed)))"
   ]
  },
  {
   "cell_type": "code",
   "execution_count": 82,
   "id": "02ee5f7e",
   "metadata": {
    "execution": {
     "iopub.execute_input": "2024-12-11T07:29:04.772117Z",
     "iopub.status.busy": "2024-12-11T07:29:04.771699Z",
     "iopub.status.idle": "2024-12-11T07:29:04.791805Z",
     "shell.execute_reply": "2024-12-11T07:29:04.790836Z"
    },
    "papermill": {
     "duration": 0.065588,
     "end_time": "2024-12-11T07:29:04.793981",
     "exception": false,
     "start_time": "2024-12-11T07:29:04.728393",
     "status": "completed"
    },
    "tags": []
   },
   "outputs": [],
   "source": [
    "x_final_transformed = Transformer.transform(test)"
   ]
  },
  {
   "cell_type": "code",
   "execution_count": 83,
   "id": "f9e87f76",
   "metadata": {
    "execution": {
     "iopub.execute_input": "2024-12-11T07:29:04.872781Z",
     "iopub.status.busy": "2024-12-11T07:29:04.872047Z",
     "iopub.status.idle": "2024-12-11T07:29:04.903185Z",
     "shell.execute_reply": "2024-12-11T07:29:04.902202Z"
    },
    "papermill": {
     "duration": 0.073228,
     "end_time": "2024-12-11T07:29:04.905508",
     "exception": false,
     "start_time": "2024-12-11T07:29:04.832280",
     "status": "completed"
    },
    "tags": []
   },
   "outputs": [],
   "source": [
    "y_pred = model.predict(x_final_transformed)\n",
    "y_pred = label_enc.inverse_transform(y_pred)"
   ]
  },
  {
   "cell_type": "code",
   "execution_count": 84,
   "id": "04047161",
   "metadata": {
    "execution": {
     "iopub.execute_input": "2024-12-11T07:29:04.984917Z",
     "iopub.status.busy": "2024-12-11T07:29:04.984108Z",
     "iopub.status.idle": "2024-12-11T07:29:04.990517Z",
     "shell.execute_reply": "2024-12-11T07:29:04.989508Z"
    },
    "papermill": {
     "duration": 0.048436,
     "end_time": "2024-12-11T07:29:04.992560",
     "exception": false,
     "start_time": "2024-12-11T07:29:04.944124",
     "status": "completed"
    },
    "tags": []
   },
   "outputs": [
    {
     "data": {
      "text/plain": [
       "array(['no', 'no', 'no', ..., 'no', 'no', 'no'], dtype=object)"
      ]
     },
     "execution_count": 84,
     "metadata": {},
     "output_type": "execute_result"
    }
   ],
   "source": [
    "y_pred"
   ]
  },
  {
   "cell_type": "code",
   "execution_count": 85,
   "id": "7b950f2d",
   "metadata": {
    "execution": {
     "iopub.execute_input": "2024-12-11T07:29:05.072604Z",
     "iopub.status.busy": "2024-12-11T07:29:05.072183Z",
     "iopub.status.idle": "2024-12-11T07:29:05.096206Z",
     "shell.execute_reply": "2024-12-11T07:29:05.095072Z"
    },
    "papermill": {
     "duration": 0.066521,
     "end_time": "2024-12-11T07:29:05.098715",
     "exception": false,
     "start_time": "2024-12-11T07:29:05.032194",
     "status": "completed"
    },
    "tags": []
   },
   "outputs": [],
   "source": [
    "sub = pd.read_csv(\"/kaggle/input/predict-the-success-of-bank-telemarketing/sample_submission.csv\")\n",
    "sub['target'] = y_pred\n",
    "sub.to_csv(\"submission.csv\",index=False)"
   ]
  },
  {
   "cell_type": "markdown",
   "id": "a0779bb2",
   "metadata": {
    "papermill": {
     "duration": 0.039155,
     "end_time": "2024-12-11T07:29:05.178488",
     "exception": false,
     "start_time": "2024-12-11T07:29:05.139333",
     "status": "completed"
    },
    "tags": []
   },
   "source": [
    "# End"
   ]
  }
 ],
 "metadata": {
  "kaggle": {
   "accelerator": "none",
   "dataSources": [
    {
     "databundleVersionId": 9578279,
     "sourceId": 85062,
     "sourceType": "competition"
    }
   ],
   "dockerImageVersionId": 30761,
   "isGpuEnabled": false,
   "isInternetEnabled": true,
   "language": "python",
   "sourceType": "notebook"
  },
  "kernelspec": {
   "display_name": "Python 3",
   "language": "python",
   "name": "python3"
  },
  "language_info": {
   "codemirror_mode": {
    "name": "ipython",
    "version": 3
   },
   "file_extension": ".py",
   "mimetype": "text/x-python",
   "name": "python",
   "nbconvert_exporter": "python",
   "pygments_lexer": "ipython3",
   "version": "3.10.14"
  },
  "papermill": {
   "default_parameters": {},
   "duration": 94.805439,
   "end_time": "2024-12-11T07:29:07.838745",
   "environment_variables": {},
   "exception": null,
   "input_path": "__notebook__.ipynb",
   "output_path": "__notebook__.ipynb",
   "parameters": {},
   "start_time": "2024-12-11T07:27:33.033306",
   "version": "2.6.0"
  }
 },
 "nbformat": 4,
 "nbformat_minor": 5
}
